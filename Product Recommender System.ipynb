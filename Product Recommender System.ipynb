{
 "cells": [
  {
   "cell_type": "markdown",
   "metadata": {},
   "source": [
    "<h2>產品推薦系統模型</h2>\n",
    "\n",
    "<h4>1. 目標</h4>\n",
    "使用Turicreate的recommender的套件，及Olist電商提供的客戶資料、產品資料、<br/>\n",
    "訂單資料及評價資料建立一個產品推薦模型，提供客戶10個產品推薦。\n",
    "\n",
    "<h4>2. 資料</h4>\n",
    "來源：Kaggle-<a href='https://www.kaggle.com/olistbr/brazilian-ecommerce'>Brazilian E-Commerce Public Dataset by Olist</a><br/>\n",
    "資料筆數：112,650筆(整合後)<br/>\n",
    "\n",
    "<h4>3. 流程</h4>\n",
    "step 1. 資料合併<br/>\n",
    "step 2. 資料清洗<br/>\n",
    "step 3. RFM客戶模型分析<br/>\n",
    "step 4. 建立推薦模型<br/>\n",
    "step 5. 模型評估<br/>\n",
    "\n",
    "Reference:\n",
    "1. <a href=\"https://www.kaggle.com/regivm/rfm-analysis-tutorial\">RFM Analysis Tutorial</a>\n",
    "2. <a href=\"https://www.sciencedirect.com/science/article/pii/S1877050916323018\">Product Recommendation based on Shared Customer's Behaviour</a>\n",
    "3. <a href='https://towardsdatascience.com/apply-rfm-principles-to-cluster-customers-with-k-means-fef9bcc9ab16'>Apply RFM principles to cluster customers with K-Means</a> \n",
    "4. <a href='https://medium.com/datadriveninvestor/how-to-build-a-recommendation-system-for-purchase-data-step-by-step-d6d7a78800b6'>How to Build a Recommendation System for Purchase Data (Step-by-Step)</a>"
   ]
  },
  {
   "cell_type": "code",
   "execution_count": 194,
   "metadata": {},
   "outputs": [],
   "source": [
    "#輸入需要的套件\n",
    "import pandas as pd\n",
    "import datetime as dt\n",
    "import numpy as np\n",
    "import matplotlib.pyplot as plt\n",
    "from sklearn.preprocessing import MinMaxScaler, StandardScaler\n",
    "from sklearn.cluster import KMeans\n",
    "from sklearn.model_selection import train_test_split\n",
    "from sklearn.feature_extraction import DictVectorizer\n",
    "import turicreate as tc\n",
    "import random"
   ]
  },
  {
   "cell_type": "markdown",
   "metadata": {},
   "source": [
    "<h4>Step. 1 資料合併</h4>\n",
    "為了建置推薦系統，會使用到的表格包含：<br/>\n",
    "<ol>\n",
    "    <li>olist_customers_dataset</li>\n",
    "    <li>olist_order_reviews_dataset</li>\n",
    "    <li>olist_products_dataset</li>\n",
    "    <li>olist_order_items_dataset</li>\n",
    "    <li>olist_orders_dataset</li>\n",
    "</ol>\n",
    "將以上表格整合成後，去除多餘的欄位。"
   ]
  },
  {
   "cell_type": "code",
   "execution_count": 195,
   "metadata": {},
   "outputs": [
    {
     "data": {
      "text/html": [
       "<div>\n",
       "<style scoped>\n",
       "    .dataframe tbody tr th:only-of-type {\n",
       "        vertical-align: middle;\n",
       "    }\n",
       "\n",
       "    .dataframe tbody tr th {\n",
       "        vertical-align: top;\n",
       "    }\n",
       "\n",
       "    .dataframe thead th {\n",
       "        text-align: right;\n",
       "    }\n",
       "</style>\n",
       "<table border=\"1\" class=\"dataframe\">\n",
       "  <thead>\n",
       "    <tr style=\"text-align: right;\">\n",
       "      <th></th>\n",
       "      <th>customer_id</th>\n",
       "      <th>customer_unique_id</th>\n",
       "      <th>customer_zip_code_prefix</th>\n",
       "      <th>customer_city</th>\n",
       "      <th>customer_state</th>\n",
       "    </tr>\n",
       "  </thead>\n",
       "  <tbody>\n",
       "    <tr>\n",
       "      <th>0</th>\n",
       "      <td>06b8999e2fba1a1fbc88172c00ba8bc7</td>\n",
       "      <td>861eff4711a542e4b93843c6dd7febb0</td>\n",
       "      <td>14409</td>\n",
       "      <td>franca</td>\n",
       "      <td>SP</td>\n",
       "    </tr>\n",
       "    <tr>\n",
       "      <th>1</th>\n",
       "      <td>18955e83d337fd6b2def6b18a428ac77</td>\n",
       "      <td>290c77bc529b7ac935b93aa66c333dc3</td>\n",
       "      <td>9790</td>\n",
       "      <td>sao bernardo do campo</td>\n",
       "      <td>SP</td>\n",
       "    </tr>\n",
       "    <tr>\n",
       "      <th>2</th>\n",
       "      <td>4e7b3e00288586ebd08712fdd0374a03</td>\n",
       "      <td>060e732b5b29e8181a18229c7b0b2b5e</td>\n",
       "      <td>1151</td>\n",
       "      <td>sao paulo</td>\n",
       "      <td>SP</td>\n",
       "    </tr>\n",
       "    <tr>\n",
       "      <th>3</th>\n",
       "      <td>b2b6027bc5c5109e529d4dc6358b12c3</td>\n",
       "      <td>259dac757896d24d7702b9acbbff3f3c</td>\n",
       "      <td>8775</td>\n",
       "      <td>mogi das cruzes</td>\n",
       "      <td>SP</td>\n",
       "    </tr>\n",
       "    <tr>\n",
       "      <th>4</th>\n",
       "      <td>4f2d8ab171c80ec8364f7c12e35b23ad</td>\n",
       "      <td>345ecd01c38d18a9036ed96c73b8d066</td>\n",
       "      <td>13056</td>\n",
       "      <td>campinas</td>\n",
       "      <td>SP</td>\n",
       "    </tr>\n",
       "  </tbody>\n",
       "</table>\n",
       "</div>"
      ],
      "text/plain": [
       "                        customer_id                customer_unique_id  \\\n",
       "0  06b8999e2fba1a1fbc88172c00ba8bc7  861eff4711a542e4b93843c6dd7febb0   \n",
       "1  18955e83d337fd6b2def6b18a428ac77  290c77bc529b7ac935b93aa66c333dc3   \n",
       "2  4e7b3e00288586ebd08712fdd0374a03  060e732b5b29e8181a18229c7b0b2b5e   \n",
       "3  b2b6027bc5c5109e529d4dc6358b12c3  259dac757896d24d7702b9acbbff3f3c   \n",
       "4  4f2d8ab171c80ec8364f7c12e35b23ad  345ecd01c38d18a9036ed96c73b8d066   \n",
       "\n",
       "   customer_zip_code_prefix          customer_city customer_state  \n",
       "0                     14409                 franca             SP  \n",
       "1                      9790  sao bernardo do campo             SP  \n",
       "2                      1151              sao paulo             SP  \n",
       "3                      8775        mogi das cruzes             SP  \n",
       "4                     13056               campinas             SP  "
      ]
     },
     "execution_count": 195,
     "metadata": {},
     "output_type": "execute_result"
    }
   ],
   "source": [
    "customer = pd.read_csv('brazilian-ecommerce/olist_customers_dataset.csv')\n",
    "customer.head()"
   ]
  },
  {
   "cell_type": "code",
   "execution_count": 196,
   "metadata": {
    "scrolled": true
   },
   "outputs": [
    {
     "data": {
      "text/html": [
       "<div>\n",
       "<style scoped>\n",
       "    .dataframe tbody tr th:only-of-type {\n",
       "        vertical-align: middle;\n",
       "    }\n",
       "\n",
       "    .dataframe tbody tr th {\n",
       "        vertical-align: top;\n",
       "    }\n",
       "\n",
       "    .dataframe thead th {\n",
       "        text-align: right;\n",
       "    }\n",
       "</style>\n",
       "<table border=\"1\" class=\"dataframe\">\n",
       "  <thead>\n",
       "    <tr style=\"text-align: right;\">\n",
       "      <th></th>\n",
       "      <th>order_id</th>\n",
       "      <th>review_score</th>\n",
       "    </tr>\n",
       "  </thead>\n",
       "  <tbody>\n",
       "    <tr>\n",
       "      <th>0</th>\n",
       "      <td>73fc7af87114b39712e6da79b0a377eb</td>\n",
       "      <td>4</td>\n",
       "    </tr>\n",
       "    <tr>\n",
       "      <th>1</th>\n",
       "      <td>a548910a1c6147796b98fdf73dbeba33</td>\n",
       "      <td>5</td>\n",
       "    </tr>\n",
       "    <tr>\n",
       "      <th>2</th>\n",
       "      <td>f9e4b658b201a9f2ecdecbb34bed034b</td>\n",
       "      <td>5</td>\n",
       "    </tr>\n",
       "    <tr>\n",
       "      <th>3</th>\n",
       "      <td>658677c97b385a9be170737859d3511b</td>\n",
       "      <td>5</td>\n",
       "    </tr>\n",
       "    <tr>\n",
       "      <th>4</th>\n",
       "      <td>8e6bfb81e283fa7e4f11123a3fb894f1</td>\n",
       "      <td>5</td>\n",
       "    </tr>\n",
       "  </tbody>\n",
       "</table>\n",
       "</div>"
      ],
      "text/plain": [
       "                           order_id  review_score\n",
       "0  73fc7af87114b39712e6da79b0a377eb             4\n",
       "1  a548910a1c6147796b98fdf73dbeba33             5\n",
       "2  f9e4b658b201a9f2ecdecbb34bed034b             5\n",
       "3  658677c97b385a9be170737859d3511b             5\n",
       "4  8e6bfb81e283fa7e4f11123a3fb894f1             5"
      ]
     },
     "execution_count": 196,
     "metadata": {},
     "output_type": "execute_result"
    }
   ],
   "source": [
    "review = pd.read_csv('brazilian-ecommerce/olist_order_reviews_dataset.csv')\n",
    "review=review.iloc[:, 1:3]\n",
    "review.head()"
   ]
  },
  {
   "cell_type": "code",
   "execution_count": 197,
   "metadata": {},
   "outputs": [
    {
     "data": {
      "text/plain": [
       "product_id                 0\n",
       "product_category_name    610\n",
       "dtype: int64"
      ]
     },
     "execution_count": 197,
     "metadata": {},
     "output_type": "execute_result"
    }
   ],
   "source": [
    "product = pd.read_csv('brazilian-ecommerce/olist_products_dataset.csv')\n",
    "product = product.iloc[:,:2]\n",
    "product.head()\n",
    "product.isna().sum()"
   ]
  },
  {
   "cell_type": "code",
   "execution_count": 198,
   "metadata": {},
   "outputs": [
    {
     "data": {
      "text/html": [
       "<div>\n",
       "<style scoped>\n",
       "    .dataframe tbody tr th:only-of-type {\n",
       "        vertical-align: middle;\n",
       "    }\n",
       "\n",
       "    .dataframe tbody tr th {\n",
       "        vertical-align: top;\n",
       "    }\n",
       "\n",
       "    .dataframe thead th {\n",
       "        text-align: right;\n",
       "    }\n",
       "</style>\n",
       "<table border=\"1\" class=\"dataframe\">\n",
       "  <thead>\n",
       "    <tr style=\"text-align: right;\">\n",
       "      <th></th>\n",
       "      <th>order_id</th>\n",
       "      <th>order_item_id</th>\n",
       "      <th>product_id</th>\n",
       "      <th>seller_id</th>\n",
       "      <th>shipping_limit_date</th>\n",
       "      <th>price</th>\n",
       "      <th>freight_value</th>\n",
       "    </tr>\n",
       "  </thead>\n",
       "  <tbody>\n",
       "    <tr>\n",
       "      <th>0</th>\n",
       "      <td>00010242fe8c5a6d1ba2dd792cb16214</td>\n",
       "      <td>1</td>\n",
       "      <td>4244733e06e7ecb4970a6e2683c13e61</td>\n",
       "      <td>48436dade18ac8b2bce089ec2a041202</td>\n",
       "      <td>2017-09-19 09:45:35</td>\n",
       "      <td>58.90</td>\n",
       "      <td>13.29</td>\n",
       "    </tr>\n",
       "    <tr>\n",
       "      <th>1</th>\n",
       "      <td>00018f77f2f0320c557190d7a144bdd3</td>\n",
       "      <td>1</td>\n",
       "      <td>e5f2d52b802189ee658865ca93d83a8f</td>\n",
       "      <td>dd7ddc04e1b6c2c614352b383efe2d36</td>\n",
       "      <td>2017-05-03 11:05:13</td>\n",
       "      <td>239.90</td>\n",
       "      <td>19.93</td>\n",
       "    </tr>\n",
       "    <tr>\n",
       "      <th>2</th>\n",
       "      <td>000229ec398224ef6ca0657da4fc703e</td>\n",
       "      <td>1</td>\n",
       "      <td>c777355d18b72b67abbeef9df44fd0fd</td>\n",
       "      <td>5b51032eddd242adc84c38acab88f23d</td>\n",
       "      <td>2018-01-18 14:48:30</td>\n",
       "      <td>199.00</td>\n",
       "      <td>17.87</td>\n",
       "    </tr>\n",
       "    <tr>\n",
       "      <th>3</th>\n",
       "      <td>00024acbcdf0a6daa1e931b038114c75</td>\n",
       "      <td>1</td>\n",
       "      <td>7634da152a4610f1595efa32f14722fc</td>\n",
       "      <td>9d7a1d34a5052409006425275ba1c2b4</td>\n",
       "      <td>2018-08-15 10:10:18</td>\n",
       "      <td>12.99</td>\n",
       "      <td>12.79</td>\n",
       "    </tr>\n",
       "    <tr>\n",
       "      <th>4</th>\n",
       "      <td>00042b26cf59d7ce69dfabb4e55b4fd9</td>\n",
       "      <td>1</td>\n",
       "      <td>ac6c3623068f30de03045865e4e10089</td>\n",
       "      <td>df560393f3a51e74553ab94004ba5c87</td>\n",
       "      <td>2017-02-13 13:57:51</td>\n",
       "      <td>199.90</td>\n",
       "      <td>18.14</td>\n",
       "    </tr>\n",
       "  </tbody>\n",
       "</table>\n",
       "</div>"
      ],
      "text/plain": [
       "                           order_id  order_item_id  \\\n",
       "0  00010242fe8c5a6d1ba2dd792cb16214              1   \n",
       "1  00018f77f2f0320c557190d7a144bdd3              1   \n",
       "2  000229ec398224ef6ca0657da4fc703e              1   \n",
       "3  00024acbcdf0a6daa1e931b038114c75              1   \n",
       "4  00042b26cf59d7ce69dfabb4e55b4fd9              1   \n",
       "\n",
       "                         product_id                         seller_id  \\\n",
       "0  4244733e06e7ecb4970a6e2683c13e61  48436dade18ac8b2bce089ec2a041202   \n",
       "1  e5f2d52b802189ee658865ca93d83a8f  dd7ddc04e1b6c2c614352b383efe2d36   \n",
       "2  c777355d18b72b67abbeef9df44fd0fd  5b51032eddd242adc84c38acab88f23d   \n",
       "3  7634da152a4610f1595efa32f14722fc  9d7a1d34a5052409006425275ba1c2b4   \n",
       "4  ac6c3623068f30de03045865e4e10089  df560393f3a51e74553ab94004ba5c87   \n",
       "\n",
       "   shipping_limit_date   price  freight_value  \n",
       "0  2017-09-19 09:45:35   58.90          13.29  \n",
       "1  2017-05-03 11:05:13  239.90          19.93  \n",
       "2  2018-01-18 14:48:30  199.00          17.87  \n",
       "3  2018-08-15 10:10:18   12.99          12.79  \n",
       "4  2017-02-13 13:57:51  199.90          18.14  "
      ]
     },
     "execution_count": 198,
     "metadata": {},
     "output_type": "execute_result"
    }
   ],
   "source": [
    "order_product = pd.read_csv('brazilian-ecommerce/olist_order_items_dataset.csv')\n",
    "order_product.head()"
   ]
  },
  {
   "cell_type": "code",
   "execution_count": 199,
   "metadata": {},
   "outputs": [
    {
     "data": {
      "text/html": [
       "<div>\n",
       "<style scoped>\n",
       "    .dataframe tbody tr th:only-of-type {\n",
       "        vertical-align: middle;\n",
       "    }\n",
       "\n",
       "    .dataframe tbody tr th {\n",
       "        vertical-align: top;\n",
       "    }\n",
       "\n",
       "    .dataframe thead th {\n",
       "        text-align: right;\n",
       "    }\n",
       "</style>\n",
       "<table border=\"1\" class=\"dataframe\">\n",
       "  <thead>\n",
       "    <tr style=\"text-align: right;\">\n",
       "      <th></th>\n",
       "      <th>order_id</th>\n",
       "      <th>customer_id</th>\n",
       "      <th>order_status</th>\n",
       "      <th>order_purchase_timestamp</th>\n",
       "      <th>order_approved_at</th>\n",
       "      <th>order_delivered_carrier_date</th>\n",
       "      <th>order_delivered_customer_date</th>\n",
       "      <th>order_estimated_delivery_date</th>\n",
       "    </tr>\n",
       "  </thead>\n",
       "  <tbody>\n",
       "    <tr>\n",
       "      <th>0</th>\n",
       "      <td>e481f51cbdc54678b7cc49136f2d6af7</td>\n",
       "      <td>9ef432eb6251297304e76186b10a928d</td>\n",
       "      <td>delivered</td>\n",
       "      <td>2017-10-02 10:56:33</td>\n",
       "      <td>2017-10-02 11:07:15</td>\n",
       "      <td>2017-10-04 19:55:00</td>\n",
       "      <td>2017-10-10 21:25:13</td>\n",
       "      <td>2017-10-18 00:00:00</td>\n",
       "    </tr>\n",
       "    <tr>\n",
       "      <th>1</th>\n",
       "      <td>53cdb2fc8bc7dce0b6741e2150273451</td>\n",
       "      <td>b0830fb4747a6c6d20dea0b8c802d7ef</td>\n",
       "      <td>delivered</td>\n",
       "      <td>2018-07-24 20:41:37</td>\n",
       "      <td>2018-07-26 03:24:27</td>\n",
       "      <td>2018-07-26 14:31:00</td>\n",
       "      <td>2018-08-07 15:27:45</td>\n",
       "      <td>2018-08-13 00:00:00</td>\n",
       "    </tr>\n",
       "    <tr>\n",
       "      <th>2</th>\n",
       "      <td>47770eb9100c2d0c44946d9cf07ec65d</td>\n",
       "      <td>41ce2a54c0b03bf3443c3d931a367089</td>\n",
       "      <td>delivered</td>\n",
       "      <td>2018-08-08 08:38:49</td>\n",
       "      <td>2018-08-08 08:55:23</td>\n",
       "      <td>2018-08-08 13:50:00</td>\n",
       "      <td>2018-08-17 18:06:29</td>\n",
       "      <td>2018-09-04 00:00:00</td>\n",
       "    </tr>\n",
       "    <tr>\n",
       "      <th>3</th>\n",
       "      <td>949d5b44dbf5de918fe9c16f97b45f8a</td>\n",
       "      <td>f88197465ea7920adcdbec7375364d82</td>\n",
       "      <td>delivered</td>\n",
       "      <td>2017-11-18 19:28:06</td>\n",
       "      <td>2017-11-18 19:45:59</td>\n",
       "      <td>2017-11-22 13:39:59</td>\n",
       "      <td>2017-12-02 00:28:42</td>\n",
       "      <td>2017-12-15 00:00:00</td>\n",
       "    </tr>\n",
       "    <tr>\n",
       "      <th>4</th>\n",
       "      <td>ad21c59c0840e6cb83a9ceb5573f8159</td>\n",
       "      <td>8ab97904e6daea8866dbdbc4fb7aad2c</td>\n",
       "      <td>delivered</td>\n",
       "      <td>2018-02-13 21:18:39</td>\n",
       "      <td>2018-02-13 22:20:29</td>\n",
       "      <td>2018-02-14 19:46:34</td>\n",
       "      <td>2018-02-16 18:17:02</td>\n",
       "      <td>2018-02-26 00:00:00</td>\n",
       "    </tr>\n",
       "  </tbody>\n",
       "</table>\n",
       "</div>"
      ],
      "text/plain": [
       "                           order_id                       customer_id  \\\n",
       "0  e481f51cbdc54678b7cc49136f2d6af7  9ef432eb6251297304e76186b10a928d   \n",
       "1  53cdb2fc8bc7dce0b6741e2150273451  b0830fb4747a6c6d20dea0b8c802d7ef   \n",
       "2  47770eb9100c2d0c44946d9cf07ec65d  41ce2a54c0b03bf3443c3d931a367089   \n",
       "3  949d5b44dbf5de918fe9c16f97b45f8a  f88197465ea7920adcdbec7375364d82   \n",
       "4  ad21c59c0840e6cb83a9ceb5573f8159  8ab97904e6daea8866dbdbc4fb7aad2c   \n",
       "\n",
       "  order_status order_purchase_timestamp    order_approved_at  \\\n",
       "0    delivered      2017-10-02 10:56:33  2017-10-02 11:07:15   \n",
       "1    delivered      2018-07-24 20:41:37  2018-07-26 03:24:27   \n",
       "2    delivered      2018-08-08 08:38:49  2018-08-08 08:55:23   \n",
       "3    delivered      2017-11-18 19:28:06  2017-11-18 19:45:59   \n",
       "4    delivered      2018-02-13 21:18:39  2018-02-13 22:20:29   \n",
       "\n",
       "  order_delivered_carrier_date order_delivered_customer_date  \\\n",
       "0          2017-10-04 19:55:00           2017-10-10 21:25:13   \n",
       "1          2018-07-26 14:31:00           2018-08-07 15:27:45   \n",
       "2          2018-08-08 13:50:00           2018-08-17 18:06:29   \n",
       "3          2017-11-22 13:39:59           2017-12-02 00:28:42   \n",
       "4          2018-02-14 19:46:34           2018-02-16 18:17:02   \n",
       "\n",
       "  order_estimated_delivery_date  \n",
       "0           2017-10-18 00:00:00  \n",
       "1           2018-08-13 00:00:00  \n",
       "2           2018-09-04 00:00:00  \n",
       "3           2017-12-15 00:00:00  \n",
       "4           2018-02-26 00:00:00  "
      ]
     },
     "execution_count": 199,
     "metadata": {},
     "output_type": "execute_result"
    }
   ],
   "source": [
    "order_customer= pd.read_csv('brazilian-ecommerce/olist_orders_dataset.csv')\n",
    "order_customer.head()"
   ]
  },
  {
   "cell_type": "code",
   "execution_count": 200,
   "metadata": {},
   "outputs": [
    {
     "data": {
      "text/html": [
       "<div>\n",
       "<style scoped>\n",
       "    .dataframe tbody tr th:only-of-type {\n",
       "        vertical-align: middle;\n",
       "    }\n",
       "\n",
       "    .dataframe tbody tr th {\n",
       "        vertical-align: top;\n",
       "    }\n",
       "\n",
       "    .dataframe thead th {\n",
       "        text-align: right;\n",
       "    }\n",
       "</style>\n",
       "<table border=\"1\" class=\"dataframe\">\n",
       "  <thead>\n",
       "    <tr style=\"text-align: right;\">\n",
       "      <th></th>\n",
       "      <th>order_id</th>\n",
       "      <th>customer_id</th>\n",
       "      <th>order_purchase_timestamp</th>\n",
       "      <th>order_delivered_customer_date</th>\n",
       "      <th>order_item_id</th>\n",
       "      <th>product_id</th>\n",
       "      <th>price</th>\n",
       "      <th>freight_value</th>\n",
       "    </tr>\n",
       "  </thead>\n",
       "  <tbody>\n",
       "    <tr>\n",
       "      <th>0</th>\n",
       "      <td>e481f51cbdc54678b7cc49136f2d6af7</td>\n",
       "      <td>9ef432eb6251297304e76186b10a928d</td>\n",
       "      <td>2017-10-02 10:56:33</td>\n",
       "      <td>2017-10-10 21:25:13</td>\n",
       "      <td>1</td>\n",
       "      <td>87285b34884572647811a353c7ac498a</td>\n",
       "      <td>29.99</td>\n",
       "      <td>8.72</td>\n",
       "    </tr>\n",
       "    <tr>\n",
       "      <th>1</th>\n",
       "      <td>53cdb2fc8bc7dce0b6741e2150273451</td>\n",
       "      <td>b0830fb4747a6c6d20dea0b8c802d7ef</td>\n",
       "      <td>2018-07-24 20:41:37</td>\n",
       "      <td>2018-08-07 15:27:45</td>\n",
       "      <td>1</td>\n",
       "      <td>595fac2a385ac33a80bd5114aec74eb8</td>\n",
       "      <td>118.70</td>\n",
       "      <td>22.76</td>\n",
       "    </tr>\n",
       "    <tr>\n",
       "      <th>2</th>\n",
       "      <td>47770eb9100c2d0c44946d9cf07ec65d</td>\n",
       "      <td>41ce2a54c0b03bf3443c3d931a367089</td>\n",
       "      <td>2018-08-08 08:38:49</td>\n",
       "      <td>2018-08-17 18:06:29</td>\n",
       "      <td>1</td>\n",
       "      <td>aa4383b373c6aca5d8797843e5594415</td>\n",
       "      <td>159.90</td>\n",
       "      <td>19.22</td>\n",
       "    </tr>\n",
       "    <tr>\n",
       "      <th>3</th>\n",
       "      <td>949d5b44dbf5de918fe9c16f97b45f8a</td>\n",
       "      <td>f88197465ea7920adcdbec7375364d82</td>\n",
       "      <td>2017-11-18 19:28:06</td>\n",
       "      <td>2017-12-02 00:28:42</td>\n",
       "      <td>1</td>\n",
       "      <td>d0b61bfb1de832b15ba9d266ca96e5b0</td>\n",
       "      <td>45.00</td>\n",
       "      <td>27.20</td>\n",
       "    </tr>\n",
       "    <tr>\n",
       "      <th>4</th>\n",
       "      <td>ad21c59c0840e6cb83a9ceb5573f8159</td>\n",
       "      <td>8ab97904e6daea8866dbdbc4fb7aad2c</td>\n",
       "      <td>2018-02-13 21:18:39</td>\n",
       "      <td>2018-02-16 18:17:02</td>\n",
       "      <td>1</td>\n",
       "      <td>65266b2da20d04dbe00c5c2d3bb7859e</td>\n",
       "      <td>19.90</td>\n",
       "      <td>8.72</td>\n",
       "    </tr>\n",
       "  </tbody>\n",
       "</table>\n",
       "</div>"
      ],
      "text/plain": [
       "                           order_id                       customer_id  \\\n",
       "0  e481f51cbdc54678b7cc49136f2d6af7  9ef432eb6251297304e76186b10a928d   \n",
       "1  53cdb2fc8bc7dce0b6741e2150273451  b0830fb4747a6c6d20dea0b8c802d7ef   \n",
       "2  47770eb9100c2d0c44946d9cf07ec65d  41ce2a54c0b03bf3443c3d931a367089   \n",
       "3  949d5b44dbf5de918fe9c16f97b45f8a  f88197465ea7920adcdbec7375364d82   \n",
       "4  ad21c59c0840e6cb83a9ceb5573f8159  8ab97904e6daea8866dbdbc4fb7aad2c   \n",
       "\n",
       "  order_purchase_timestamp order_delivered_customer_date  order_item_id  \\\n",
       "0      2017-10-02 10:56:33           2017-10-10 21:25:13              1   \n",
       "1      2018-07-24 20:41:37           2018-08-07 15:27:45              1   \n",
       "2      2018-08-08 08:38:49           2018-08-17 18:06:29              1   \n",
       "3      2017-11-18 19:28:06           2017-12-02 00:28:42              1   \n",
       "4      2018-02-13 21:18:39           2018-02-16 18:17:02              1   \n",
       "\n",
       "                         product_id   price  freight_value  \n",
       "0  87285b34884572647811a353c7ac498a   29.99           8.72  \n",
       "1  595fac2a385ac33a80bd5114aec74eb8  118.70          22.76  \n",
       "2  aa4383b373c6aca5d8797843e5594415  159.90          19.22  \n",
       "3  d0b61bfb1de832b15ba9d266ca96e5b0   45.00          27.20  \n",
       "4  65266b2da20d04dbe00c5c2d3bb7859e   19.90           8.72  "
      ]
     },
     "execution_count": 200,
     "metadata": {},
     "output_type": "execute_result"
    }
   ],
   "source": [
    "order = pd.merge(order_customer, order_product, on=\"order_id\")\n",
    "order = order.drop(['shipping_limit_date', 'seller_id','order_estimated_delivery_date', 'order_delivered_carrier_date', 'order_approved_at', 'order_status'] , axis=1)\n",
    "order.head()"
   ]
  },
  {
   "cell_type": "code",
   "execution_count": 201,
   "metadata": {
    "scrolled": true
   },
   "outputs": [
    {
     "data": {
      "text/html": [
       "<div>\n",
       "<style scoped>\n",
       "    .dataframe tbody tr th:only-of-type {\n",
       "        vertical-align: middle;\n",
       "    }\n",
       "\n",
       "    .dataframe tbody tr th {\n",
       "        vertical-align: top;\n",
       "    }\n",
       "\n",
       "    .dataframe thead th {\n",
       "        text-align: right;\n",
       "    }\n",
       "</style>\n",
       "<table border=\"1\" class=\"dataframe\">\n",
       "  <thead>\n",
       "    <tr style=\"text-align: right;\">\n",
       "      <th></th>\n",
       "      <th>order_id</th>\n",
       "      <th>customer_id</th>\n",
       "      <th>order_purchase_timestamp</th>\n",
       "      <th>order_delivered_customer_date</th>\n",
       "      <th>order_item_id</th>\n",
       "      <th>product_id</th>\n",
       "      <th>price</th>\n",
       "      <th>freight_value</th>\n",
       "      <th>product_category_name</th>\n",
       "      <th>customer_unique_id</th>\n",
       "    </tr>\n",
       "  </thead>\n",
       "  <tbody>\n",
       "    <tr>\n",
       "      <th>0</th>\n",
       "      <td>e481f51cbdc54678b7cc49136f2d6af7</td>\n",
       "      <td>9ef432eb6251297304e76186b10a928d</td>\n",
       "      <td>2017-10-02 10:56:33</td>\n",
       "      <td>2017-10-10 21:25:13</td>\n",
       "      <td>1</td>\n",
       "      <td>87285b34884572647811a353c7ac498a</td>\n",
       "      <td>29.99</td>\n",
       "      <td>8.72</td>\n",
       "      <td>utilidades_domesticas</td>\n",
       "      <td>7c396fd4830fd04220f754e42b4e5bff</td>\n",
       "    </tr>\n",
       "    <tr>\n",
       "      <th>1</th>\n",
       "      <td>128e10d95713541c87cd1a2e48201934</td>\n",
       "      <td>a20e8105f23924cd00833fd87daa0831</td>\n",
       "      <td>2017-08-15 18:29:31</td>\n",
       "      <td>2017-08-18 14:44:43</td>\n",
       "      <td>1</td>\n",
       "      <td>87285b34884572647811a353c7ac498a</td>\n",
       "      <td>29.99</td>\n",
       "      <td>7.78</td>\n",
       "      <td>utilidades_domesticas</td>\n",
       "      <td>3a51803cc0d012c3b5dc8b7528cb05f7</td>\n",
       "    </tr>\n",
       "    <tr>\n",
       "      <th>2</th>\n",
       "      <td>0e7e841ddf8f8f2de2bad69267ecfbcf</td>\n",
       "      <td>26c7ac168e1433912a51b924fbd34d34</td>\n",
       "      <td>2017-08-02 18:24:47</td>\n",
       "      <td>2017-08-07 18:30:01</td>\n",
       "      <td>1</td>\n",
       "      <td>87285b34884572647811a353c7ac498a</td>\n",
       "      <td>29.99</td>\n",
       "      <td>7.78</td>\n",
       "      <td>utilidades_domesticas</td>\n",
       "      <td>ef0996a1a279c26e7ecbd737be23d235</td>\n",
       "    </tr>\n",
       "    <tr>\n",
       "      <th>3</th>\n",
       "      <td>bfc39df4f36c3693ff3b63fcbea9e90a</td>\n",
       "      <td>53904ddbea91e1e92b2b3f1d09a7af86</td>\n",
       "      <td>2017-10-23 23:26:46</td>\n",
       "      <td>2017-11-07 18:04:59</td>\n",
       "      <td>1</td>\n",
       "      <td>87285b34884572647811a353c7ac498a</td>\n",
       "      <td>29.99</td>\n",
       "      <td>14.10</td>\n",
       "      <td>utilidades_domesticas</td>\n",
       "      <td>e781fdcc107d13d865fc7698711cc572</td>\n",
       "    </tr>\n",
       "    <tr>\n",
       "      <th>4</th>\n",
       "      <td>53cdb2fc8bc7dce0b6741e2150273451</td>\n",
       "      <td>b0830fb4747a6c6d20dea0b8c802d7ef</td>\n",
       "      <td>2018-07-24 20:41:37</td>\n",
       "      <td>2018-08-07 15:27:45</td>\n",
       "      <td>1</td>\n",
       "      <td>595fac2a385ac33a80bd5114aec74eb8</td>\n",
       "      <td>118.70</td>\n",
       "      <td>22.76</td>\n",
       "      <td>perfumaria</td>\n",
       "      <td>af07308b275d755c9edb36a90c618231</td>\n",
       "    </tr>\n",
       "  </tbody>\n",
       "</table>\n",
       "</div>"
      ],
      "text/plain": [
       "                           order_id                       customer_id  \\\n",
       "0  e481f51cbdc54678b7cc49136f2d6af7  9ef432eb6251297304e76186b10a928d   \n",
       "1  128e10d95713541c87cd1a2e48201934  a20e8105f23924cd00833fd87daa0831   \n",
       "2  0e7e841ddf8f8f2de2bad69267ecfbcf  26c7ac168e1433912a51b924fbd34d34   \n",
       "3  bfc39df4f36c3693ff3b63fcbea9e90a  53904ddbea91e1e92b2b3f1d09a7af86   \n",
       "4  53cdb2fc8bc7dce0b6741e2150273451  b0830fb4747a6c6d20dea0b8c802d7ef   \n",
       "\n",
       "  order_purchase_timestamp order_delivered_customer_date  order_item_id  \\\n",
       "0      2017-10-02 10:56:33           2017-10-10 21:25:13              1   \n",
       "1      2017-08-15 18:29:31           2017-08-18 14:44:43              1   \n",
       "2      2017-08-02 18:24:47           2017-08-07 18:30:01              1   \n",
       "3      2017-10-23 23:26:46           2017-11-07 18:04:59              1   \n",
       "4      2018-07-24 20:41:37           2018-08-07 15:27:45              1   \n",
       "\n",
       "                         product_id   price  freight_value  \\\n",
       "0  87285b34884572647811a353c7ac498a   29.99           8.72   \n",
       "1  87285b34884572647811a353c7ac498a   29.99           7.78   \n",
       "2  87285b34884572647811a353c7ac498a   29.99           7.78   \n",
       "3  87285b34884572647811a353c7ac498a   29.99          14.10   \n",
       "4  595fac2a385ac33a80bd5114aec74eb8  118.70          22.76   \n",
       "\n",
       "   product_category_name                customer_unique_id  \n",
       "0  utilidades_domesticas  7c396fd4830fd04220f754e42b4e5bff  \n",
       "1  utilidades_domesticas  3a51803cc0d012c3b5dc8b7528cb05f7  \n",
       "2  utilidades_domesticas  ef0996a1a279c26e7ecbd737be23d235  \n",
       "3  utilidades_domesticas  e781fdcc107d13d865fc7698711cc572  \n",
       "4             perfumaria  af07308b275d755c9edb36a90c618231  "
      ]
     },
     "execution_count": 201,
     "metadata": {},
     "output_type": "execute_result"
    }
   ],
   "source": [
    "order = pd.merge(order, product, on='product_id')\n",
    "order = pd.merge(order, customer_dic, on='customer_id')\n",
    "order.head()"
   ]
  },
  {
   "cell_type": "markdown",
   "metadata": {},
   "source": [
    "<h4>Step 2. 資料清洗</h4>\n",
    "此資料的兩個特徵有缺值：order_delivered_customer_date(客戶收到日期)、product_category_name(產品類別)； <br/>\n",
    "此兩者屬於類別型變數，佔整個數據的比例不大，因此補0。"
   ]
  },
  {
   "cell_type": "code",
   "execution_count": 202,
   "metadata": {},
   "outputs": [
    {
     "data": {
      "text/plain": [
       "order_id                         0.000000\n",
       "customer_id                      0.000000\n",
       "order_purchase_timestamp         0.000000\n",
       "order_delivered_customer_date    0.021784\n",
       "order_item_id                    0.000000\n",
       "product_id                       0.000000\n",
       "price                            0.000000\n",
       "freight_value                    0.000000\n",
       "product_category_name            0.014230\n",
       "customer_unique_id               0.000000\n",
       "dtype: float64"
      ]
     },
     "execution_count": 202,
     "metadata": {},
     "output_type": "execute_result"
    }
   ],
   "source": [
    "#缺失值比例如下\n",
    "order.apply(lambda col:sum(col.isnull())/col.size)"
   ]
  },
  {
   "cell_type": "code",
   "execution_count": 203,
   "metadata": {},
   "outputs": [
    {
     "data": {
      "text/plain": [
       "order_id                         0\n",
       "customer_id                      0\n",
       "order_purchase_timestamp         0\n",
       "order_delivered_customer_date    0\n",
       "order_item_id                    0\n",
       "product_id                       0\n",
       "price                            0\n",
       "freight_value                    0\n",
       "product_category_name            0\n",
       "customer_unique_id               0\n",
       "dtype: int64"
      ]
     },
     "execution_count": 203,
     "metadata": {},
     "output_type": "execute_result"
    }
   ],
   "source": [
    "order = order.fillna(0)\n",
    "order.isna().sum()"
   ]
  },
  {
   "cell_type": "code",
   "execution_count": 204,
   "metadata": {},
   "outputs": [
    {
     "name": "stdout",
     "output_type": "stream",
     "text": [
      "<class 'pandas.core.frame.DataFrame'>\n",
      "Int64Index: 112650 entries, 0 to 112649\n",
      "Data columns (total 10 columns):\n",
      "order_id                         112650 non-null object\n",
      "customer_id                      112650 non-null object\n",
      "order_purchase_timestamp         112650 non-null datetime64[ns]\n",
      "order_delivered_customer_date    112650 non-null datetime64[ns]\n",
      "order_item_id                    112650 non-null int64\n",
      "product_id                       112650 non-null object\n",
      "price                            112650 non-null float64\n",
      "freight_value                    112650 non-null float64\n",
      "product_category_name            112650 non-null object\n",
      "customer_unique_id               112650 non-null object\n",
      "dtypes: datetime64[ns](2), float64(2), int64(1), object(5)\n",
      "memory usage: 9.5+ MB\n"
     ]
    }
   ],
   "source": [
    "#轉換成時間變數\n",
    "order['order_purchase_timestamp']=pd.to_datetime(order['order_purchase_timestamp'])\n",
    "order['order_delivered_customer_date']=pd.to_datetime(order['order_delivered_customer_date'])\n",
    "order.info()"
   ]
  },
  {
   "cell_type": "markdown",
   "metadata": {},
   "source": [
    "<h4>Step3. RFM客戶模型分析</h4>\n",
    "由於Olist提供的客戶屬性資料不多，因此先將建立RFM客戶模型後，再使用K-mean將客戶分群，作為客戶屬性的特徵之一"
   ]
  },
  {
   "cell_type": "code",
   "execution_count": 205,
   "metadata": {},
   "outputs": [
    {
     "data": {
      "text/html": [
       "<div>\n",
       "<style scoped>\n",
       "    .dataframe tbody tr th:only-of-type {\n",
       "        vertical-align: middle;\n",
       "    }\n",
       "\n",
       "    .dataframe tbody tr th {\n",
       "        vertical-align: top;\n",
       "    }\n",
       "\n",
       "    .dataframe thead th {\n",
       "        text-align: right;\n",
       "    }\n",
       "</style>\n",
       "<table border=\"1\" class=\"dataframe\">\n",
       "  <thead>\n",
       "    <tr style=\"text-align: right;\">\n",
       "      <th></th>\n",
       "      <th>order_id</th>\n",
       "      <th>customer_id</th>\n",
       "      <th>order_purchase_timestamp</th>\n",
       "      <th>order_delivered_customer_date</th>\n",
       "      <th>order_item_id</th>\n",
       "      <th>product_id</th>\n",
       "      <th>price</th>\n",
       "      <th>freight_value</th>\n",
       "      <th>product_category_name</th>\n",
       "      <th>customer_unique_id</th>\n",
       "      <th>hist</th>\n",
       "    </tr>\n",
       "  </thead>\n",
       "  <tbody>\n",
       "    <tr>\n",
       "      <th>0</th>\n",
       "      <td>e481f51cbdc54678b7cc49136f2d6af7</td>\n",
       "      <td>9ef432eb6251297304e76186b10a928d</td>\n",
       "      <td>2017-10-02 10:56:33</td>\n",
       "      <td>2017-10-10 21:25:13</td>\n",
       "      <td>1</td>\n",
       "      <td>87285b34884572647811a353c7ac498a</td>\n",
       "      <td>29.99</td>\n",
       "      <td>8.72</td>\n",
       "      <td>utilidades_domesticas</td>\n",
       "      <td>7c396fd4830fd04220f754e42b4e5bff</td>\n",
       "      <td>337.0</td>\n",
       "    </tr>\n",
       "    <tr>\n",
       "      <th>1</th>\n",
       "      <td>128e10d95713541c87cd1a2e48201934</td>\n",
       "      <td>a20e8105f23924cd00833fd87daa0831</td>\n",
       "      <td>2017-08-15 18:29:31</td>\n",
       "      <td>2017-08-18 14:44:43</td>\n",
       "      <td>1</td>\n",
       "      <td>87285b34884572647811a353c7ac498a</td>\n",
       "      <td>29.99</td>\n",
       "      <td>7.78</td>\n",
       "      <td>utilidades_domesticas</td>\n",
       "      <td>3a51803cc0d012c3b5dc8b7528cb05f7</td>\n",
       "      <td>384.0</td>\n",
       "    </tr>\n",
       "    <tr>\n",
       "      <th>2</th>\n",
       "      <td>0e7e841ddf8f8f2de2bad69267ecfbcf</td>\n",
       "      <td>26c7ac168e1433912a51b924fbd34d34</td>\n",
       "      <td>2017-08-02 18:24:47</td>\n",
       "      <td>2017-08-07 18:30:01</td>\n",
       "      <td>1</td>\n",
       "      <td>87285b34884572647811a353c7ac498a</td>\n",
       "      <td>29.99</td>\n",
       "      <td>7.78</td>\n",
       "      <td>utilidades_domesticas</td>\n",
       "      <td>ef0996a1a279c26e7ecbd737be23d235</td>\n",
       "      <td>397.0</td>\n",
       "    </tr>\n",
       "    <tr>\n",
       "      <th>3</th>\n",
       "      <td>bfc39df4f36c3693ff3b63fcbea9e90a</td>\n",
       "      <td>53904ddbea91e1e92b2b3f1d09a7af86</td>\n",
       "      <td>2017-10-23 23:26:46</td>\n",
       "      <td>2017-11-07 18:04:59</td>\n",
       "      <td>1</td>\n",
       "      <td>87285b34884572647811a353c7ac498a</td>\n",
       "      <td>29.99</td>\n",
       "      <td>14.10</td>\n",
       "      <td>utilidades_domesticas</td>\n",
       "      <td>e781fdcc107d13d865fc7698711cc572</td>\n",
       "      <td>315.0</td>\n",
       "    </tr>\n",
       "    <tr>\n",
       "      <th>4</th>\n",
       "      <td>53cdb2fc8bc7dce0b6741e2150273451</td>\n",
       "      <td>b0830fb4747a6c6d20dea0b8c802d7ef</td>\n",
       "      <td>2018-07-24 20:41:37</td>\n",
       "      <td>2018-08-07 15:27:45</td>\n",
       "      <td>1</td>\n",
       "      <td>595fac2a385ac33a80bd5114aec74eb8</td>\n",
       "      <td>118.70</td>\n",
       "      <td>22.76</td>\n",
       "      <td>perfumaria</td>\n",
       "      <td>af07308b275d755c9edb36a90c618231</td>\n",
       "      <td>41.0</td>\n",
       "    </tr>\n",
       "  </tbody>\n",
       "</table>\n",
       "</div>"
      ],
      "text/plain": [
       "                           order_id                       customer_id  \\\n",
       "0  e481f51cbdc54678b7cc49136f2d6af7  9ef432eb6251297304e76186b10a928d   \n",
       "1  128e10d95713541c87cd1a2e48201934  a20e8105f23924cd00833fd87daa0831   \n",
       "2  0e7e841ddf8f8f2de2bad69267ecfbcf  26c7ac168e1433912a51b924fbd34d34   \n",
       "3  bfc39df4f36c3693ff3b63fcbea9e90a  53904ddbea91e1e92b2b3f1d09a7af86   \n",
       "4  53cdb2fc8bc7dce0b6741e2150273451  b0830fb4747a6c6d20dea0b8c802d7ef   \n",
       "\n",
       "  order_purchase_timestamp order_delivered_customer_date  order_item_id  \\\n",
       "0      2017-10-02 10:56:33           2017-10-10 21:25:13              1   \n",
       "1      2017-08-15 18:29:31           2017-08-18 14:44:43              1   \n",
       "2      2017-08-02 18:24:47           2017-08-07 18:30:01              1   \n",
       "3      2017-10-23 23:26:46           2017-11-07 18:04:59              1   \n",
       "4      2018-07-24 20:41:37           2018-08-07 15:27:45              1   \n",
       "\n",
       "                         product_id   price  freight_value  \\\n",
       "0  87285b34884572647811a353c7ac498a   29.99           8.72   \n",
       "1  87285b34884572647811a353c7ac498a   29.99           7.78   \n",
       "2  87285b34884572647811a353c7ac498a   29.99           7.78   \n",
       "3  87285b34884572647811a353c7ac498a   29.99          14.10   \n",
       "4  595fac2a385ac33a80bd5114aec74eb8  118.70          22.76   \n",
       "\n",
       "   product_category_name                customer_unique_id   hist  \n",
       "0  utilidades_domesticas  7c396fd4830fd04220f754e42b4e5bff  337.0  \n",
       "1  utilidades_domesticas  3a51803cc0d012c3b5dc8b7528cb05f7  384.0  \n",
       "2  utilidades_domesticas  ef0996a1a279c26e7ecbd737be23d235  397.0  \n",
       "3  utilidades_domesticas  e781fdcc107d13d865fc7698711cc572  315.0  \n",
       "4             perfumaria  af07308b275d755c9edb36a90c618231   41.0  "
      ]
     },
     "execution_count": 205,
     "metadata": {},
     "output_type": "execute_result"
    }
   ],
   "source": [
    "#先產生最近一次的購買時間\n",
    "order_rfm=order.copy()\n",
    "sd = dt.datetime(2018,9,4)\n",
    "order_rfm['hist']=sd - order_rfm['order_purchase_timestamp']\n",
    "order_rfm['hist'].astype('timedelta64[D]')\n",
    "order_rfm['hist']=(order_rfm['hist'] / np.timedelta64(1, 'D')).round(decimals=0)\n",
    "order_rfm.head()"
   ]
  },
  {
   "cell_type": "code",
   "execution_count": 206,
   "metadata": {},
   "outputs": [],
   "source": [
    "order_rfm_s = order_rfm.groupby('customer_unique_id').agg({'hist': lambda x:x.min(), \n",
    "                                        'customer_unique_id': lambda x: len(x),             \n",
    "                                        'price': lambda x: x.sum()})         \n",
    "\n",
    "order_rfm_s.rename(columns={'hist': 'recency', \n",
    "                         'customer_unique_id': 'frequency', \n",
    "                         'price': 'monetary_value'}, inplace=True)\n"
   ]
  },
  {
   "cell_type": "code",
   "execution_count": 207,
   "metadata": {},
   "outputs": [
    {
     "data": {
      "text/html": [
       "<div>\n",
       "<style scoped>\n",
       "    .dataframe tbody tr th:only-of-type {\n",
       "        vertical-align: middle;\n",
       "    }\n",
       "\n",
       "    .dataframe tbody tr th {\n",
       "        vertical-align: top;\n",
       "    }\n",
       "\n",
       "    .dataframe thead th {\n",
       "        text-align: right;\n",
       "    }\n",
       "</style>\n",
       "<table border=\"1\" class=\"dataframe\">\n",
       "  <thead>\n",
       "    <tr style=\"text-align: right;\">\n",
       "      <th></th>\n",
       "      <th>recency</th>\n",
       "      <th>frequency</th>\n",
       "      <th>monetary_value</th>\n",
       "    </tr>\n",
       "    <tr>\n",
       "      <th>customer_unique_id</th>\n",
       "      <th></th>\n",
       "      <th></th>\n",
       "      <th></th>\n",
       "    </tr>\n",
       "  </thead>\n",
       "  <tbody>\n",
       "    <tr>\n",
       "      <th>0a0a92112bd4c708ca5fde585afaa872</th>\n",
       "      <td>339.0</td>\n",
       "      <td>8</td>\n",
       "      <td>13440.00</td>\n",
       "    </tr>\n",
       "    <tr>\n",
       "      <th>da122df9eeddfedc1dc1f5349a1a690c</th>\n",
       "      <td>520.0</td>\n",
       "      <td>2</td>\n",
       "      <td>7388.00</td>\n",
       "    </tr>\n",
       "    <tr>\n",
       "      <th>763c8b1c9c68a0229c42c9fc6f662b93</th>\n",
       "      <td>50.0</td>\n",
       "      <td>4</td>\n",
       "      <td>7160.00</td>\n",
       "    </tr>\n",
       "    <tr>\n",
       "      <th>dc4802a71eae9be1dd28f5d788ceb526</th>\n",
       "      <td>568.0</td>\n",
       "      <td>1</td>\n",
       "      <td>6735.00</td>\n",
       "    </tr>\n",
       "    <tr>\n",
       "      <th>459bef486812aa25204be022145caa62</th>\n",
       "      <td>40.0</td>\n",
       "      <td>1</td>\n",
       "      <td>6729.00</td>\n",
       "    </tr>\n",
       "    <tr>\n",
       "      <th>ff4159b92c40ebe40454e3e6a7c35ed6</th>\n",
       "      <td>467.0</td>\n",
       "      <td>1</td>\n",
       "      <td>6499.00</td>\n",
       "    </tr>\n",
       "    <tr>\n",
       "      <th>4007669dec559734d6f53e029e360987</th>\n",
       "      <td>284.0</td>\n",
       "      <td>6</td>\n",
       "      <td>5934.60</td>\n",
       "    </tr>\n",
       "    <tr>\n",
       "      <th>eebb5dda148d3893cdaf5b5ca3040ccb</th>\n",
       "      <td>503.0</td>\n",
       "      <td>1</td>\n",
       "      <td>4690.00</td>\n",
       "    </tr>\n",
       "    <tr>\n",
       "      <th>5d0a2980b292d049061542014e8960bf</th>\n",
       "      <td>53.0</td>\n",
       "      <td>2</td>\n",
       "      <td>4599.90</td>\n",
       "    </tr>\n",
       "    <tr>\n",
       "      <th>48e1ac109decbb87765a3eade6854098</th>\n",
       "      <td>73.0</td>\n",
       "      <td>1</td>\n",
       "      <td>4590.00</td>\n",
       "    </tr>\n",
       "    <tr>\n",
       "      <th>a229eba70ec1c2abef51f04987deb7a5</th>\n",
       "      <td>95.0</td>\n",
       "      <td>2</td>\n",
       "      <td>4400.00</td>\n",
       "    </tr>\n",
       "    <tr>\n",
       "      <th>edde2314c6c30e864a128ac95d6b2112</th>\n",
       "      <td>31.0</td>\n",
       "      <td>1</td>\n",
       "      <td>4399.87</td>\n",
       "    </tr>\n",
       "    <tr>\n",
       "      <th>fa562ef24d41361e476e748681810e1e</th>\n",
       "      <td>159.0</td>\n",
       "      <td>1</td>\n",
       "      <td>4099.99</td>\n",
       "    </tr>\n",
       "    <tr>\n",
       "      <th>c8460e4251689ba205045f3ea17884a1</th>\n",
       "      <td>26.0</td>\n",
       "      <td>24</td>\n",
       "      <td>4080.00</td>\n",
       "    </tr>\n",
       "    <tr>\n",
       "      <th>ca27f3dac28fb1063faddd424c9d95fa</th>\n",
       "      <td>37.0</td>\n",
       "      <td>1</td>\n",
       "      <td>4059.00</td>\n",
       "    </tr>\n",
       "    <tr>\n",
       "      <th>055ec572ac7f3c7bdd04a183830ebe59</th>\n",
       "      <td>412.0</td>\n",
       "      <td>2</td>\n",
       "      <td>3999.98</td>\n",
       "    </tr>\n",
       "    <tr>\n",
       "      <th>011875f0176909c5cf0b14a9138bb691</th>\n",
       "      <td>534.0</td>\n",
       "      <td>1</td>\n",
       "      <td>3999.90</td>\n",
       "    </tr>\n",
       "    <tr>\n",
       "      <th>edf81e1f3070b9dac83ec83dacdbb9bc</th>\n",
       "      <td>503.0</td>\n",
       "      <td>1</td>\n",
       "      <td>3999.00</td>\n",
       "    </tr>\n",
       "    <tr>\n",
       "      <th>5e713be0853d8986528d7869a0811d2b</th>\n",
       "      <td>576.0</td>\n",
       "      <td>1</td>\n",
       "      <td>3980.00</td>\n",
       "    </tr>\n",
       "    <tr>\n",
       "      <th>f0767ae738c3d90e7b737d7b8b8bb4d1</th>\n",
       "      <td>112.0</td>\n",
       "      <td>1</td>\n",
       "      <td>3930.00</td>\n",
       "    </tr>\n",
       "  </tbody>\n",
       "</table>\n",
       "</div>"
      ],
      "text/plain": [
       "                                  recency  frequency  monetary_value\n",
       "customer_unique_id                                                  \n",
       "0a0a92112bd4c708ca5fde585afaa872    339.0          8        13440.00\n",
       "da122df9eeddfedc1dc1f5349a1a690c    520.0          2         7388.00\n",
       "763c8b1c9c68a0229c42c9fc6f662b93     50.0          4         7160.00\n",
       "dc4802a71eae9be1dd28f5d788ceb526    568.0          1         6735.00\n",
       "459bef486812aa25204be022145caa62     40.0          1         6729.00\n",
       "ff4159b92c40ebe40454e3e6a7c35ed6    467.0          1         6499.00\n",
       "4007669dec559734d6f53e029e360987    284.0          6         5934.60\n",
       "eebb5dda148d3893cdaf5b5ca3040ccb    503.0          1         4690.00\n",
       "5d0a2980b292d049061542014e8960bf     53.0          2         4599.90\n",
       "48e1ac109decbb87765a3eade6854098     73.0          1         4590.00\n",
       "a229eba70ec1c2abef51f04987deb7a5     95.0          2         4400.00\n",
       "edde2314c6c30e864a128ac95d6b2112     31.0          1         4399.87\n",
       "fa562ef24d41361e476e748681810e1e    159.0          1         4099.99\n",
       "c8460e4251689ba205045f3ea17884a1     26.0         24         4080.00\n",
       "ca27f3dac28fb1063faddd424c9d95fa     37.0          1         4059.00\n",
       "055ec572ac7f3c7bdd04a183830ebe59    412.0          2         3999.98\n",
       "011875f0176909c5cf0b14a9138bb691    534.0          1         3999.90\n",
       "edf81e1f3070b9dac83ec83dacdbb9bc    503.0          1         3999.00\n",
       "5e713be0853d8986528d7869a0811d2b    576.0          1         3980.00\n",
       "f0767ae738c3d90e7b737d7b8b8bb4d1    112.0          1         3930.00"
      ]
     },
     "execution_count": 207,
     "metadata": {},
     "output_type": "execute_result"
    }
   ],
   "source": [
    "order_rfm_s.sort_values('monetary_value', ascending=False)[:20]"
   ]
  },
  {
   "cell_type": "code",
   "execution_count": 208,
   "metadata": {},
   "outputs": [
    {
     "data": {
      "text/plain": [
       "array([[-0.827722  , -0.2905643 , -0.05761497],\n",
       "       [-0.80813429, -0.2905643 , -0.56759586],\n",
       "       [ 1.94720411, -0.2905643 , -0.33741529],\n",
       "       ...,\n",
       "       [ 2.14961049, -0.2905643 , -0.24139187],\n",
       "       [-0.78201733, -0.2905643 , -0.12607186],\n",
       "       [ 1.6011545 , -0.2905643 , -0.39259431]])"
      ]
     },
     "execution_count": 208,
     "metadata": {},
     "output_type": "execute_result"
    }
   ],
   "source": [
    "#將rfm table進行正規化處理，之後做k means\n",
    "#使用standardscaler的效果比max-min好\n",
    "scaler = StandardScaler()\n",
    "order_nor = scaler.fit_transform(order_rfm_s)\n",
    "order_nor"
   ]
  },
  {
   "cell_type": "code",
   "execution_count": 209,
   "metadata": {},
   "outputs": [],
   "source": [
    "#使用k means model 決定k的值\n",
    "#使用方法:within-cluster sums of squares (WCSS) \n",
    "\n",
    "wcss = []\n",
    "for i in range(1, 11):\n",
    "    kmeans = KMeans(n_clusters=i, init='k-means++', random_state=0)\n",
    "    kmeans.fit(order_nor)\n",
    "    wcss.append(kmeans.inertia_)"
   ]
  },
  {
   "cell_type": "code",
   "execution_count": 210,
   "metadata": {},
   "outputs": [
    {
     "data": {
      "image/png": "[encoded data removed]",
      "text/plain": [
       "<Figure size 432x288 with 1 Axes>"
      ]
     },
     "metadata": {
      "needs_background": "light"
     },
     "output_type": "display_data"
    }
   ],
   "source": [
    "#選擇K值為6\n",
    "plt.plot(range(1, 11), wcss)\n",
    "plt.title('Elbow graph')\n",
    "plt.xlabel('Cluster number')\n",
    "plt.ylabel('WCSS')\n",
    "plt.show()"
   ]
  },
  {
   "cell_type": "code",
   "execution_count": 211,
   "metadata": {},
   "outputs": [],
   "source": [
    "#找出k值後，建立model\n",
    "kmeans = KMeans(n_clusters=6, init='k-means++', random_state=0)\n",
    "clusters = kmeans.fit_predict(order_nor)"
   ]
  },
  {
   "cell_type": "code",
   "execution_count": 212,
   "metadata": {
    "scrolled": true
   },
   "outputs": [
    {
     "name": "stdout",
     "output_type": "stream",
     "text": [
      "<class 'pandas.core.frame.DataFrame'>\n",
      "Index: 95420 entries, 0000366f3b9a7992bf8c76cfdf3221e2 to ffffd2657e2aad2907e67c3e9daecbeb\n",
      "Data columns (total 4 columns):\n",
      "recency           95420 non-null float64\n",
      "frequency         95420 non-null int64\n",
      "monetary_value    95420 non-null float64\n",
      "clusters          95420 non-null int32\n",
      "dtypes: float64(2), int32(1), int64(1)\n",
      "memory usage: 3.3+ MB\n"
     ]
    }
   ],
   "source": [
    "order_rfm_s['clusters'] = clusters\n",
    "order_rfm_s.info()"
   ]
  },
  {
   "cell_type": "code",
   "execution_count": 213,
   "metadata": {},
   "outputs": [
    {
     "data": {
      "text/plain": [
       "<matplotlib.legend.Legend at 0x13fbabe48>"
      ]
     },
     "execution_count": 213,
     "metadata": {},
     "output_type": "execute_result"
    },
    {
     "data": {
      "image/png": "[encoded data removed]",
      "text/plain": [
       "<Figure size 432x288 with 1 Axes>"
      ]
     },
     "metadata": {
      "needs_background": "light"
     },
     "output_type": "display_data"
    }
   ],
   "source": [
    "c1 = order_rfm_s[order_rfm_s.clusters == 0]\n",
    "c2 = order_rfm_s[order_rfm_s.clusters == 1]\n",
    "c3 = order_rfm_s[order_rfm_s.clusters == 2]\n",
    "c4 = order_rfm_s[order_rfm_s.clusters == 3]\n",
    "c5 = order_rfm_s[order_rfm_s.clusters == 4]\n",
    "c6 = order_rfm_s[order_rfm_s.clusters == 5]\n",
    "c7 = order_rfm_s[order_rfm_s.clusters == 6]\n",
    "\n",
    "plt.scatter(c1.recency, c1.monetary_value, c = 'blue', label = 'Cluster 1')\n",
    "plt.scatter(c2.recency, c2.monetary_value, c = 'yellow', label = 'Cluster 2')\n",
    "plt.scatter(c3.recency, c3.monetary_value, c = 'green', label = 'Cluster 3')\n",
    "plt.scatter(c4.recency, c4.monetary_value, c = 'red', label = 'Cluster 4')\n",
    "plt.scatter(c5.recency, c5.monetary_value, c = 'grey', label = 'Cluster 5')\n",
    "plt.scatter(c6.recency, c6.monetary_value, c = 'salmon', label = 'Cluster 6')\n",
    "\n",
    "plt.title('Clusters of clients')\n",
    "plt.xlabel('Recency')\n",
    "plt.ylabel('Monetary')\n",
    "plt.legend()"
   ]
  },
  {
   "cell_type": "code",
   "execution_count": 214,
   "metadata": {},
   "outputs": [
    {
     "data": {
      "text/html": [
       "<div>\n",
       "<style scoped>\n",
       "    .dataframe tbody tr th:only-of-type {\n",
       "        vertical-align: middle;\n",
       "    }\n",
       "\n",
       "    .dataframe tbody tr th {\n",
       "        vertical-align: top;\n",
       "    }\n",
       "\n",
       "    .dataframe thead th {\n",
       "        text-align: right;\n",
       "    }\n",
       "</style>\n",
       "<table border=\"1\" class=\"dataframe\">\n",
       "  <thead>\n",
       "    <tr style=\"text-align: right;\">\n",
       "      <th></th>\n",
       "      <th>recency</th>\n",
       "      <th>frequency</th>\n",
       "      <th>monetary_value</th>\n",
       "    </tr>\n",
       "    <tr>\n",
       "      <th>clusters</th>\n",
       "      <th></th>\n",
       "      <th></th>\n",
       "      <th></th>\n",
       "    </tr>\n",
       "  </thead>\n",
       "  <tbody>\n",
       "    <tr>\n",
       "      <th>0</th>\n",
       "      <td>243.454239</td>\n",
       "      <td>1.185453</td>\n",
       "      <td>1178.252524</td>\n",
       "    </tr>\n",
       "    <tr>\n",
       "      <th>1</th>\n",
       "      <td>262.134054</td>\n",
       "      <td>1.000000</td>\n",
       "      <td>108.404764</td>\n",
       "    </tr>\n",
       "    <tr>\n",
       "      <th>2</th>\n",
       "      <td>206.969041</td>\n",
       "      <td>2.175579</td>\n",
       "      <td>174.692473</td>\n",
       "    </tr>\n",
       "    <tr>\n",
       "      <th>3</th>\n",
       "      <td>468.845807</td>\n",
       "      <td>1.058002</td>\n",
       "      <td>111.796995</td>\n",
       "    </tr>\n",
       "    <tr>\n",
       "      <th>4</th>\n",
       "      <td>237.812712</td>\n",
       "      <td>5.079661</td>\n",
       "      <td>365.621661</td>\n",
       "    </tr>\n",
       "    <tr>\n",
       "      <th>5</th>\n",
       "      <td>92.764393</td>\n",
       "      <td>1.000000</td>\n",
       "      <td>109.743976</td>\n",
       "    </tr>\n",
       "  </tbody>\n",
       "</table>\n",
       "</div>"
      ],
      "text/plain": [
       "             recency  frequency  monetary_value\n",
       "clusters                                       \n",
       "0         243.454239   1.185453     1178.252524\n",
       "1         262.134054   1.000000      108.404764\n",
       "2         206.969041   2.175579      174.692473\n",
       "3         468.845807   1.058002      111.796995\n",
       "4         237.812712   5.079661      365.621661\n",
       "5          92.764393   1.000000      109.743976"
      ]
     },
     "execution_count": 214,
     "metadata": {},
     "output_type": "execute_result"
    }
   ],
   "source": [
    "#辨視各cluster的特徵\n",
    "order_cluster = order_rfm_s.groupby('clusters').agg({'recency': lambda x:sum(x)/float(len(x)),\n",
    "                                        'frequency': lambda x: sum(x)/float(len(x)),               \n",
    "                                        'monetary_value': lambda x: sum(x)/float(len(x))})          \n",
    "\n",
    "order_cluster"
   ]
  },
  {
   "cell_type": "code",
   "execution_count": 215,
   "metadata": {
    "scrolled": true
   },
   "outputs": [
    {
     "data": {
      "text/html": [
       "<div>\n",
       "<style scoped>\n",
       "    .dataframe tbody tr th:only-of-type {\n",
       "        vertical-align: middle;\n",
       "    }\n",
       "\n",
       "    .dataframe tbody tr th {\n",
       "        vertical-align: top;\n",
       "    }\n",
       "\n",
       "    .dataframe thead th {\n",
       "        text-align: right;\n",
       "    }\n",
       "</style>\n",
       "<table border=\"1\" class=\"dataframe\">\n",
       "  <thead>\n",
       "    <tr style=\"text-align: right;\">\n",
       "      <th></th>\n",
       "      <th>order_item_id</th>\n",
       "      <th>product_id</th>\n",
       "      <th>price</th>\n",
       "      <th>freight_value</th>\n",
       "      <th>product_category_name</th>\n",
       "      <th>customer_unique_id</th>\n",
       "      <th>review_score</th>\n",
       "      <th>clusters</th>\n",
       "    </tr>\n",
       "  </thead>\n",
       "  <tbody>\n",
       "    <tr>\n",
       "      <th>0</th>\n",
       "      <td>1</td>\n",
       "      <td>87285b34884572647811a353c7ac498a</td>\n",
       "      <td>29.99</td>\n",
       "      <td>8.72</td>\n",
       "      <td>utilidades_domesticas</td>\n",
       "      <td>7c396fd4830fd04220f754e42b4e5bff</td>\n",
       "      <td>4</td>\n",
       "      <td>2</td>\n",
       "    </tr>\n",
       "    <tr>\n",
       "      <th>1</th>\n",
       "      <td>1</td>\n",
       "      <td>9abb00920aae319ef9eba674b7d2e6ff</td>\n",
       "      <td>35.39</td>\n",
       "      <td>8.72</td>\n",
       "      <td>bebes</td>\n",
       "      <td>7c396fd4830fd04220f754e42b4e5bff</td>\n",
       "      <td>5</td>\n",
       "      <td>2</td>\n",
       "    </tr>\n",
       "    <tr>\n",
       "      <th>2</th>\n",
       "      <td>1</td>\n",
       "      <td>87285b34884572647811a353c7ac498a</td>\n",
       "      <td>29.99</td>\n",
       "      <td>7.78</td>\n",
       "      <td>utilidades_domesticas</td>\n",
       "      <td>3a51803cc0d012c3b5dc8b7528cb05f7</td>\n",
       "      <td>4</td>\n",
       "      <td>3</td>\n",
       "    </tr>\n",
       "    <tr>\n",
       "      <th>3</th>\n",
       "      <td>1</td>\n",
       "      <td>87285b34884572647811a353c7ac498a</td>\n",
       "      <td>29.99</td>\n",
       "      <td>7.78</td>\n",
       "      <td>utilidades_domesticas</td>\n",
       "      <td>ef0996a1a279c26e7ecbd737be23d235</td>\n",
       "      <td>5</td>\n",
       "      <td>3</td>\n",
       "    </tr>\n",
       "    <tr>\n",
       "      <th>4</th>\n",
       "      <td>1</td>\n",
       "      <td>87285b34884572647811a353c7ac498a</td>\n",
       "      <td>29.99</td>\n",
       "      <td>14.10</td>\n",
       "      <td>utilidades_domesticas</td>\n",
       "      <td>e781fdcc107d13d865fc7698711cc572</td>\n",
       "      <td>3</td>\n",
       "      <td>1</td>\n",
       "    </tr>\n",
       "  </tbody>\n",
       "</table>\n",
       "</div>"
      ],
      "text/plain": [
       "   order_item_id                        product_id  price  freight_value  \\\n",
       "0              1  87285b34884572647811a353c7ac498a  29.99           8.72   \n",
       "1              1  9abb00920aae319ef9eba674b7d2e6ff  35.39           8.72   \n",
       "2              1  87285b34884572647811a353c7ac498a  29.99           7.78   \n",
       "3              1  87285b34884572647811a353c7ac498a  29.99           7.78   \n",
       "4              1  87285b34884572647811a353c7ac498a  29.99          14.10   \n",
       "\n",
       "   product_category_name                customer_unique_id  review_score  \\\n",
       "0  utilidades_domesticas  7c396fd4830fd04220f754e42b4e5bff             4   \n",
       "1                  bebes  7c396fd4830fd04220f754e42b4e5bff             5   \n",
       "2  utilidades_domesticas  3a51803cc0d012c3b5dc8b7528cb05f7             4   \n",
       "3  utilidades_domesticas  ef0996a1a279c26e7ecbd737be23d235             5   \n",
       "4  utilidades_domesticas  e781fdcc107d13d865fc7698711cc572             3   \n",
       "\n",
       "   clusters  \n",
       "0         2  \n",
       "1         2  \n",
       "2         3  \n",
       "3         3  \n",
       "4         1  "
      ]
     },
     "execution_count": 215,
     "metadata": {},
     "output_type": "execute_result"
    }
   ],
   "source": [
    "#將上述的cluster新加到使用者的特徵\n",
    "order_sim= order_rfm.copy()\n",
    "order_sim=pd.merge(order_sim, review, on='order_id')\n",
    "order_sim=pd.merge(order_sim, order_rfm_s, on='customer_unique_id').drop(['order_id', 'customer_id', 'order_purchase_timestamp', 'order_delivered_customer_date', 'hist', 'recency', 'frequency', 'monetary_value'], axis=1)\n",
    "order_sim.apply(lambda col:sum(col.isna()))\n",
    "order_sim.head()"
   ]
  },
  {
   "cell_type": "markdown",
   "metadata": {},
   "source": [
    "<h4>Step 4. 建立推薦模型</h4>\n",
    "本次使用Apple的TuriCreate套件，因此須將資料整理成符合套件的格式。<br/>\n",
    "使用三個方法建立推薦模型：<br/>\n",
    "a. Popularity <br/>\n",
    "b. Cosin Similarity <br/>\n",
    "c. Pearson Similarity"
   ]
  },
  {
   "cell_type": "code",
   "execution_count": 216,
   "metadata": {},
   "outputs": [],
   "source": [
    "order_sim['target'] =1"
   ]
  },
  {
   "cell_type": "code",
   "execution_count": 217,
   "metadata": {},
   "outputs": [],
   "source": [
    "data_dummy=order_sim[['product_id','customer_unique_id' , 'target']]\n",
    "data_count=order_sim[['product_id','customer_unique_id' , 'order_item_id']]"
   ]
  },
  {
   "cell_type": "code",
   "execution_count": 218,
   "metadata": {},
   "outputs": [],
   "source": [
    "a=order_sim.groupby('product_id').agg({'price':lambda x:sum(x)/float(len(x))})\n",
    "order_sim=pd.merge(order_sim, a, on='product_id')"
   ]
  },
  {
   "cell_type": "code",
   "execution_count": 219,
   "metadata": {},
   "outputs": [
    {
     "data": {
      "text/html": [
       "<div>\n",
       "<style scoped>\n",
       "    .dataframe tbody tr th:only-of-type {\n",
       "        vertical-align: middle;\n",
       "    }\n",
       "\n",
       "    .dataframe tbody tr th {\n",
       "        vertical-align: top;\n",
       "    }\n",
       "\n",
       "    .dataframe thead th {\n",
       "        text-align: right;\n",
       "    }\n",
       "</style>\n",
       "<table border=\"1\" class=\"dataframe\">\n",
       "  <thead>\n",
       "    <tr style=\"text-align: right;\">\n",
       "      <th></th>\n",
       "      <th>order_item_id</th>\n",
       "      <th>product_id</th>\n",
       "      <th>price</th>\n",
       "      <th>freight_value</th>\n",
       "      <th>product_category_name</th>\n",
       "      <th>customer_unique_id</th>\n",
       "      <th>review_score</th>\n",
       "      <th>clusters</th>\n",
       "      <th>target</th>\n",
       "      <th>avg_price</th>\n",
       "    </tr>\n",
       "  </thead>\n",
       "  <tbody>\n",
       "    <tr>\n",
       "      <th>0</th>\n",
       "      <td>1</td>\n",
       "      <td>87285b34884572647811a353c7ac498a</td>\n",
       "      <td>29.99</td>\n",
       "      <td>8.72</td>\n",
       "      <td>utilidades_domesticas</td>\n",
       "      <td>7c396fd4830fd04220f754e42b4e5bff</td>\n",
       "      <td>4</td>\n",
       "      <td>2</td>\n",
       "      <td>1</td>\n",
       "      <td>29.990000</td>\n",
       "    </tr>\n",
       "    <tr>\n",
       "      <th>1</th>\n",
       "      <td>1</td>\n",
       "      <td>87285b34884572647811a353c7ac498a</td>\n",
       "      <td>29.99</td>\n",
       "      <td>7.78</td>\n",
       "      <td>utilidades_domesticas</td>\n",
       "      <td>3a51803cc0d012c3b5dc8b7528cb05f7</td>\n",
       "      <td>4</td>\n",
       "      <td>3</td>\n",
       "      <td>1</td>\n",
       "      <td>29.990000</td>\n",
       "    </tr>\n",
       "    <tr>\n",
       "      <th>2</th>\n",
       "      <td>1</td>\n",
       "      <td>87285b34884572647811a353c7ac498a</td>\n",
       "      <td>29.99</td>\n",
       "      <td>7.78</td>\n",
       "      <td>utilidades_domesticas</td>\n",
       "      <td>ef0996a1a279c26e7ecbd737be23d235</td>\n",
       "      <td>5</td>\n",
       "      <td>3</td>\n",
       "      <td>1</td>\n",
       "      <td>29.990000</td>\n",
       "    </tr>\n",
       "    <tr>\n",
       "      <th>3</th>\n",
       "      <td>1</td>\n",
       "      <td>87285b34884572647811a353c7ac498a</td>\n",
       "      <td>29.99</td>\n",
       "      <td>14.10</td>\n",
       "      <td>utilidades_domesticas</td>\n",
       "      <td>e781fdcc107d13d865fc7698711cc572</td>\n",
       "      <td>3</td>\n",
       "      <td>1</td>\n",
       "      <td>1</td>\n",
       "      <td>29.990000</td>\n",
       "    </tr>\n",
       "    <tr>\n",
       "      <th>4</th>\n",
       "      <td>1</td>\n",
       "      <td>9abb00920aae319ef9eba674b7d2e6ff</td>\n",
       "      <td>35.39</td>\n",
       "      <td>8.72</td>\n",
       "      <td>bebes</td>\n",
       "      <td>7c396fd4830fd04220f754e42b4e5bff</td>\n",
       "      <td>5</td>\n",
       "      <td>2</td>\n",
       "      <td>1</td>\n",
       "      <td>37.288235</td>\n",
       "    </tr>\n",
       "  </tbody>\n",
       "</table>\n",
       "</div>"
      ],
      "text/plain": [
       "   order_item_id                        product_id  price  freight_value  \\\n",
       "0              1  87285b34884572647811a353c7ac498a  29.99           8.72   \n",
       "1              1  87285b34884572647811a353c7ac498a  29.99           7.78   \n",
       "2              1  87285b34884572647811a353c7ac498a  29.99           7.78   \n",
       "3              1  87285b34884572647811a353c7ac498a  29.99          14.10   \n",
       "4              1  9abb00920aae319ef9eba674b7d2e6ff  35.39           8.72   \n",
       "\n",
       "   product_category_name                customer_unique_id  review_score  \\\n",
       "0  utilidades_domesticas  7c396fd4830fd04220f754e42b4e5bff             4   \n",
       "1  utilidades_domesticas  3a51803cc0d012c3b5dc8b7528cb05f7             4   \n",
       "2  utilidades_domesticas  ef0996a1a279c26e7ecbd737be23d235             5   \n",
       "3  utilidades_domesticas  e781fdcc107d13d865fc7698711cc572             3   \n",
       "4                  bebes  7c396fd4830fd04220f754e42b4e5bff             5   \n",
       "\n",
       "   clusters  target  avg_price  \n",
       "0         2       1  29.990000  \n",
       "1         3       1  29.990000  \n",
       "2         3       1  29.990000  \n",
       "3         1       1  29.990000  \n",
       "4         2       1  37.288235  "
      ]
     },
     "execution_count": 219,
     "metadata": {},
     "output_type": "execute_result"
    }
   ],
   "source": [
    "#因為商品的價格不同，所以使用平均價格當作特徵\n",
    "order_sim=order_sim.rename(columns = {'price_y':'avg_price', 'price_x':'price'})\n",
    "order_sim.head()"
   ]
  },
  {
   "cell_type": "code",
   "execution_count": 220,
   "metadata": {},
   "outputs": [
    {
     "data": {
      "text/html": [
       "<div>\n",
       "<style scoped>\n",
       "    .dataframe tbody tr th:only-of-type {\n",
       "        vertical-align: middle;\n",
       "    }\n",
       "\n",
       "    .dataframe tbody tr th {\n",
       "        vertical-align: top;\n",
       "    }\n",
       "\n",
       "    .dataframe thead th {\n",
       "        text-align: right;\n",
       "    }\n",
       "</style>\n",
       "<table border=\"1\" class=\"dataframe\">\n",
       "  <thead>\n",
       "    <tr style=\"text-align: right;\">\n",
       "      <th></th>\n",
       "      <th>product_id</th>\n",
       "      <th>product_category_name</th>\n",
       "      <th>avg_price</th>\n",
       "    </tr>\n",
       "  </thead>\n",
       "  <tbody>\n",
       "    <tr>\n",
       "      <th>0</th>\n",
       "      <td>87285b34884572647811a353c7ac498a</td>\n",
       "      <td>utilidades_domesticas</td>\n",
       "      <td>29.990000</td>\n",
       "    </tr>\n",
       "    <tr>\n",
       "      <th>4</th>\n",
       "      <td>9abb00920aae319ef9eba674b7d2e6ff</td>\n",
       "      <td>bebes</td>\n",
       "      <td>37.288235</td>\n",
       "    </tr>\n",
       "    <tr>\n",
       "      <th>21</th>\n",
       "      <td>595fac2a385ac33a80bd5114aec74eb8</td>\n",
       "      <td>perfumaria</td>\n",
       "      <td>119.216038</td>\n",
       "    </tr>\n",
       "    <tr>\n",
       "      <th>127</th>\n",
       "      <td>0e2d365a247d105fefc31b17ab8706d9</td>\n",
       "      <td>perfumaria</td>\n",
       "      <td>122.768966</td>\n",
       "    </tr>\n",
       "    <tr>\n",
       "      <th>156</th>\n",
       "      <td>c1388e458b5dd74dd3fa304896e8c00d</td>\n",
       "      <td>perfumaria</td>\n",
       "      <td>29.900000</td>\n",
       "    </tr>\n",
       "  </tbody>\n",
       "</table>\n",
       "</div>"
      ],
      "text/plain": [
       "                           product_id  product_category_name   avg_price\n",
       "0    87285b34884572647811a353c7ac498a  utilidades_domesticas   29.990000\n",
       "4    9abb00920aae319ef9eba674b7d2e6ff                  bebes   37.288235\n",
       "21   595fac2a385ac33a80bd5114aec74eb8             perfumaria  119.216038\n",
       "127  0e2d365a247d105fefc31b17ab8706d9             perfumaria  122.768966\n",
       "156  c1388e458b5dd74dd3fa304896e8c00d             perfumaria   29.900000"
      ]
     },
     "execution_count": 220,
     "metadata": {},
     "output_type": "execute_result"
    }
   ],
   "source": [
    "user_data=test.copy()\n",
    "item_data=order_sim[['product_id', 'product_category_name', 'avg_price']].drop_duplicates('product_id')\n",
    "item_data.head()"
   ]
  },
  {
   "cell_type": "code",
   "execution_count": 221,
   "metadata": {
    "scrolled": true
   },
   "outputs": [],
   "source": [
    "item_data_category = pd.get_dummies(item_data, columns = ['product_category_name'])"
   ]
  },
  {
   "cell_type": "code",
   "execution_count": 222,
   "metadata": {},
   "outputs": [
    {
     "data": {
      "text/plain": [
       "1000"
      ]
     },
     "execution_count": 222,
     "metadata": {},
     "output_type": "execute_result"
    }
   ],
   "source": [
    "\n",
    "test = order_rfm_s.reset_index()\n",
    "list_c = list(test['customer_unique_id'])\n",
    "customer_list = random.sample(list_c, 1000)\n",
    "len(customer_list)"
   ]
  },
  {
   "cell_type": "code",
   "execution_count": 223,
   "metadata": {},
   "outputs": [],
   "source": [
    "def split_data(data):\n",
    "    '''\n",
    "    Splits dataset into training and test set.\n",
    "    \n",
    "    Args:\n",
    "        data (pandas.DataFrame)\n",
    "        \n",
    "    Returns\n",
    "        train_data (tc.SFrame)\n",
    "        test_data (tc.SFrame)\n",
    "    '''\n",
    "    train, test = train_test_split(data, test_size = .2)\n",
    "    train_data = tc.SFrame(train)\n",
    "    test_data = tc.SFrame(test)\n",
    "    return train_data, test_data"
   ]
  },
  {
   "cell_type": "code",
   "execution_count": 224,
   "metadata": {},
   "outputs": [],
   "source": [
    "train_data, test_data = split_data(data_count)\n",
    "train_data_dummy, test_data_dummy = split_data(data_dummy)"
   ]
  },
  {
   "cell_type": "code",
   "execution_count": 238,
   "metadata": {},
   "outputs": [],
   "source": [
    "user_id = 'customer_unique_id'\n",
    "item_id = 'product_id'\n",
    "user_data = tc.SFrame(user_data)\n",
    "item_data = tc.SFrame(item_data_category)\n",
    "users_to_recommend = customer_list\n",
    "n_rec = 10 \n",
    "n_display = 30 "
   ]
  },
  {
   "cell_type": "code",
   "execution_count": 226,
   "metadata": {},
   "outputs": [
    {
     "name": "stdout",
     "output_type": "stream",
     "text": [
      "+-------------------------------+-------------------------------+---------------+\n",
      "|           product_id          |       customer_unique_id      | order_item_id |\n",
      "+-------------------------------+-------------------------------+---------------+\n",
      "| 0c46bfb6210825d07804a6d4f8... | 1a8fb416e145a099289e11115e... |       1       |\n",
      "| 115e606ac8059e4cfa1c6c3310... | af2e8236fa3043ae9b3efff5dc... |       1       |\n",
      "| f3c5707e7c539ab6533e3611da... | 071cd8999ac70f2b72112bc3d4... |       1       |\n",
      "| 7efbc2ce01bc5ac5d5390c330f... | c79719fb0dffa4835479293c56... |       1       |\n",
      "| 80b5182ab2afa5091844c94a01... | 5d7873ae8c095b4aa1ad87e53a... |       1       |\n",
      "| eeba3ee5aa7d1d571752248eb4... | 19560db94472cdf51948e02929... |       3       |\n",
      "| 8e312c483d79e02dbc1d68cce7... | 64c5854c7d6b7c2daa86fb6e8b... |       1       |\n",
      "| c0350d6ac413eda4641bf92ab6... | 5cb6b80b0da1832a1e272cdcec... |       1       |\n",
      "| 3bbb1f94c6871212f10e8c2501... | b92d8ecbc60e7c6176e8f02ec8... |       1       |\n",
      "| 1dfb36d969d347f56f43590ec4... | 972d6a06c5e058c99c4186a5d4... |       1       |\n",
      "+-------------------------------+-------------------------------+---------------+\n",
      "[22665 rows x 3 columns]\n",
      "Note: Only the head of the SFrame is printed.\n",
      "You can use print_rows(num_rows=m, num_columns=n) to print more rows and columns.\n"
     ]
    }
   ],
   "source": [
    "print(test_data)"
   ]
  },
  {
   "cell_type": "code",
   "execution_count": 239,
   "metadata": {},
   "outputs": [],
   "source": [
    "def model(train_data, name, user_id, item_id, target, users_to_recommend, n_rec,n_display):\n",
    "    if name == 'popularity':\n",
    "        model = tc.popularity_recommender.create(train_data, \n",
    "                                                    user_id=user_id, \n",
    "                                                    item_id=item_id, \n",
    "                                                    user_data=user_data,\n",
    "                                                    item_data=item_data,\n",
    "                                                    target=target)\n",
    "    elif name == 'cosine':\n",
    "        model = tc.item_similarity_recommender.create(train_data, \n",
    "                                                    user_id=user_id, \n",
    "                                                    item_id=item_id, \n",
    "                                                    user_data=user_data,\n",
    "                                                    item_data=item_data,\n",
    "                                                    target=target, \n",
    "                                                    similarity_type='cosine')\n",
    "    elif name == 'pearson':\n",
    "        model = tc.item_similarity_recommender.create(train_data, \n",
    "                                                    user_id=user_id, \n",
    "                                                    item_id=item_id, \n",
    "                                                    user_data=user_data,\n",
    "                                                    item_data=item_data,\n",
    "                                                    target=target, \n",
    "                                                    similarity_type='pearson')\n",
    "        \n",
    "    recom = model.recommend(users=users_to_recommend, k=n_rec)\n",
    "    recom.print_rows(n_display)\n",
    "    return model"
   ]
  },
  {
   "cell_type": "code",
   "execution_count": 240,
   "metadata": {
    "scrolled": true
   },
   "outputs": [
    {
     "data": {
      "text/html": [
       "<pre>Preparing data set.</pre>"
      ],
      "text/plain": [
       "Preparing data set."
      ]
     },
     "metadata": {},
     "output_type": "display_data"
    },
    {
     "data": {
      "text/html": [
       "<pre>    Data has 90657 observations with 95420 users and 32951 items.</pre>"
      ],
      "text/plain": [
       "    Data has 90657 observations with 95420 users and 32951 items."
      ]
     },
     "metadata": {},
     "output_type": "display_data"
    },
    {
     "data": {
      "text/html": [
       "<pre>    Data prepared in: 0.620966s</pre>"
      ],
      "text/plain": [
       "    Data prepared in: 0.620966s"
      ]
     },
     "metadata": {},
     "output_type": "display_data"
    },
    {
     "data": {
      "text/html": [
       "<pre>90657 observations to process; with 32951 unique items.</pre>"
      ],
      "text/plain": [
       "90657 observations to process; with 32951 unique items."
      ]
     },
     "metadata": {},
     "output_type": "display_data"
    },
    {
     "data": {
      "text/html": [
       "<pre>recommendations finished on 1000/1000 queries. users per second: 3595.83</pre>"
      ],
      "text/plain": [
       "recommendations finished on 1000/1000 queries. users per second: 3595.83"
      ]
     },
     "metadata": {},
     "output_type": "display_data"
    },
    {
     "name": "stdout",
     "output_type": "stream",
     "text": [
      "+-------------------------------+-------------------------------+\n",
      "|       customer_unique_id      |           product_id          |\n",
      "+-------------------------------+-------------------------------+\n",
      "| 966e108168ffea9f05c036fdd0... | 79ce45dbc2ea29b22b5a261bbb... |\n",
      "| 966e108168ffea9f05c036fdd0... | 270516a3f41dc035aa87d22022... |\n",
      "| 966e108168ffea9f05c036fdd0... | 9571759451b1d780ee7c15012e... |\n",
      "| 966e108168ffea9f05c036fdd0... | bf44071ef18f5c9ded039681c6... |\n",
      "| 966e108168ffea9f05c036fdd0... | e95fb3a80ca294f39de925b642... |\n",
      "| 966e108168ffea9f05c036fdd0... | d25bbb182b51d1594fe3b54a27... |\n",
      "| 966e108168ffea9f05c036fdd0... | 37eb69aca8718e843d897aa7b8... |\n",
      "| 966e108168ffea9f05c036fdd0... | ac1ad58efc1ebf66bfadc09f29... |\n",
      "| 966e108168ffea9f05c036fdd0... | d05bb6074b45c20f7a516c239c... |\n",
      "| 966e108168ffea9f05c036fdd0... | 61b6e5d2e3ee58d2b341b8ef1a... |\n",
      "| 7f57422760e12c56da14617802... | 79ce45dbc2ea29b22b5a261bbb... |\n",
      "| 7f57422760e12c56da14617802... | 270516a3f41dc035aa87d22022... |\n",
      "| 7f57422760e12c56da14617802... | 9571759451b1d780ee7c15012e... |\n",
      "| 7f57422760e12c56da14617802... | bf44071ef18f5c9ded039681c6... |\n",
      "| 7f57422760e12c56da14617802... | e95fb3a80ca294f39de925b642... |\n",
      "| 7f57422760e12c56da14617802... | d25bbb182b51d1594fe3b54a27... |\n",
      "| 7f57422760e12c56da14617802... | 37eb69aca8718e843d897aa7b8... |\n",
      "| 7f57422760e12c56da14617802... | ac1ad58efc1ebf66bfadc09f29... |\n",
      "| 7f57422760e12c56da14617802... | d05bb6074b45c20f7a516c239c... |\n",
      "| 7f57422760e12c56da14617802... | 61b6e5d2e3ee58d2b341b8ef1a... |\n",
      "| 9a736b248f67d166d2fbb006bc... | 79ce45dbc2ea29b22b5a261bbb... |\n",
      "| 9a736b248f67d166d2fbb006bc... | 270516a3f41dc035aa87d22022... |\n",
      "| 9a736b248f67d166d2fbb006bc... | 9571759451b1d780ee7c15012e... |\n",
      "| 9a736b248f67d166d2fbb006bc... | bf44071ef18f5c9ded039681c6... |\n",
      "| 9a736b248f67d166d2fbb006bc... | e95fb3a80ca294f39de925b642... |\n",
      "| 9a736b248f67d166d2fbb006bc... | d25bbb182b51d1594fe3b54a27... |\n",
      "| 9a736b248f67d166d2fbb006bc... | 37eb69aca8718e843d897aa7b8... |\n",
      "| 9a736b248f67d166d2fbb006bc... | ac1ad58efc1ebf66bfadc09f29... |\n",
      "| 9a736b248f67d166d2fbb006bc... | d05bb6074b45c20f7a516c239c... |\n",
      "| 9a736b248f67d166d2fbb006bc... | 61b6e5d2e3ee58d2b341b8ef1a... |\n",
      "+-------------------------------+-------------------------------+\n",
      "+-------------------+------+\n",
      "|       score       | rank |\n",
      "+-------------------+------+\n",
      "|        21.0       |  1   |\n",
      "|        16.0       |  2   |\n",
      "|        11.2       |  3   |\n",
      "|        11.0       |  4   |\n",
      "|        8.5        |  5   |\n",
      "|        8.5        |  6   |\n",
      "|        8.25       |  7   |\n",
      "| 7.333333333333333 |  8   |\n",
      "|        7.0        |  9   |\n",
      "|        7.0        |  10  |\n",
      "|        21.0       |  1   |\n",
      "|        16.0       |  2   |\n",
      "|        11.2       |  3   |\n",
      "|        11.0       |  4   |\n",
      "|        8.5        |  5   |\n",
      "|        8.5        |  6   |\n",
      "|        8.25       |  7   |\n",
      "| 7.333333333333333 |  8   |\n",
      "|        7.0        |  9   |\n",
      "|        7.0        |  10  |\n",
      "|        21.0       |  1   |\n",
      "|        16.0       |  2   |\n",
      "|        11.2       |  3   |\n",
      "|        11.0       |  4   |\n",
      "|        8.5        |  5   |\n",
      "|        8.5        |  6   |\n",
      "|        8.25       |  7   |\n",
      "| 7.333333333333333 |  8   |\n",
      "|        7.0        |  9   |\n",
      "|        7.0        |  10  |\n",
      "+-------------------+------+\n",
      "[10000 rows x 4 columns]\n",
      "\n"
     ]
    }
   ],
   "source": [
    "name = 'popularity'\n",
    "target = 'order_item_id'\n",
    "popularity = model(train_data, name, user_id, item_id, target, customer_list, n_rec,n_display)"
   ]
  },
  {
   "cell_type": "code",
   "execution_count": 241,
   "metadata": {},
   "outputs": [
    {
     "data": {
      "text/html": [
       "<pre>Preparing data set.</pre>"
      ],
      "text/plain": [
       "Preparing data set."
      ]
     },
     "metadata": {},
     "output_type": "display_data"
    },
    {
     "data": {
      "text/html": [
       "<pre>    Data has 90657 observations with 95420 users and 32951 items.</pre>"
      ],
      "text/plain": [
       "    Data has 90657 observations with 95420 users and 32951 items."
      ]
     },
     "metadata": {},
     "output_type": "display_data"
    },
    {
     "data": {
      "text/html": [
       "<pre>    Data prepared in: 0.585298s</pre>"
      ],
      "text/plain": [
       "    Data prepared in: 0.585298s"
      ]
     },
     "metadata": {},
     "output_type": "display_data"
    },
    {
     "data": {
      "text/html": [
       "<pre>90657 observations to process; with 32951 unique items.</pre>"
      ],
      "text/plain": [
       "90657 observations to process; with 32951 unique items."
      ]
     },
     "metadata": {},
     "output_type": "display_data"
    },
    {
     "data": {
      "text/html": [
       "<pre>recommendations finished on 1000/1000 queries. users per second: 4805.1</pre>"
      ],
      "text/plain": [
       "recommendations finished on 1000/1000 queries. users per second: 4805.1"
      ]
     },
     "metadata": {},
     "output_type": "display_data"
    },
    {
     "name": "stdout",
     "output_type": "stream",
     "text": [
      "+-------------------------------+-------------------------------+-------+------+\n",
      "|       customer_unique_id      |           product_id          | score | rank |\n",
      "+-------------------------------+-------------------------------+-------+------+\n",
      "| 966e108168ffea9f05c036fdd0... | 67a1e52f1184a4ffecff3b0a80... |  1.0  |  1   |\n",
      "| 966e108168ffea9f05c036fdd0... | dd330cda72d57600ab101aafaf... |  1.0  |  2   |\n",
      "| 966e108168ffea9f05c036fdd0... | c87a617241993d71f043ed3985... |  1.0  |  3   |\n",
      "| 966e108168ffea9f05c036fdd0... | 51dea5d1ada11e6deab755d7ab... |  1.0  |  4   |\n",
      "| 966e108168ffea9f05c036fdd0... | 86da2c247cca57fe5928cc175e... |  1.0  |  5   |\n",
      "| 966e108168ffea9f05c036fdd0... | 16734715511e4a408f9b534c74... |  1.0  |  6   |\n",
      "| 966e108168ffea9f05c036fdd0... | 186052b3f166a0f7227e78b2d2... |  1.0  |  7   |\n",
      "| 966e108168ffea9f05c036fdd0... | c88c6b94ef95d151a4c6043e26... |  1.0  |  8   |\n",
      "| 966e108168ffea9f05c036fdd0... | f398dcfdd7c7e5933e300b4a3c... |  1.0  |  9   |\n",
      "| 966e108168ffea9f05c036fdd0... | 893c4e4b07dcb5a590645ddeb8... |  1.0  |  10  |\n",
      "| 7f57422760e12c56da14617802... | 67a1e52f1184a4ffecff3b0a80... |  1.0  |  1   |\n",
      "| 7f57422760e12c56da14617802... | dd330cda72d57600ab101aafaf... |  1.0  |  2   |\n",
      "| 7f57422760e12c56da14617802... | c87a617241993d71f043ed3985... |  1.0  |  3   |\n",
      "| 7f57422760e12c56da14617802... | 51dea5d1ada11e6deab755d7ab... |  1.0  |  4   |\n",
      "| 7f57422760e12c56da14617802... | 86da2c247cca57fe5928cc175e... |  1.0  |  5   |\n",
      "| 7f57422760e12c56da14617802... | 16734715511e4a408f9b534c74... |  1.0  |  6   |\n",
      "| 7f57422760e12c56da14617802... | 186052b3f166a0f7227e78b2d2... |  1.0  |  7   |\n",
      "| 7f57422760e12c56da14617802... | c88c6b94ef95d151a4c6043e26... |  1.0  |  8   |\n",
      "| 7f57422760e12c56da14617802... | f398dcfdd7c7e5933e300b4a3c... |  1.0  |  9   |\n",
      "| 7f57422760e12c56da14617802... | 893c4e4b07dcb5a590645ddeb8... |  1.0  |  10  |\n",
      "| 9a736b248f67d166d2fbb006bc... | 67a1e52f1184a4ffecff3b0a80... |  1.0  |  1   |\n",
      "| 9a736b248f67d166d2fbb006bc... | dd330cda72d57600ab101aafaf... |  1.0  |  2   |\n",
      "| 9a736b248f67d166d2fbb006bc... | c87a617241993d71f043ed3985... |  1.0  |  3   |\n",
      "| 9a736b248f67d166d2fbb006bc... | 51dea5d1ada11e6deab755d7ab... |  1.0  |  4   |\n",
      "| 9a736b248f67d166d2fbb006bc... | 86da2c247cca57fe5928cc175e... |  1.0  |  5   |\n",
      "| 9a736b248f67d166d2fbb006bc... | 16734715511e4a408f9b534c74... |  1.0  |  6   |\n",
      "| 9a736b248f67d166d2fbb006bc... | 186052b3f166a0f7227e78b2d2... |  1.0  |  7   |\n",
      "| 9a736b248f67d166d2fbb006bc... | c88c6b94ef95d151a4c6043e26... |  1.0  |  8   |\n",
      "| 9a736b248f67d166d2fbb006bc... | f398dcfdd7c7e5933e300b4a3c... |  1.0  |  9   |\n",
      "| 9a736b248f67d166d2fbb006bc... | 893c4e4b07dcb5a590645ddeb8... |  1.0  |  10  |\n",
      "+-------------------------------+-------------------------------+-------+------+\n",
      "[10000 rows x 4 columns]\n",
      "\n"
     ]
    }
   ],
   "source": [
    "name = 'popularity'\n",
    "target = 'target'\n",
    "popularity_dummy = model(train_data_dummy, name, user_id, item_id, target, customer_list, n_rec,n_display)"
   ]
  },
  {
   "cell_type": "code",
   "execution_count": 242,
   "metadata": {},
   "outputs": [
    {
     "data": {
      "text/html": [
       "<pre>Preparing data set.</pre>"
      ],
      "text/plain": [
       "Preparing data set."
      ]
     },
     "metadata": {},
     "output_type": "display_data"
    },
    {
     "data": {
      "text/html": [
       "<pre>    Data has 90657 observations with 95420 users and 32951 items.</pre>"
      ],
      "text/plain": [
       "    Data has 90657 observations with 95420 users and 32951 items."
      ]
     },
     "metadata": {},
     "output_type": "display_data"
    },
    {
     "data": {
      "text/html": [
       "<pre>    Data prepared in: 0.572336s</pre>"
      ],
      "text/plain": [
       "    Data prepared in: 0.572336s"
      ]
     },
     "metadata": {},
     "output_type": "display_data"
    },
    {
     "data": {
      "text/html": [
       "<pre>Training model from provided data.</pre>"
      ],
      "text/plain": [
       "Training model from provided data."
      ]
     },
     "metadata": {},
     "output_type": "display_data"
    },
    {
     "data": {
      "text/html": [
       "<pre>Gathering per-item and per-user statistics.</pre>"
      ],
      "text/plain": [
       "Gathering per-item and per-user statistics."
      ]
     },
     "metadata": {},
     "output_type": "display_data"
    },
    {
     "data": {
      "text/html": [
       "<pre>+--------------------------------+------------+</pre>"
      ],
      "text/plain": [
       "+--------------------------------+------------+"
      ]
     },
     "metadata": {},
     "output_type": "display_data"
    },
    {
     "data": {
      "text/html": [
       "<pre>| Elapsed Time (Item Statistics) | % Complete |</pre>"
      ],
      "text/plain": [
       "| Elapsed Time (Item Statistics) | % Complete |"
      ]
     },
     "metadata": {},
     "output_type": "display_data"
    },
    {
     "data": {
      "text/html": [
       "<pre>+--------------------------------+------------+</pre>"
      ],
      "text/plain": [
       "+--------------------------------+------------+"
      ]
     },
     "metadata": {},
     "output_type": "display_data"
    },
    {
     "data": {
      "text/html": [
       "<pre>| 1.606ms                        | 1          |</pre>"
      ],
      "text/plain": [
       "| 1.606ms                        | 1          |"
      ]
     },
     "metadata": {},
     "output_type": "display_data"
    },
    {
     "data": {
      "text/html": [
       "<pre>| 48.424ms                       | 100        |</pre>"
      ],
      "text/plain": [
       "| 48.424ms                       | 100        |"
      ]
     },
     "metadata": {},
     "output_type": "display_data"
    },
    {
     "data": {
      "text/html": [
       "<pre>+--------------------------------+------------+</pre>"
      ],
      "text/plain": [
       "+--------------------------------+------------+"
      ]
     },
     "metadata": {},
     "output_type": "display_data"
    },
    {
     "data": {
      "text/html": [
       "<pre>Setting up lookup tables.</pre>"
      ],
      "text/plain": [
       "Setting up lookup tables."
      ]
     },
     "metadata": {},
     "output_type": "display_data"
    },
    {
     "data": {
      "text/html": [
       "<pre>Processing data in one pass using dense lookup tables.</pre>"
      ],
      "text/plain": [
       "Processing data in one pass using dense lookup tables."
      ]
     },
     "metadata": {},
     "output_type": "display_data"
    },
    {
     "data": {
      "text/html": [
       "<pre>+-------------------------------------+------------------+-----------------+</pre>"
      ],
      "text/plain": [
       "+-------------------------------------+------------------+-----------------+"
      ]
     },
     "metadata": {},
     "output_type": "display_data"
    },
    {
     "data": {
      "text/html": [
       "<pre>| Elapsed Time (Constructing Lookups) | Total % Complete | Items Processed |</pre>"
      ],
      "text/plain": [
       "| Elapsed Time (Constructing Lookups) | Total % Complete | Items Processed |"
      ]
     },
     "metadata": {},
     "output_type": "display_data"
    },
    {
     "data": {
      "text/html": [
       "<pre>+-------------------------------------+------------------+-----------------+</pre>"
      ],
      "text/plain": [
       "+-------------------------------------+------------------+-----------------+"
      ]
     },
     "metadata": {},
     "output_type": "display_data"
    },
    {
     "data": {
      "text/html": [
       "<pre>| 4.54s                               | 0                | 0               |</pre>"
      ],
      "text/plain": [
       "| 4.54s                               | 0                | 0               |"
      ]
     },
     "metadata": {},
     "output_type": "display_data"
    },
    {
     "data": {
      "text/html": [
       "<pre>| 19.06s                              | 100              | 32951           |</pre>"
      ],
      "text/plain": [
       "| 19.06s                              | 100              | 32951           |"
      ]
     },
     "metadata": {},
     "output_type": "display_data"
    },
    {
     "data": {
      "text/html": [
       "<pre>+-------------------------------------+------------------+-----------------+</pre>"
      ],
      "text/plain": [
       "+-------------------------------------+------------------+-----------------+"
      ]
     },
     "metadata": {},
     "output_type": "display_data"
    },
    {
     "data": {
      "text/html": [
       "<pre>Finalizing lookup tables.</pre>"
      ],
      "text/plain": [
       "Finalizing lookup tables."
      ]
     },
     "metadata": {},
     "output_type": "display_data"
    },
    {
     "data": {
      "text/html": [
       "<pre>Generating candidate set for working with new users.</pre>"
      ],
      "text/plain": [
       "Generating candidate set for working with new users."
      ]
     },
     "metadata": {},
     "output_type": "display_data"
    },
    {
     "data": {
      "text/html": [
       "<pre>Finished training in 19.1615s</pre>"
      ],
      "text/plain": [
       "Finished training in 19.1615s"
      ]
     },
     "metadata": {},
     "output_type": "display_data"
    },
    {
     "data": {
      "text/html": [
       "<pre>recommendations finished on 1000/1000 queries. users per second: 2437.53</pre>"
      ],
      "text/plain": [
       "recommendations finished on 1000/1000 queries. users per second: 2437.53"
      ]
     },
     "metadata": {},
     "output_type": "display_data"
    },
    {
     "name": "stdout",
     "output_type": "stream",
     "text": [
      "+-------------------------------+-------------------------------+\n",
      "|       customer_unique_id      |           product_id          |\n",
      "+-------------------------------+-------------------------------+\n",
      "| 966e108168ffea9f05c036fdd0... | 8aa74335629d7d8e4ab23653b0... |\n",
      "| 966e108168ffea9f05c036fdd0... | dd330cda72d57600ab101aafaf... |\n",
      "| 966e108168ffea9f05c036fdd0... | c87a617241993d71f043ed3985... |\n",
      "| 966e108168ffea9f05c036fdd0... | 51dea5d1ada11e6deab755d7ab... |\n",
      "| 966e108168ffea9f05c036fdd0... | 86da2c247cca57fe5928cc175e... |\n",
      "| 966e108168ffea9f05c036fdd0... | 4579e87cfe02f4b4eaabb298a2... |\n",
      "| 966e108168ffea9f05c036fdd0... | 186052b3f166a0f7227e78b2d2... |\n",
      "| 966e108168ffea9f05c036fdd0... | c88c6b94ef95d151a4c6043e26... |\n",
      "| 966e108168ffea9f05c036fdd0... | f398dcfdd7c7e5933e300b4a3c... |\n",
      "| 966e108168ffea9f05c036fdd0... | 893c4e4b07dcb5a590645ddeb8... |\n",
      "| 7f57422760e12c56da14617802... | 0bcc3eeca39e1064258aa1e932... |\n",
      "| 7f57422760e12c56da14617802... | 422879e10f46682990de24d770... |\n",
      "| 7f57422760e12c56da14617802... | 3af48a958298d5d4663dd1f523... |\n",
      "| 7f57422760e12c56da14617802... | 389d119b48cf3043d311335e49... |\n",
      "| 7f57422760e12c56da14617802... | e53e557d5a159f5aa2c5e995df... |\n",
      "| 7f57422760e12c56da14617802... | 53759a2ecddad2bb87a079a1f1... |\n",
      "| 7f57422760e12c56da14617802... | 36f60d45225e60c7da4558b070... |\n",
      "| 7f57422760e12c56da14617802... | 2ef36e1cae01b86d0ff0a2f50f... |\n",
      "| 7f57422760e12c56da14617802... | 370c500401de58da2a25c8cab2... |\n",
      "| 7f57422760e12c56da14617802... | d43c65f300c5cfaae005f1f954... |\n",
      "| 9a736b248f67d166d2fbb006bc... | 0bcc3eeca39e1064258aa1e932... |\n",
      "| 9a736b248f67d166d2fbb006bc... | 422879e10f46682990de24d770... |\n",
      "| 9a736b248f67d166d2fbb006bc... | 3af48a958298d5d4663dd1f523... |\n",
      "| 9a736b248f67d166d2fbb006bc... | 389d119b48cf3043d311335e49... |\n",
      "| 9a736b248f67d166d2fbb006bc... | e53e557d5a159f5aa2c5e995df... |\n",
      "| 9a736b248f67d166d2fbb006bc... | 53759a2ecddad2bb87a079a1f1... |\n",
      "| 9a736b248f67d166d2fbb006bc... | 36f60d45225e60c7da4558b070... |\n",
      "| 9a736b248f67d166d2fbb006bc... | 2ef36e1cae01b86d0ff0a2f50f... |\n",
      "| 9a736b248f67d166d2fbb006bc... | 370c500401de58da2a25c8cab2... |\n",
      "| 9a736b248f67d166d2fbb006bc... | d43c65f300c5cfaae005f1f954... |\n",
      "+-------------------------------+-------------------------------+\n",
      "+-----------------------+------+\n",
      "|         score         | rank |\n",
      "+-----------------------+------+\n",
      "|  0.16537964344024658  |  1   |\n",
      "|          0.0          |  2   |\n",
      "|          0.0          |  3   |\n",
      "|          0.0          |  4   |\n",
      "|          0.0          |  5   |\n",
      "|          0.0          |  6   |\n",
      "|          0.0          |  7   |\n",
      "|          0.0          |  8   |\n",
      "|          0.0          |  9   |\n",
      "|          0.0          |  10  |\n",
      "| 0.0008250653743743896 |  1   |\n",
      "| 0.0006112456321716309 |  2   |\n",
      "| 0.0005603468418121338 |  3   |\n",
      "| 0.0005591499805450439 |  4   |\n",
      "| 0.0005386173725128174 |  5   |\n",
      "| 0.0005349171161651611 |  6   |\n",
      "| 0.0004239368438720703 |  7   |\n",
      "| 0.0003498375415802002 |  8   |\n",
      "| 0.0003299105167388916 |  9   |\n",
      "| 0.0003182649612426758 |  10  |\n",
      "| 0.0008250653743743896 |  1   |\n",
      "| 0.0006112456321716309 |  2   |\n",
      "| 0.0005603468418121338 |  3   |\n",
      "| 0.0005591499805450439 |  4   |\n",
      "| 0.0005386173725128174 |  5   |\n",
      "| 0.0005349171161651611 |  6   |\n",
      "| 0.0004239368438720703 |  7   |\n",
      "| 0.0003498375415802002 |  8   |\n",
      "| 0.0003299105167388916 |  9   |\n",
      "| 0.0003182649612426758 |  10  |\n",
      "+-----------------------+------+\n",
      "[10000 rows x 4 columns]\n",
      "\n"
     ]
    }
   ],
   "source": [
    "name = 'cosine'\n",
    "target = 'order_item_id'\n",
    "cos = model(train_data, name, user_id, item_id, target, customer_list, n_rec,n_display)"
   ]
  },
  {
   "cell_type": "code",
   "execution_count": 243,
   "metadata": {},
   "outputs": [
    {
     "data": {
      "text/html": [
       "<pre>Preparing data set.</pre>"
      ],
      "text/plain": [
       "Preparing data set."
      ]
     },
     "metadata": {},
     "output_type": "display_data"
    },
    {
     "data": {
      "text/html": [
       "<pre>    Data has 90657 observations with 95420 users and 32951 items.</pre>"
      ],
      "text/plain": [
       "    Data has 90657 observations with 95420 users and 32951 items."
      ]
     },
     "metadata": {},
     "output_type": "display_data"
    },
    {
     "data": {
      "text/html": [
       "<pre>    Data prepared in: 0.874105s</pre>"
      ],
      "text/plain": [
       "    Data prepared in: 0.874105s"
      ]
     },
     "metadata": {},
     "output_type": "display_data"
    },
    {
     "data": {
      "text/html": [
       "<pre>Training model from provided data.</pre>"
      ],
      "text/plain": [
       "Training model from provided data."
      ]
     },
     "metadata": {},
     "output_type": "display_data"
    },
    {
     "data": {
      "text/html": [
       "<pre>Gathering per-item and per-user statistics.</pre>"
      ],
      "text/plain": [
       "Gathering per-item and per-user statistics."
      ]
     },
     "metadata": {},
     "output_type": "display_data"
    },
    {
     "data": {
      "text/html": [
       "<pre>+--------------------------------+------------+</pre>"
      ],
      "text/plain": [
       "+--------------------------------+------------+"
      ]
     },
     "metadata": {},
     "output_type": "display_data"
    },
    {
     "data": {
      "text/html": [
       "<pre>| Elapsed Time (Item Statistics) | % Complete |</pre>"
      ],
      "text/plain": [
       "| Elapsed Time (Item Statistics) | % Complete |"
      ]
     },
     "metadata": {},
     "output_type": "display_data"
    },
    {
     "data": {
      "text/html": [
       "<pre>+--------------------------------+------------+</pre>"
      ],
      "text/plain": [
       "+--------------------------------+------------+"
      ]
     },
     "metadata": {},
     "output_type": "display_data"
    },
    {
     "data": {
      "text/html": [
       "<pre>| 1.165ms                        | 1          |</pre>"
      ],
      "text/plain": [
       "| 1.165ms                        | 1          |"
      ]
     },
     "metadata": {},
     "output_type": "display_data"
    },
    {
     "data": {
      "text/html": [
       "<pre>| 39.51ms                        | 100        |</pre>"
      ],
      "text/plain": [
       "| 39.51ms                        | 100        |"
      ]
     },
     "metadata": {},
     "output_type": "display_data"
    },
    {
     "data": {
      "text/html": [
       "<pre>+--------------------------------+------------+</pre>"
      ],
      "text/plain": [
       "+--------------------------------+------------+"
      ]
     },
     "metadata": {},
     "output_type": "display_data"
    },
    {
     "data": {
      "text/html": [
       "<pre>Setting up lookup tables.</pre>"
      ],
      "text/plain": [
       "Setting up lookup tables."
      ]
     },
     "metadata": {},
     "output_type": "display_data"
    },
    {
     "data": {
      "text/html": [
       "<pre>Processing data in one pass using dense lookup tables.</pre>"
      ],
      "text/plain": [
       "Processing data in one pass using dense lookup tables."
      ]
     },
     "metadata": {},
     "output_type": "display_data"
    },
    {
     "data": {
      "text/html": [
       "<pre>+-------------------------------------+------------------+-----------------+</pre>"
      ],
      "text/plain": [
       "+-------------------------------------+------------------+-----------------+"
      ]
     },
     "metadata": {},
     "output_type": "display_data"
    },
    {
     "data": {
      "text/html": [
       "<pre>| Elapsed Time (Constructing Lookups) | Total % Complete | Items Processed |</pre>"
      ],
      "text/plain": [
       "| Elapsed Time (Constructing Lookups) | Total % Complete | Items Processed |"
      ]
     },
     "metadata": {},
     "output_type": "display_data"
    },
    {
     "data": {
      "text/html": [
       "<pre>+-------------------------------------+------------------+-----------------+</pre>"
      ],
      "text/plain": [
       "+-------------------------------------+------------------+-----------------+"
      ]
     },
     "metadata": {},
     "output_type": "display_data"
    },
    {
     "data": {
      "text/html": [
       "<pre>| 3.81s                               | 0                | 0               |</pre>"
      ],
      "text/plain": [
       "| 3.81s                               | 0                | 0               |"
      ]
     },
     "metadata": {},
     "output_type": "display_data"
    },
    {
     "data": {
      "text/html": [
       "<pre>| 17.66s                              | 100              | 32951           |</pre>"
      ],
      "text/plain": [
       "| 17.66s                              | 100              | 32951           |"
      ]
     },
     "metadata": {},
     "output_type": "display_data"
    },
    {
     "data": {
      "text/html": [
       "<pre>+-------------------------------------+------------------+-----------------+</pre>"
      ],
      "text/plain": [
       "+-------------------------------------+------------------+-----------------+"
      ]
     },
     "metadata": {},
     "output_type": "display_data"
    },
    {
     "data": {
      "text/html": [
       "<pre>Finalizing lookup tables.</pre>"
      ],
      "text/plain": [
       "Finalizing lookup tables."
      ]
     },
     "metadata": {},
     "output_type": "display_data"
    },
    {
     "data": {
      "text/html": [
       "<pre>Generating candidate set for working with new users.</pre>"
      ],
      "text/plain": [
       "Generating candidate set for working with new users."
      ]
     },
     "metadata": {},
     "output_type": "display_data"
    },
    {
     "data": {
      "text/html": [
       "<pre>Finished training in 17.7329s</pre>"
      ],
      "text/plain": [
       "Finished training in 17.7329s"
      ]
     },
     "metadata": {},
     "output_type": "display_data"
    },
    {
     "data": {
      "text/html": [
       "<pre>recommendations finished on 1000/1000 queries. users per second: 3501.33</pre>"
      ],
      "text/plain": [
       "recommendations finished on 1000/1000 queries. users per second: 3501.33"
      ]
     },
     "metadata": {},
     "output_type": "display_data"
    },
    {
     "name": "stdout",
     "output_type": "stream",
     "text": [
      "+-------------------------------+-------------------------------+\n",
      "|       customer_unique_id      |           product_id          |\n",
      "+-------------------------------+-------------------------------+\n",
      "| 966e108168ffea9f05c036fdd0... | a38b238734207eeb0388676235... |\n",
      "| 966e108168ffea9f05c036fdd0... | e41a6ac2f57a273eb0d214c7cb... |\n",
      "| 966e108168ffea9f05c036fdd0... | 4a345c3b756b1f0089af0f3bf0... |\n",
      "| 966e108168ffea9f05c036fdd0... | 6f6f3b1a96452e2fbad0cd4f70... |\n",
      "| 966e108168ffea9f05c036fdd0... | cbdbabc3d8b1a111329afd03a9... |\n",
      "| 966e108168ffea9f05c036fdd0... | b384160c8fb72e5debfa85d451... |\n",
      "| 966e108168ffea9f05c036fdd0... | 629cd04871a85607710a2bc120... |\n",
      "| 966e108168ffea9f05c036fdd0... | 8919fe2519b9ec1fb828896ac4... |\n",
      "| 966e108168ffea9f05c036fdd0... | d0168e734683113fd736580717... |\n",
      "| 966e108168ffea9f05c036fdd0... | d51e0a7f437c0d14f560082ed0... |\n",
      "| 7f57422760e12c56da14617802... | 36f60d45225e60c7da4558b070... |\n",
      "| 7f57422760e12c56da14617802... | e53e557d5a159f5aa2c5e995df... |\n",
      "| 7f57422760e12c56da14617802... | 3f14d740544f37ece8a9e7bc83... |\n",
      "| 7f57422760e12c56da14617802... | 774e21c631ca26cba7b5606bdc... |\n",
      "| 7f57422760e12c56da14617802... | 154e7e31ebfa092203795c972e... |\n",
      "| 7f57422760e12c56da14617802... | 422879e10f46682990de24d770... |\n",
      "| 7f57422760e12c56da14617802... | 0bcc3eeca39e1064258aa1e932... |\n",
      "| 7f57422760e12c56da14617802... | abda62f854cffdc94184e6bcca... |\n",
      "| 7f57422760e12c56da14617802... | 370c500401de58da2a25c8cab2... |\n",
      "| 7f57422760e12c56da14617802... | ca349c4d87c594b4995fcc4fa9... |\n",
      "| 9a736b248f67d166d2fbb006bc... | 566a4f2c4385f36d15c00dfcaa... |\n",
      "| 9a736b248f67d166d2fbb006bc... | 4a345c3b756b1f0089af0f3bf0... |\n",
      "| 9a736b248f67d166d2fbb006bc... | 6f6f3b1a96452e2fbad0cd4f70... |\n",
      "| 9a736b248f67d166d2fbb006bc... | cbdbabc3d8b1a111329afd03a9... |\n",
      "| 9a736b248f67d166d2fbb006bc... | b384160c8fb72e5debfa85d451... |\n",
      "| 9a736b248f67d166d2fbb006bc... | 629cd04871a85607710a2bc120... |\n",
      "| 9a736b248f67d166d2fbb006bc... | 8919fe2519b9ec1fb828896ac4... |\n",
      "| 9a736b248f67d166d2fbb006bc... | d0168e734683113fd736580717... |\n",
      "| 9a736b248f67d166d2fbb006bc... | d51e0a7f437c0d14f560082ed0... |\n",
      "| 9a736b248f67d166d2fbb006bc... | a6b32d26b9f925954b1cd8339f... |\n",
      "+-------------------------------+-------------------------------+\n",
      "+-----------------------+------+\n",
      "|         score         | rank |\n",
      "+-----------------------+------+\n",
      "|  0.04319339990615845  |  1   |\n",
      "|  0.027317941188812256 |  2   |\n",
      "|          0.0          |  3   |\n",
      "|          0.0          |  4   |\n",
      "|          0.0          |  5   |\n",
      "|          0.0          |  6   |\n",
      "|          0.0          |  7   |\n",
      "|          0.0          |  8   |\n",
      "|          0.0          |  9   |\n",
      "|          0.0          |  10  |\n",
      "|  0.005827822685241699 |  1   |\n",
      "|  0.005827822685241699 |  2   |\n",
      "|  0.004151993989944458 |  3   |\n",
      "| 0.0035244357585906983 |  4   |\n",
      "|  0.002856544256210327 |  5   |\n",
      "| 0.0027526378631591796 |  6   |\n",
      "| 0.0026936626434326174 |  7   |\n",
      "| 0.0025508761405944823 |  8   |\n",
      "|  0.002492152452468872 |  9   |\n",
      "|  0.00243849515914917  |  10  |\n",
      "|  0.05812382698059082  |  1   |\n",
      "|          0.0          |  2   |\n",
      "|          0.0          |  3   |\n",
      "|          0.0          |  4   |\n",
      "|          0.0          |  5   |\n",
      "|          0.0          |  6   |\n",
      "|          0.0          |  7   |\n",
      "|          0.0          |  8   |\n",
      "|          0.0          |  9   |\n",
      "|          0.0          |  10  |\n",
      "+-----------------------+------+\n",
      "[10000 rows x 4 columns]\n",
      "\n"
     ]
    }
   ],
   "source": [
    "name = 'cosine'\n",
    "target = 'target'\n",
    "cos_dummy = model(train_data_dummy, name, user_id, item_id, target, customer_list, n_rec,n_display)"
   ]
  },
  {
   "cell_type": "code",
   "execution_count": 244,
   "metadata": {},
   "outputs": [
    {
     "data": {
      "text/html": [
       "<pre>Preparing data set.</pre>"
      ],
      "text/plain": [
       "Preparing data set."
      ]
     },
     "metadata": {},
     "output_type": "display_data"
    },
    {
     "data": {
      "text/html": [
       "<pre>    Data has 90657 observations with 95420 users and 32951 items.</pre>"
      ],
      "text/plain": [
       "    Data has 90657 observations with 95420 users and 32951 items."
      ]
     },
     "metadata": {},
     "output_type": "display_data"
    },
    {
     "data": {
      "text/html": [
       "<pre>    Data prepared in: 0.713985s</pre>"
      ],
      "text/plain": [
       "    Data prepared in: 0.713985s"
      ]
     },
     "metadata": {},
     "output_type": "display_data"
    },
    {
     "data": {
      "text/html": [
       "<pre>Training model from provided data.</pre>"
      ],
      "text/plain": [
       "Training model from provided data."
      ]
     },
     "metadata": {},
     "output_type": "display_data"
    },
    {
     "data": {
      "text/html": [
       "<pre>Gathering per-item and per-user statistics.</pre>"
      ],
      "text/plain": [
       "Gathering per-item and per-user statistics."
      ]
     },
     "metadata": {},
     "output_type": "display_data"
    },
    {
     "data": {
      "text/html": [
       "<pre>+--------------------------------+------------+</pre>"
      ],
      "text/plain": [
       "+--------------------------------+------------+"
      ]
     },
     "metadata": {},
     "output_type": "display_data"
    },
    {
     "data": {
      "text/html": [
       "<pre>| Elapsed Time (Item Statistics) | % Complete |</pre>"
      ],
      "text/plain": [
       "| Elapsed Time (Item Statistics) | % Complete |"
      ]
     },
     "metadata": {},
     "output_type": "display_data"
    },
    {
     "data": {
      "text/html": [
       "<pre>+--------------------------------+------------+</pre>"
      ],
      "text/plain": [
       "+--------------------------------+------------+"
      ]
     },
     "metadata": {},
     "output_type": "display_data"
    },
    {
     "data": {
      "text/html": [
       "<pre>| 4.539ms                        | 1          |</pre>"
      ],
      "text/plain": [
       "| 4.539ms                        | 1          |"
      ]
     },
     "metadata": {},
     "output_type": "display_data"
    },
    {
     "data": {
      "text/html": [
       "<pre>| 41.485ms                       | 100        |</pre>"
      ],
      "text/plain": [
       "| 41.485ms                       | 100        |"
      ]
     },
     "metadata": {},
     "output_type": "display_data"
    },
    {
     "data": {
      "text/html": [
       "<pre>+--------------------------------+------------+</pre>"
      ],
      "text/plain": [
       "+--------------------------------+------------+"
      ]
     },
     "metadata": {},
     "output_type": "display_data"
    },
    {
     "data": {
      "text/html": [
       "<pre>Setting up lookup tables.</pre>"
      ],
      "text/plain": [
       "Setting up lookup tables."
      ]
     },
     "metadata": {},
     "output_type": "display_data"
    },
    {
     "data": {
      "text/html": [
       "<pre>Processing data in one pass using dense lookup tables.</pre>"
      ],
      "text/plain": [
       "Processing data in one pass using dense lookup tables."
      ]
     },
     "metadata": {},
     "output_type": "display_data"
    },
    {
     "data": {
      "text/html": [
       "<pre>+-------------------------------------+------------------+-----------------+</pre>"
      ],
      "text/plain": [
       "+-------------------------------------+------------------+-----------------+"
      ]
     },
     "metadata": {},
     "output_type": "display_data"
    },
    {
     "data": {
      "text/html": [
       "<pre>| Elapsed Time (Constructing Lookups) | Total % Complete | Items Processed |</pre>"
      ],
      "text/plain": [
       "| Elapsed Time (Constructing Lookups) | Total % Complete | Items Processed |"
      ]
     },
     "metadata": {},
     "output_type": "display_data"
    },
    {
     "data": {
      "text/html": [
       "<pre>+-------------------------------------+------------------+-----------------+</pre>"
      ],
      "text/plain": [
       "+-------------------------------------+------------------+-----------------+"
      ]
     },
     "metadata": {},
     "output_type": "display_data"
    },
    {
     "data": {
      "text/html": [
       "<pre>| 3.77s                               | 0                | 0               |</pre>"
      ],
      "text/plain": [
       "| 3.77s                               | 0                | 0               |"
      ]
     },
     "metadata": {},
     "output_type": "display_data"
    },
    {
     "data": {
      "text/html": [
       "<pre>| 15.64s                              | 100              | 32951           |</pre>"
      ],
      "text/plain": [
       "| 15.64s                              | 100              | 32951           |"
      ]
     },
     "metadata": {},
     "output_type": "display_data"
    },
    {
     "data": {
      "text/html": [
       "<pre>+-------------------------------------+------------------+-----------------+</pre>"
      ],
      "text/plain": [
       "+-------------------------------------+------------------+-----------------+"
      ]
     },
     "metadata": {},
     "output_type": "display_data"
    },
    {
     "data": {
      "text/html": [
       "<pre>Finalizing lookup tables.</pre>"
      ],
      "text/plain": [
       "Finalizing lookup tables."
      ]
     },
     "metadata": {},
     "output_type": "display_data"
    },
    {
     "data": {
      "text/html": [
       "<pre>Generating candidate set for working with new users.</pre>"
      ],
      "text/plain": [
       "Generating candidate set for working with new users."
      ]
     },
     "metadata": {},
     "output_type": "display_data"
    },
    {
     "data": {
      "text/html": [
       "<pre>Finished training in 15.7042s</pre>"
      ],
      "text/plain": [
       "Finished training in 15.7042s"
      ]
     },
     "metadata": {},
     "output_type": "display_data"
    },
    {
     "data": {
      "text/html": [
       "<pre>recommendations finished on 1000/1000 queries. users per second: 3605.99</pre>"
      ],
      "text/plain": [
       "recommendations finished on 1000/1000 queries. users per second: 3605.99"
      ]
     },
     "metadata": {},
     "output_type": "display_data"
    },
    {
     "name": "stdout",
     "output_type": "stream",
     "text": [
      "+-------------------------------+-------------------------------+\n",
      "|       customer_unique_id      |           product_id          |\n",
      "+-------------------------------+-------------------------------+\n",
      "| 966e108168ffea9f05c036fdd0... | 79ce45dbc2ea29b22b5a261bbb... |\n",
      "| 966e108168ffea9f05c036fdd0... | 270516a3f41dc035aa87d22022... |\n",
      "| 966e108168ffea9f05c036fdd0... | 9571759451b1d780ee7c15012e... |\n",
      "| 966e108168ffea9f05c036fdd0... | bf44071ef18f5c9ded039681c6... |\n",
      "| 966e108168ffea9f05c036fdd0... | e95fb3a80ca294f39de925b642... |\n",
      "| 966e108168ffea9f05c036fdd0... | d25bbb182b51d1594fe3b54a27... |\n",
      "| 966e108168ffea9f05c036fdd0... | 37eb69aca8718e843d897aa7b8... |\n",
      "| 966e108168ffea9f05c036fdd0... | ac1ad58efc1ebf66bfadc09f29... |\n",
      "| 966e108168ffea9f05c036fdd0... | 61b6e5d2e3ee58d2b341b8ef1a... |\n",
      "| 966e108168ffea9f05c036fdd0... | d05bb6074b45c20f7a516c239c... |\n",
      "| 7f57422760e12c56da14617802... | 79ce45dbc2ea29b22b5a261bbb... |\n",
      "| 7f57422760e12c56da14617802... | 270516a3f41dc035aa87d22022... |\n",
      "| 7f57422760e12c56da14617802... | 9571759451b1d780ee7c15012e... |\n",
      "| 7f57422760e12c56da14617802... | bf44071ef18f5c9ded039681c6... |\n",
      "| 7f57422760e12c56da14617802... | e95fb3a80ca294f39de925b642... |\n",
      "| 7f57422760e12c56da14617802... | d25bbb182b51d1594fe3b54a27... |\n",
      "| 7f57422760e12c56da14617802... | 37eb69aca8718e843d897aa7b8... |\n",
      "| 7f57422760e12c56da14617802... | ac1ad58efc1ebf66bfadc09f29... |\n",
      "| 7f57422760e12c56da14617802... | 61b6e5d2e3ee58d2b341b8ef1a... |\n",
      "| 7f57422760e12c56da14617802... | d05bb6074b45c20f7a516c239c... |\n",
      "| 9a736b248f67d166d2fbb006bc... | 79ce45dbc2ea29b22b5a261bbb... |\n",
      "| 9a736b248f67d166d2fbb006bc... | 270516a3f41dc035aa87d22022... |\n",
      "| 9a736b248f67d166d2fbb006bc... | 9571759451b1d780ee7c15012e... |\n",
      "| 9a736b248f67d166d2fbb006bc... | bf44071ef18f5c9ded039681c6... |\n",
      "| 9a736b248f67d166d2fbb006bc... | e95fb3a80ca294f39de925b642... |\n",
      "| 9a736b248f67d166d2fbb006bc... | d25bbb182b51d1594fe3b54a27... |\n",
      "| 9a736b248f67d166d2fbb006bc... | 37eb69aca8718e843d897aa7b8... |\n",
      "| 9a736b248f67d166d2fbb006bc... | ac1ad58efc1ebf66bfadc09f29... |\n",
      "| 9a736b248f67d166d2fbb006bc... | 61b6e5d2e3ee58d2b341b8ef1a... |\n",
      "| 9a736b248f67d166d2fbb006bc... | d05bb6074b45c20f7a516c239c... |\n",
      "+-------------------------------+-------------------------------+\n",
      "+-------------------+------+\n",
      "|       score       | rank |\n",
      "+-------------------+------+\n",
      "|        21.0       |  1   |\n",
      "|        16.0       |  2   |\n",
      "|        11.2       |  3   |\n",
      "|        11.0       |  4   |\n",
      "|        8.5        |  5   |\n",
      "|        8.5        |  6   |\n",
      "|        8.25       |  7   |\n",
      "| 7.333333333333333 |  8   |\n",
      "|        7.0        |  9   |\n",
      "|        7.0        |  10  |\n",
      "|        21.0       |  1   |\n",
      "|        16.0       |  2   |\n",
      "|        11.2       |  3   |\n",
      "|        11.0       |  4   |\n",
      "|        8.5        |  5   |\n",
      "|        8.5        |  6   |\n",
      "|        8.25       |  7   |\n",
      "| 7.333333333333333 |  8   |\n",
      "|        7.0        |  9   |\n",
      "|        7.0        |  10  |\n",
      "|        21.0       |  1   |\n",
      "|        16.0       |  2   |\n",
      "|        11.2       |  3   |\n",
      "|        11.0       |  4   |\n",
      "|        8.5        |  5   |\n",
      "|        8.5        |  6   |\n",
      "|        8.25       |  7   |\n",
      "| 7.333333333333333 |  8   |\n",
      "|        7.0        |  9   |\n",
      "|        7.0        |  10  |\n",
      "+-------------------+------+\n",
      "[10000 rows x 4 columns]\n",
      "\n"
     ]
    }
   ],
   "source": [
    "name = 'pearson'\n",
    "target = 'order_item_id'\n",
    "pearson = model(train_data, name, user_id, item_id, target, customer_list, n_rec,n_display)"
   ]
  },
  {
   "cell_type": "code",
   "execution_count": 245,
   "metadata": {
    "scrolled": true
   },
   "outputs": [
    {
     "data": {
      "text/html": [
       "<pre>Preparing data set.</pre>"
      ],
      "text/plain": [
       "Preparing data set."
      ]
     },
     "metadata": {},
     "output_type": "display_data"
    },
    {
     "data": {
      "text/html": [
       "<pre>    Data has 90657 observations with 95420 users and 32951 items.</pre>"
      ],
      "text/plain": [
       "    Data has 90657 observations with 95420 users and 32951 items."
      ]
     },
     "metadata": {},
     "output_type": "display_data"
    },
    {
     "data": {
      "text/html": [
       "<pre>    Data prepared in: 0.737915s</pre>"
      ],
      "text/plain": [
       "    Data prepared in: 0.737915s"
      ]
     },
     "metadata": {},
     "output_type": "display_data"
    },
    {
     "data": {
      "text/html": [
       "<pre>Training model from provided data.</pre>"
      ],
      "text/plain": [
       "Training model from provided data."
      ]
     },
     "metadata": {},
     "output_type": "display_data"
    },
    {
     "data": {
      "text/html": [
       "<pre>Gathering per-item and per-user statistics.</pre>"
      ],
      "text/plain": [
       "Gathering per-item and per-user statistics."
      ]
     },
     "metadata": {},
     "output_type": "display_data"
    },
    {
     "data": {
      "text/html": [
       "<pre>+--------------------------------+------------+</pre>"
      ],
      "text/plain": [
       "+--------------------------------+------------+"
      ]
     },
     "metadata": {},
     "output_type": "display_data"
    },
    {
     "data": {
      "text/html": [
       "<pre>| Elapsed Time (Item Statistics) | % Complete |</pre>"
      ],
      "text/plain": [
       "| Elapsed Time (Item Statistics) | % Complete |"
      ]
     },
     "metadata": {},
     "output_type": "display_data"
    },
    {
     "data": {
      "text/html": [
       "<pre>+--------------------------------+------------+</pre>"
      ],
      "text/plain": [
       "+--------------------------------+------------+"
      ]
     },
     "metadata": {},
     "output_type": "display_data"
    },
    {
     "data": {
      "text/html": [
       "<pre>| 8.449ms                        | 1          |</pre>"
      ],
      "text/plain": [
       "| 8.449ms                        | 1          |"
      ]
     },
     "metadata": {},
     "output_type": "display_data"
    },
    {
     "data": {
      "text/html": [
       "<pre>| 47.801ms                       | 100        |</pre>"
      ],
      "text/plain": [
       "| 47.801ms                       | 100        |"
      ]
     },
     "metadata": {},
     "output_type": "display_data"
    },
    {
     "data": {
      "text/html": [
       "<pre>+--------------------------------+------------+</pre>"
      ],
      "text/plain": [
       "+--------------------------------+------------+"
      ]
     },
     "metadata": {},
     "output_type": "display_data"
    },
    {
     "data": {
      "text/html": [
       "<pre>Setting up lookup tables.</pre>"
      ],
      "text/plain": [
       "Setting up lookup tables."
      ]
     },
     "metadata": {},
     "output_type": "display_data"
    },
    {
     "data": {
      "text/html": [
       "<pre>Processing data in one pass using dense lookup tables.</pre>"
      ],
      "text/plain": [
       "Processing data in one pass using dense lookup tables."
      ]
     },
     "metadata": {},
     "output_type": "display_data"
    },
    {
     "data": {
      "text/html": [
       "<pre>+-------------------------------------+------------------+-----------------+</pre>"
      ],
      "text/plain": [
       "+-------------------------------------+------------------+-----------------+"
      ]
     },
     "metadata": {},
     "output_type": "display_data"
    },
    {
     "data": {
      "text/html": [
       "<pre>| Elapsed Time (Constructing Lookups) | Total % Complete | Items Processed |</pre>"
      ],
      "text/plain": [
       "| Elapsed Time (Constructing Lookups) | Total % Complete | Items Processed |"
      ]
     },
     "metadata": {},
     "output_type": "display_data"
    },
    {
     "data": {
      "text/html": [
       "<pre>+-------------------------------------+------------------+-----------------+</pre>"
      ],
      "text/plain": [
       "+-------------------------------------+------------------+-----------------+"
      ]
     },
     "metadata": {},
     "output_type": "display_data"
    },
    {
     "data": {
      "text/html": [
       "<pre>| 3.61s                               | 0                | 0               |</pre>"
      ],
      "text/plain": [
       "| 3.61s                               | 0                | 0               |"
      ]
     },
     "metadata": {},
     "output_type": "display_data"
    },
    {
     "data": {
      "text/html": [
       "<pre>| 11.55s                              | 100              | 32951           |</pre>"
      ],
      "text/plain": [
       "| 11.55s                              | 100              | 32951           |"
      ]
     },
     "metadata": {},
     "output_type": "display_data"
    },
    {
     "data": {
      "text/html": [
       "<pre>+-------------------------------------+------------------+-----------------+</pre>"
      ],
      "text/plain": [
       "+-------------------------------------+------------------+-----------------+"
      ]
     },
     "metadata": {},
     "output_type": "display_data"
    },
    {
     "data": {
      "text/html": [
       "<pre>Finalizing lookup tables.</pre>"
      ],
      "text/plain": [
       "Finalizing lookup tables."
      ]
     },
     "metadata": {},
     "output_type": "display_data"
    },
    {
     "data": {
      "text/html": [
       "<pre>Generating candidate set for working with new users.</pre>"
      ],
      "text/plain": [
       "Generating candidate set for working with new users."
      ]
     },
     "metadata": {},
     "output_type": "display_data"
    },
    {
     "data": {
      "text/html": [
       "<pre>Finished training in 11.6057s</pre>"
      ],
      "text/plain": [
       "Finished training in 11.6057s"
      ]
     },
     "metadata": {},
     "output_type": "display_data"
    },
    {
     "data": {
      "text/html": [
       "<pre>recommendations finished on 1000/1000 queries. users per second: 3406.28</pre>"
      ],
      "text/plain": [
       "recommendations finished on 1000/1000 queries. users per second: 3406.28"
      ]
     },
     "metadata": {},
     "output_type": "display_data"
    },
    {
     "name": "stdout",
     "output_type": "stream",
     "text": [
      "+-------------------------------+-------------------------------+-------+------+\n",
      "|       customer_unique_id      |           product_id          | score | rank |\n",
      "+-------------------------------+-------------------------------+-------+------+\n",
      "| 966e108168ffea9f05c036fdd0... | 67a1e52f1184a4ffecff3b0a80... |  1.0  |  1   |\n",
      "| 966e108168ffea9f05c036fdd0... | dd330cda72d57600ab101aafaf... |  1.0  |  2   |\n",
      "| 966e108168ffea9f05c036fdd0... | c87a617241993d71f043ed3985... |  1.0  |  3   |\n",
      "| 966e108168ffea9f05c036fdd0... | 51dea5d1ada11e6deab755d7ab... |  1.0  |  4   |\n",
      "| 966e108168ffea9f05c036fdd0... | 86da2c247cca57fe5928cc175e... |  1.0  |  5   |\n",
      "| 966e108168ffea9f05c036fdd0... | 16734715511e4a408f9b534c74... |  1.0  |  6   |\n",
      "| 966e108168ffea9f05c036fdd0... | 186052b3f166a0f7227e78b2d2... |  1.0  |  7   |\n",
      "| 966e108168ffea9f05c036fdd0... | c88c6b94ef95d151a4c6043e26... |  1.0  |  8   |\n",
      "| 966e108168ffea9f05c036fdd0... | f398dcfdd7c7e5933e300b4a3c... |  1.0  |  9   |\n",
      "| 966e108168ffea9f05c036fdd0... | 893c4e4b07dcb5a590645ddeb8... |  1.0  |  10  |\n",
      "| 7f57422760e12c56da14617802... | 67a1e52f1184a4ffecff3b0a80... |  1.0  |  1   |\n",
      "| 7f57422760e12c56da14617802... | dd330cda72d57600ab101aafaf... |  1.0  |  2   |\n",
      "| 7f57422760e12c56da14617802... | c87a617241993d71f043ed3985... |  1.0  |  3   |\n",
      "| 7f57422760e12c56da14617802... | 51dea5d1ada11e6deab755d7ab... |  1.0  |  4   |\n",
      "| 7f57422760e12c56da14617802... | 86da2c247cca57fe5928cc175e... |  1.0  |  5   |\n",
      "| 7f57422760e12c56da14617802... | 16734715511e4a408f9b534c74... |  1.0  |  6   |\n",
      "| 7f57422760e12c56da14617802... | 186052b3f166a0f7227e78b2d2... |  1.0  |  7   |\n",
      "| 7f57422760e12c56da14617802... | c88c6b94ef95d151a4c6043e26... |  1.0  |  8   |\n",
      "| 7f57422760e12c56da14617802... | f398dcfdd7c7e5933e300b4a3c... |  1.0  |  9   |\n",
      "| 7f57422760e12c56da14617802... | 893c4e4b07dcb5a590645ddeb8... |  1.0  |  10  |\n",
      "| 9a736b248f67d166d2fbb006bc... | 67a1e52f1184a4ffecff3b0a80... |  1.0  |  1   |\n",
      "| 9a736b248f67d166d2fbb006bc... | dd330cda72d57600ab101aafaf... |  1.0  |  2   |\n",
      "| 9a736b248f67d166d2fbb006bc... | c87a617241993d71f043ed3985... |  1.0  |  3   |\n",
      "| 9a736b248f67d166d2fbb006bc... | 51dea5d1ada11e6deab755d7ab... |  1.0  |  4   |\n",
      "| 9a736b248f67d166d2fbb006bc... | 86da2c247cca57fe5928cc175e... |  1.0  |  5   |\n",
      "| 9a736b248f67d166d2fbb006bc... | 16734715511e4a408f9b534c74... |  1.0  |  6   |\n",
      "| 9a736b248f67d166d2fbb006bc... | 186052b3f166a0f7227e78b2d2... |  1.0  |  7   |\n",
      "| 9a736b248f67d166d2fbb006bc... | c88c6b94ef95d151a4c6043e26... |  1.0  |  8   |\n",
      "| 9a736b248f67d166d2fbb006bc... | f398dcfdd7c7e5933e300b4a3c... |  1.0  |  9   |\n",
      "| 9a736b248f67d166d2fbb006bc... | 893c4e4b07dcb5a590645ddeb8... |  1.0  |  10  |\n",
      "+-------------------------------+-------------------------------+-------+------+\n",
      "[10000 rows x 4 columns]\n",
      "\n"
     ]
    }
   ],
   "source": [
    "name = 'pearson'\n",
    "target = 'target'\n",
    "pearson_dummy = model(train_data_dummy, name, user_id, item_id, target, customer_list, n_rec,n_display)"
   ]
  },
  {
   "cell_type": "markdown",
   "metadata": {},
   "source": [
    "<h4>Step 5. 模型評估</h4>\n",
    "比較三個模型的RMSE和Precison-Recall數值"
   ]
  },
  {
   "cell_type": "code",
   "execution_count": 246,
   "metadata": {},
   "outputs": [],
   "source": [
    "models_w_counts = [popularity, cos, pearson]\n",
    "models_w_dummy = [popularity_dummy, cos_dummy, pearson_dummy]\n",
    "names_w_counts = ['Popularity Model on Counts', 'Cosine Similarity on Counts', 'Pearson Similarity on Counts']\n",
    "names_w_dummy = ['Popularity Model on Dummy', 'Cosine Similarity on Dummy', 'Pearson Similarity on Dummy']"
   ]
  },
  {
   "cell_type": "code",
   "execution_count": 247,
   "metadata": {},
   "outputs": [
    {
     "name": "stdout",
     "output_type": "stream",
     "text": [
      "PROGRESS: Evaluate model Popularity Model on Counts\n"
     ]
    },
    {
     "data": {
      "text/html": [
       "<pre>recommendations finished on 1000/21634 queries. users per second: 4674.34</pre>"
      ],
      "text/plain": [
       "recommendations finished on 1000/21634 queries. users per second: 4674.34"
      ]
     },
     "metadata": {},
     "output_type": "display_data"
    },
    {
     "data": {
      "text/html": [
       "<pre>recommendations finished on 2000/21634 queries. users per second: 5038.54</pre>"
      ],
      "text/plain": [
       "recommendations finished on 2000/21634 queries. users per second: 5038.54"
      ]
     },
     "metadata": {},
     "output_type": "display_data"
    },
    {
     "data": {
      "text/html": [
       "<pre>recommendations finished on 3000/21634 queries. users per second: 4820.54</pre>"
      ],
      "text/plain": [
       "recommendations finished on 3000/21634 queries. users per second: 4820.54"
      ]
     },
     "metadata": {},
     "output_type": "display_data"
    },
    {
     "data": {
      "text/html": [
       "<pre>recommendations finished on 4000/21634 queries. users per second: 4835.92</pre>"
      ],
      "text/plain": [
       "recommendations finished on 4000/21634 queries. users per second: 4835.92"
      ]
     },
     "metadata": {},
     "output_type": "display_data"
    },
    {
     "data": {
      "text/html": [
       "<pre>recommendations finished on 5000/21634 queries. users per second: 4701.13</pre>"
      ],
      "text/plain": [
       "recommendations finished on 5000/21634 queries. users per second: 4701.13"
      ]
     },
     "metadata": {},
     "output_type": "display_data"
    },
    {
     "data": {
      "text/html": [
       "<pre>recommendations finished on 6000/21634 queries. users per second: 4716.8</pre>"
      ],
      "text/plain": [
       "recommendations finished on 6000/21634 queries. users per second: 4716.8"
      ]
     },
     "metadata": {},
     "output_type": "display_data"
    },
    {
     "data": {
      "text/html": [
       "<pre>recommendations finished on 7000/21634 queries. users per second: 4771.89</pre>"
      ],
      "text/plain": [
       "recommendations finished on 7000/21634 queries. users per second: 4771.89"
      ]
     },
     "metadata": {},
     "output_type": "display_data"
    },
    {
     "data": {
      "text/html": [
       "<pre>recommendations finished on 8000/21634 queries. users per second: 4848.27</pre>"
      ],
      "text/plain": [
       "recommendations finished on 8000/21634 queries. users per second: 4848.27"
      ]
     },
     "metadata": {},
     "output_type": "display_data"
    },
    {
     "data": {
      "text/html": [
       "<pre>recommendations finished on 9000/21634 queries. users per second: 4668.78</pre>"
      ],
      "text/plain": [
       "recommendations finished on 9000/21634 queries. users per second: 4668.78"
      ]
     },
     "metadata": {},
     "output_type": "display_data"
    },
    {
     "data": {
      "text/html": [
       "<pre>recommendations finished on 10000/21634 queries. users per second: 4650.08</pre>"
      ],
      "text/plain": [
       "recommendations finished on 10000/21634 queries. users per second: 4650.08"
      ]
     },
     "metadata": {},
     "output_type": "display_data"
    },
    {
     "data": {
      "text/html": [
       "<pre>recommendations finished on 11000/21634 queries. users per second: 4624.58</pre>"
      ],
      "text/plain": [
       "recommendations finished on 11000/21634 queries. users per second: 4624.58"
      ]
     },
     "metadata": {},
     "output_type": "display_data"
    },
    {
     "data": {
      "text/html": [
       "<pre>recommendations finished on 12000/21634 queries. users per second: 4629.24</pre>"
      ],
      "text/plain": [
       "recommendations finished on 12000/21634 queries. users per second: 4629.24"
      ]
     },
     "metadata": {},
     "output_type": "display_data"
    },
    {
     "data": {
      "text/html": [
       "<pre>recommendations finished on 13000/21634 queries. users per second: 4666.4</pre>"
      ],
      "text/plain": [
       "recommendations finished on 13000/21634 queries. users per second: 4666.4"
      ]
     },
     "metadata": {},
     "output_type": "display_data"
    },
    {
     "data": {
      "text/html": [
       "<pre>recommendations finished on 14000/21634 queries. users per second: 4713.81</pre>"
      ],
      "text/plain": [
       "recommendations finished on 14000/21634 queries. users per second: 4713.81"
      ]
     },
     "metadata": {},
     "output_type": "display_data"
    },
    {
     "data": {
      "text/html": [
       "<pre>recommendations finished on 15000/21634 queries. users per second: 4754.42</pre>"
      ],
      "text/plain": [
       "recommendations finished on 15000/21634 queries. users per second: 4754.42"
      ]
     },
     "metadata": {},
     "output_type": "display_data"
    },
    {
     "data": {
      "text/html": [
       "<pre>recommendations finished on 16000/21634 queries. users per second: 4643.36</pre>"
      ],
      "text/plain": [
       "recommendations finished on 16000/21634 queries. users per second: 4643.36"
      ]
     },
     "metadata": {},
     "output_type": "display_data"
    },
    {
     "data": {
      "text/html": [
       "<pre>recommendations finished on 17000/21634 queries. users per second: 4651.53</pre>"
      ],
      "text/plain": [
       "recommendations finished on 17000/21634 queries. users per second: 4651.53"
      ]
     },
     "metadata": {},
     "output_type": "display_data"
    },
    {
     "data": {
      "text/html": [
       "<pre>recommendations finished on 18000/21634 queries. users per second: 4689.74</pre>"
      ],
      "text/plain": [
       "recommendations finished on 18000/21634 queries. users per second: 4689.74"
      ]
     },
     "metadata": {},
     "output_type": "display_data"
    },
    {
     "data": {
      "text/html": [
       "<pre>recommendations finished on 19000/21634 queries. users per second: 4711.97</pre>"
      ],
      "text/plain": [
       "recommendations finished on 19000/21634 queries. users per second: 4711.97"
      ]
     },
     "metadata": {},
     "output_type": "display_data"
    },
    {
     "data": {
      "text/html": [
       "<pre>recommendations finished on 20000/21634 queries. users per second: 4738.96</pre>"
      ],
      "text/plain": [
       "recommendations finished on 20000/21634 queries. users per second: 4738.96"
      ]
     },
     "metadata": {},
     "output_type": "display_data"
    },
    {
     "data": {
      "text/html": [
       "<pre>recommendations finished on 21000/21634 queries. users per second: 4646.63</pre>"
      ],
      "text/plain": [
       "recommendations finished on 21000/21634 queries. users per second: 4646.63"
      ]
     },
     "metadata": {},
     "output_type": "display_data"
    },
    {
     "name": "stdout",
     "output_type": "stream",
     "text": [
      "\n",
      "Precision and recall summary statistics by cutoff\n",
      "+--------+------------------------+------------------------+\n",
      "| cutoff |     mean_precision     |      mean_recall       |\n",
      "+--------+------------------------+------------------------+\n",
      "|   1    |          0.0           |          0.0           |\n",
      "|   2    | 2.311176851252638e-05  | 7.703922837508791e-06  |\n",
      "|   3    | 3.081569135003515e-05  | 1.694863024251944e-05  |\n",
      "|   4    | 3.466765276878977e-05  | 2.850451449878257e-05  |\n",
      "|   5    | 4.622353702505325e-05  | 9.783982003636265e-05  |\n",
      "|   6    | 3.851961418754409e-05  | 9.783982003636265e-05  |\n",
      "|   7    | 3.962017459290284e-05  | 0.00011324766571138056 |\n",
      "|   8    | 3.4667652768789867e-05 | 0.00011324766571138056 |\n",
      "|   9    | 3.081569135003531e-05  | 0.00011324766571138056 |\n",
      "|   10   | 3.2356475917537306e-05 | 0.00012480354996764425 |\n",
      "+--------+------------------------+------------------------+\n",
      "[10 rows x 3 columns]\n",
      "\n",
      "\n",
      "Overall RMSE: 0.7828727239929034\n",
      "\n",
      "Per User RMSE (best)\n",
      "+-------------------------------+------+-------+\n",
      "|       customer_unique_id      | rmse | count |\n",
      "+-------------------------------+------+-------+\n",
      "| b7141964138c7784a87bcd0e70... | 0.0  |   1   |\n",
      "+-------------------------------+------+-------+\n",
      "[1 rows x 3 columns]\n",
      "\n",
      "\n",
      "Per User RMSE (worst)\n",
      "+-------------------------------+-------------------+-------+\n",
      "|       customer_unique_id      |        rmse       | count |\n",
      "+-------------------------------+-------------------+-------+\n",
      "| c402f431464c72e27330a67f7b... | 9.567650747618371 |   4   |\n",
      "+-------------------------------+-------------------+-------+\n",
      "[1 rows x 3 columns]\n",
      "\n",
      "\n",
      "Per Item RMSE (best)\n",
      "+-------------------------------+------+-------+\n",
      "|           product_id          | rmse | count |\n",
      "+-------------------------------+------+-------+\n",
      "| b1710c76a2b88d24f13cf3afbb... | 0.0  |   1   |\n",
      "+-------------------------------+------+-------+\n",
      "[1 rows x 3 columns]\n",
      "\n",
      "\n",
      "Per Item RMSE (worst)\n",
      "+-------------------------------+-------------------+-------+\n",
      "|           product_id          |        rmse       | count |\n",
      "+-------------------------------+-------------------+-------+\n",
      "| ee3d532c8a438679776d222e99... | 8.429280001353785 |   6   |\n",
      "+-------------------------------+-------------------+-------+\n",
      "[1 rows x 3 columns]\n",
      "\n",
      "PROGRESS: Evaluate model Cosine Similarity on Counts\n"
     ]
    },
    {
     "data": {
      "text/html": [
       "<pre>recommendations finished on 1000/21634 queries. users per second: 2725.26</pre>"
      ],
      "text/plain": [
       "recommendations finished on 1000/21634 queries. users per second: 2725.26"
      ]
     },
     "metadata": {},
     "output_type": "display_data"
    },
    {
     "data": {
      "text/html": [
       "<pre>recommendations finished on 2000/21634 queries. users per second: 3181.01</pre>"
      ],
      "text/plain": [
       "recommendations finished on 2000/21634 queries. users per second: 3181.01"
      ]
     },
     "metadata": {},
     "output_type": "display_data"
    },
    {
     "data": {
      "text/html": [
       "<pre>recommendations finished on 3000/21634 queries. users per second: 3411.63</pre>"
      ],
      "text/plain": [
       "recommendations finished on 3000/21634 queries. users per second: 3411.63"
      ]
     },
     "metadata": {},
     "output_type": "display_data"
    },
    {
     "data": {
      "text/html": [
       "<pre>recommendations finished on 4000/21634 queries. users per second: 3573.51</pre>"
      ],
      "text/plain": [
       "recommendations finished on 4000/21634 queries. users per second: 3573.51"
      ]
     },
     "metadata": {},
     "output_type": "display_data"
    },
    {
     "data": {
      "text/html": [
       "<pre>recommendations finished on 5000/21634 queries. users per second: 3622.4</pre>"
      ],
      "text/plain": [
       "recommendations finished on 5000/21634 queries. users per second: 3622.4"
      ]
     },
     "metadata": {},
     "output_type": "display_data"
    },
    {
     "data": {
      "text/html": [
       "<pre>recommendations finished on 6000/21634 queries. users per second: 3508.4</pre>"
      ],
      "text/plain": [
       "recommendations finished on 6000/21634 queries. users per second: 3508.4"
      ]
     },
     "metadata": {},
     "output_type": "display_data"
    },
    {
     "data": {
      "text/html": [
       "<pre>recommendations finished on 7000/21634 queries. users per second: 3491.07</pre>"
      ],
      "text/plain": [
       "recommendations finished on 7000/21634 queries. users per second: 3491.07"
      ]
     },
     "metadata": {},
     "output_type": "display_data"
    },
    {
     "data": {
      "text/html": [
       "<pre>recommendations finished on 8000/21634 queries. users per second: 3599.95</pre>"
      ],
      "text/plain": [
       "recommendations finished on 8000/21634 queries. users per second: 3599.95"
      ]
     },
     "metadata": {},
     "output_type": "display_data"
    },
    {
     "data": {
      "text/html": [
       "<pre>recommendations finished on 9000/21634 queries. users per second: 3644.39</pre>"
      ],
      "text/plain": [
       "recommendations finished on 9000/21634 queries. users per second: 3644.39"
      ]
     },
     "metadata": {},
     "output_type": "display_data"
    },
    {
     "data": {
      "text/html": [
       "<pre>recommendations finished on 10000/21634 queries. users per second: 3710.29</pre>"
      ],
      "text/plain": [
       "recommendations finished on 10000/21634 queries. users per second: 3710.29"
      ]
     },
     "metadata": {},
     "output_type": "display_data"
    },
    {
     "data": {
      "text/html": [
       "<pre>recommendations finished on 11000/21634 queries. users per second: 3760.81</pre>"
      ],
      "text/plain": [
       "recommendations finished on 11000/21634 queries. users per second: 3760.81"
      ]
     },
     "metadata": {},
     "output_type": "display_data"
    },
    {
     "data": {
      "text/html": [
       "<pre>recommendations finished on 12000/21634 queries. users per second: 3792.87</pre>"
      ],
      "text/plain": [
       "recommendations finished on 12000/21634 queries. users per second: 3792.87"
      ]
     },
     "metadata": {},
     "output_type": "display_data"
    },
    {
     "data": {
      "text/html": [
       "<pre>recommendations finished on 13000/21634 queries. users per second: 3813.75</pre>"
      ],
      "text/plain": [
       "recommendations finished on 13000/21634 queries. users per second: 3813.75"
      ]
     },
     "metadata": {},
     "output_type": "display_data"
    },
    {
     "data": {
      "text/html": [
       "<pre>recommendations finished on 14000/21634 queries. users per second: 3825.85</pre>"
      ],
      "text/plain": [
       "recommendations finished on 14000/21634 queries. users per second: 3825.85"
      ]
     },
     "metadata": {},
     "output_type": "display_data"
    },
    {
     "data": {
      "text/html": [
       "<pre>recommendations finished on 15000/21634 queries. users per second: 3849.62</pre>"
      ],
      "text/plain": [
       "recommendations finished on 15000/21634 queries. users per second: 3849.62"
      ]
     },
     "metadata": {},
     "output_type": "display_data"
    },
    {
     "data": {
      "text/html": [
       "<pre>recommendations finished on 16000/21634 queries. users per second: 3862.76</pre>"
      ],
      "text/plain": [
       "recommendations finished on 16000/21634 queries. users per second: 3862.76"
      ]
     },
     "metadata": {},
     "output_type": "display_data"
    },
    {
     "data": {
      "text/html": [
       "<pre>recommendations finished on 17000/21634 queries. users per second: 3875.08</pre>"
      ],
      "text/plain": [
       "recommendations finished on 17000/21634 queries. users per second: 3875.08"
      ]
     },
     "metadata": {},
     "output_type": "display_data"
    },
    {
     "data": {
      "text/html": [
       "<pre>recommendations finished on 18000/21634 queries. users per second: 3897.54</pre>"
      ],
      "text/plain": [
       "recommendations finished on 18000/21634 queries. users per second: 3897.54"
      ]
     },
     "metadata": {},
     "output_type": "display_data"
    },
    {
     "data": {
      "text/html": [
       "<pre>recommendations finished on 19000/21634 queries. users per second: 3923.48</pre>"
      ],
      "text/plain": [
       "recommendations finished on 19000/21634 queries. users per second: 3923.48"
      ]
     },
     "metadata": {},
     "output_type": "display_data"
    },
    {
     "data": {
      "text/html": [
       "<pre>recommendations finished on 20000/21634 queries. users per second: 3946.61</pre>"
      ],
      "text/plain": [
       "recommendations finished on 20000/21634 queries. users per second: 3946.61"
      ]
     },
     "metadata": {},
     "output_type": "display_data"
    },
    {
     "data": {
      "text/html": [
       "<pre>recommendations finished on 21000/21634 queries. users per second: 3937.59</pre>"
      ],
      "text/plain": [
       "recommendations finished on 21000/21634 queries. users per second: 3937.59"
      ]
     },
     "metadata": {},
     "output_type": "display_data"
    },
    {
     "name": "stdout",
     "output_type": "stream",
     "text": [
      "\n",
      "Precision and recall summary statistics by cutoff\n",
      "+--------+-----------------------+-----------------------+\n",
      "| cutoff |     mean_precision    |      mean_recall      |\n",
      "+--------+-----------------------+-----------------------+\n",
      "|   1    | 0.0010169178145511687 | 0.0009475825090135916 |\n",
      "|   2    | 0.0018027179439770733 |  0.003397429971341417 |\n",
      "|   3    | 0.0012480354996764367 | 0.0035361005824165632 |\n",
      "|   4    | 0.0014098178792641145 |  0.005361930294906161 |\n",
      "|   5    | 0.0013404825737265405 |  0.006371144186619862 |\n",
      "|   6    | 0.0014406335706141486 |  0.008235493513296912 |\n",
      "|   7    | 0.0013734993858873013 |  0.009094480909679181 |\n",
      "|   8    | 0.0012075899047795245 |  0.009109888755354189 |\n",
      "|   9    | 0.0010836851458095793 |  0.009202335829404308 |\n",
      "|   10   | 0.0009845613386336297 |  0.009294782903454415 |\n",
      "+--------+-----------------------+-----------------------+\n",
      "[10 rows x 3 columns]\n",
      "\n",
      "\n",
      "Overall RMSE: 1.3932942628986154\n",
      "\n",
      "Per User RMSE (best)\n",
      "+-------------------------------+--------------------+-------+\n",
      "|       customer_unique_id      |        rmse        | count |\n",
      "+-------------------------------+--------------------+-------+\n",
      "| 7046e497e00562b3f0d3b3bdc5... | 0.8026500940322876 |   1   |\n",
      "+-------------------------------+--------------------+-------+\n",
      "[1 rows x 3 columns]\n",
      "\n",
      "\n",
      "Per User RMSE (worst)\n",
      "+-------------------------------+-------------------+-------+\n",
      "|       customer_unique_id      |        rmse       | count |\n",
      "+-------------------------------+-------------------+-------+\n",
      "| c402f431464c72e27330a67f7b... | 13.88344337691482 |   4   |\n",
      "+-------------------------------+-------------------+-------+\n",
      "[1 rows x 3 columns]\n",
      "\n",
      "\n",
      "Per Item RMSE (best)\n",
      "+-------------------------------+--------------------+-------+\n",
      "|           product_id          |        rmse        | count |\n",
      "+-------------------------------+--------------------+-------+\n",
      "| 6bd248f93425ceeb625a8a97e2... | 0.9757768567838385 |   6   |\n",
      "+-------------------------------+--------------------+-------+\n",
      "[1 rows x 3 columns]\n",
      "\n",
      "\n",
      "Per Item RMSE (worst)\n",
      "+-------------------------------+--------------------+-------+\n",
      "|           product_id          |        rmse        | count |\n",
      "+-------------------------------+--------------------+-------+\n",
      "| 270516a3f41dc035aa87d22022... | 13.991068579633222 |   4   |\n",
      "+-------------------------------+--------------------+-------+\n",
      "[1 rows x 3 columns]\n",
      "\n",
      "PROGRESS: Evaluate model Pearson Similarity on Counts\n"
     ]
    },
    {
     "data": {
      "text/html": [
       "<pre>recommendations finished on 1000/21634 queries. users per second: 2553.35</pre>"
      ],
      "text/plain": [
       "recommendations finished on 1000/21634 queries. users per second: 2553.35"
      ]
     },
     "metadata": {},
     "output_type": "display_data"
    },
    {
     "data": {
      "text/html": [
       "<pre>recommendations finished on 2000/21634 queries. users per second: 2655.04</pre>"
      ],
      "text/plain": [
       "recommendations finished on 2000/21634 queries. users per second: 2655.04"
      ]
     },
     "metadata": {},
     "output_type": "display_data"
    },
    {
     "data": {
      "text/html": [
       "<pre>recommendations finished on 3000/21634 queries. users per second: 2827.15</pre>"
      ],
      "text/plain": [
       "recommendations finished on 3000/21634 queries. users per second: 2827.15"
      ]
     },
     "metadata": {},
     "output_type": "display_data"
    },
    {
     "data": {
      "text/html": [
       "<pre>recommendations finished on 4000/21634 queries. users per second: 2915.05</pre>"
      ],
      "text/plain": [
       "recommendations finished on 4000/21634 queries. users per second: 2915.05"
      ]
     },
     "metadata": {},
     "output_type": "display_data"
    },
    {
     "data": {
      "text/html": [
       "<pre>recommendations finished on 5000/21634 queries. users per second: 2985.14</pre>"
      ],
      "text/plain": [
       "recommendations finished on 5000/21634 queries. users per second: 2985.14"
      ]
     },
     "metadata": {},
     "output_type": "display_data"
    },
    {
     "data": {
      "text/html": [
       "<pre>recommendations finished on 6000/21634 queries. users per second: 3024.02</pre>"
      ],
      "text/plain": [
       "recommendations finished on 6000/21634 queries. users per second: 3024.02"
      ]
     },
     "metadata": {},
     "output_type": "display_data"
    },
    {
     "data": {
      "text/html": [
       "<pre>recommendations finished on 7000/21634 queries. users per second: 2965.89</pre>"
      ],
      "text/plain": [
       "recommendations finished on 7000/21634 queries. users per second: 2965.89"
      ]
     },
     "metadata": {},
     "output_type": "display_data"
    },
    {
     "data": {
      "text/html": [
       "<pre>recommendations finished on 8000/21634 queries. users per second: 3017.93</pre>"
      ],
      "text/plain": [
       "recommendations finished on 8000/21634 queries. users per second: 3017.93"
      ]
     },
     "metadata": {},
     "output_type": "display_data"
    },
    {
     "data": {
      "text/html": [
       "<pre>recommendations finished on 9000/21634 queries. users per second: 3050.27</pre>"
      ],
      "text/plain": [
       "recommendations finished on 9000/21634 queries. users per second: 3050.27"
      ]
     },
     "metadata": {},
     "output_type": "display_data"
    },
    {
     "data": {
      "text/html": [
       "<pre>recommendations finished on 10000/21634 queries. users per second: 3040.06</pre>"
      ],
      "text/plain": [
       "recommendations finished on 10000/21634 queries. users per second: 3040.06"
      ]
     },
     "metadata": {},
     "output_type": "display_data"
    },
    {
     "data": {
      "text/html": [
       "<pre>recommendations finished on 11000/21634 queries. users per second: 3059.3</pre>"
      ],
      "text/plain": [
       "recommendations finished on 11000/21634 queries. users per second: 3059.3"
      ]
     },
     "metadata": {},
     "output_type": "display_data"
    },
    {
     "data": {
      "text/html": [
       "<pre>recommendations finished on 12000/21634 queries. users per second: 3085.44</pre>"
      ],
      "text/plain": [
       "recommendations finished on 12000/21634 queries. users per second: 3085.44"
      ]
     },
     "metadata": {},
     "output_type": "display_data"
    },
    {
     "data": {
      "text/html": [
       "<pre>recommendations finished on 13000/21634 queries. users per second: 3111.35</pre>"
      ],
      "text/plain": [
       "recommendations finished on 13000/21634 queries. users per second: 3111.35"
      ]
     },
     "metadata": {},
     "output_type": "display_data"
    },
    {
     "data": {
      "text/html": [
       "<pre>recommendations finished on 14000/21634 queries. users per second: 3086.2</pre>"
      ],
      "text/plain": [
       "recommendations finished on 14000/21634 queries. users per second: 3086.2"
      ]
     },
     "metadata": {},
     "output_type": "display_data"
    },
    {
     "data": {
      "text/html": [
       "<pre>recommendations finished on 15000/21634 queries. users per second: 3106.57</pre>"
      ],
      "text/plain": [
       "recommendations finished on 15000/21634 queries. users per second: 3106.57"
      ]
     },
     "metadata": {},
     "output_type": "display_data"
    },
    {
     "data": {
      "text/html": [
       "<pre>recommendations finished on 16000/21634 queries. users per second: 3121.07</pre>"
      ],
      "text/plain": [
       "recommendations finished on 16000/21634 queries. users per second: 3121.07"
      ]
     },
     "metadata": {},
     "output_type": "display_data"
    },
    {
     "data": {
      "text/html": [
       "<pre>recommendations finished on 17000/21634 queries. users per second: 3135.92</pre>"
      ],
      "text/plain": [
       "recommendations finished on 17000/21634 queries. users per second: 3135.92"
      ]
     },
     "metadata": {},
     "output_type": "display_data"
    },
    {
     "data": {
      "text/html": [
       "<pre>recommendations finished on 18000/21634 queries. users per second: 3152.48</pre>"
      ],
      "text/plain": [
       "recommendations finished on 18000/21634 queries. users per second: 3152.48"
      ]
     },
     "metadata": {},
     "output_type": "display_data"
    },
    {
     "data": {
      "text/html": [
       "<pre>recommendations finished on 19000/21634 queries. users per second: 3166.05</pre>"
      ],
      "text/plain": [
       "recommendations finished on 19000/21634 queries. users per second: 3166.05"
      ]
     },
     "metadata": {},
     "output_type": "display_data"
    },
    {
     "data": {
      "text/html": [
       "<pre>recommendations finished on 20000/21634 queries. users per second: 3176.87</pre>"
      ],
      "text/plain": [
       "recommendations finished on 20000/21634 queries. users per second: 3176.87"
      ]
     },
     "metadata": {},
     "output_type": "display_data"
    },
    {
     "data": {
      "text/html": [
       "<pre>recommendations finished on 21000/21634 queries. users per second: 3169.59</pre>"
      ],
      "text/plain": [
       "recommendations finished on 21000/21634 queries. users per second: 3169.59"
      ]
     },
     "metadata": {},
     "output_type": "display_data"
    },
    {
     "name": "stdout",
     "output_type": "stream",
     "text": [
      "\n",
      "Precision and recall summary statistics by cutoff\n",
      "+--------+------------------------+------------------------+\n",
      "| cutoff |     mean_precision     |      mean_recall       |\n",
      "+--------+------------------------+------------------------+\n",
      "|   1    |          0.0           |          0.0           |\n",
      "|   2    | 2.311176851252641e-05  | 7.703922837508783e-06  |\n",
      "|   3    | 3.081569135003513e-05  | 1.694863024251944e-05  |\n",
      "|   4    | 3.466765276878981e-05  | 2.850451449878267e-05  |\n",
      "|   5    | 4.622353702505316e-05  | 9.783982003636281e-05  |\n",
      "|   6    | 3.8519614187544283e-05 | 9.783982003636281e-05  |\n",
      "|   7    | 3.962017459290277e-05  | 0.00011324766571138024 |\n",
      "|   8    | 3.466765276878988e-05  | 0.00011324766571138024 |\n",
      "|   9    | 3.0815691350035185e-05 | 0.00011324766571138024 |\n",
      "|   10   | 2.7734122215031995e-05 | 0.00011324766571138024 |\n",
      "+--------+------------------------+------------------------+\n",
      "[10 rows x 3 columns]\n",
      "\n",
      "\n",
      "Overall RMSE: 0.7910975387325168\n",
      "\n",
      "Per User RMSE (best)\n",
      "+-------------------------------+------+-------+\n",
      "|       customer_unique_id      | rmse | count |\n",
      "+-------------------------------+------+-------+\n",
      "| b7141964138c7784a87bcd0e70... | 0.0  |   1   |\n",
      "+-------------------------------+------+-------+\n",
      "[1 rows x 3 columns]\n",
      "\n",
      "\n",
      "Per User RMSE (worst)\n",
      "+-------------------------------+--------------------+-------+\n",
      "|       customer_unique_id      |        rmse        | count |\n",
      "+-------------------------------+--------------------+-------+\n",
      "| c402f431464c72e27330a67f7b... | 12.057320070610892 |   4   |\n",
      "+-------------------------------+--------------------+-------+\n",
      "[1 rows x 3 columns]\n",
      "\n",
      "\n",
      "Per Item RMSE (best)\n",
      "+-------------------------------+------+-------+\n",
      "|           product_id          | rmse | count |\n",
      "+-------------------------------+------+-------+\n",
      "| b1710c76a2b88d24f13cf3afbb... | 0.0  |   1   |\n",
      "+-------------------------------+------+-------+\n",
      "[1 rows x 3 columns]\n",
      "\n",
      "\n",
      "Per Item RMSE (worst)\n",
      "+-------------------------------+------------------+-------+\n",
      "|           product_id          |       rmse       | count |\n",
      "+-------------------------------+------------------+-------+\n",
      "| ee3d532c8a438679776d222e99... | 9.86563683711411 |   6   |\n",
      "+-------------------------------+------------------+-------+\n",
      "[1 rows x 3 columns]\n",
      "\n"
     ]
    }
   ],
   "source": [
    "eval_counts = tc.recommender.util.compare_models(test_data, models_w_counts, model_names=names_w_counts)"
   ]
  },
  {
   "cell_type": "code",
   "execution_count": 248,
   "metadata": {},
   "outputs": [
    {
     "name": "stdout",
     "output_type": "stream",
     "text": [
      "PROGRESS: Evaluate model Popularity Model on Dummy\n"
     ]
    },
    {
     "data": {
      "text/html": [
       "<pre>recommendations finished on 1000/21639 queries. users per second: 4463.85</pre>"
      ],
      "text/plain": [
       "recommendations finished on 1000/21639 queries. users per second: 4463.85"
      ]
     },
     "metadata": {},
     "output_type": "display_data"
    },
    {
     "data": {
      "text/html": [
       "<pre>recommendations finished on 2000/21639 queries. users per second: 4960.5</pre>"
      ],
      "text/plain": [
       "recommendations finished on 2000/21639 queries. users per second: 4960.5"
      ]
     },
     "metadata": {},
     "output_type": "display_data"
    },
    {
     "data": {
      "text/html": [
       "<pre>recommendations finished on 3000/21639 queries. users per second: 5183.82</pre>"
      ],
      "text/plain": [
       "recommendations finished on 3000/21639 queries. users per second: 5183.82"
      ]
     },
     "metadata": {},
     "output_type": "display_data"
    },
    {
     "data": {
      "text/html": [
       "<pre>recommendations finished on 4000/21639 queries. users per second: 5352.33</pre>"
      ],
      "text/plain": [
       "recommendations finished on 4000/21639 queries. users per second: 5352.33"
      ]
     },
     "metadata": {},
     "output_type": "display_data"
    },
    {
     "data": {
      "text/html": [
       "<pre>recommendations finished on 5000/21639 queries. users per second: 5199.18</pre>"
      ],
      "text/plain": [
       "recommendations finished on 5000/21639 queries. users per second: 5199.18"
      ]
     },
     "metadata": {},
     "output_type": "display_data"
    },
    {
     "data": {
      "text/html": [
       "<pre>recommendations finished on 6000/21639 queries. users per second: 4921.83</pre>"
      ],
      "text/plain": [
       "recommendations finished on 6000/21639 queries. users per second: 4921.83"
      ]
     },
     "metadata": {},
     "output_type": "display_data"
    },
    {
     "data": {
      "text/html": [
       "<pre>recommendations finished on 7000/21639 queries. users per second: 4960.69</pre>"
      ],
      "text/plain": [
       "recommendations finished on 7000/21639 queries. users per second: 4960.69"
      ]
     },
     "metadata": {},
     "output_type": "display_data"
    },
    {
     "data": {
      "text/html": [
       "<pre>recommendations finished on 8000/21639 queries. users per second: 5062.95</pre>"
      ],
      "text/plain": [
       "recommendations finished on 8000/21639 queries. users per second: 5062.95"
      ]
     },
     "metadata": {},
     "output_type": "display_data"
    },
    {
     "data": {
      "text/html": [
       "<pre>recommendations finished on 9000/21639 queries. users per second: 5068.17</pre>"
      ],
      "text/plain": [
       "recommendations finished on 9000/21639 queries. users per second: 5068.17"
      ]
     },
     "metadata": {},
     "output_type": "display_data"
    },
    {
     "data": {
      "text/html": [
       "<pre>recommendations finished on 10000/21639 queries. users per second: 4925.25</pre>"
      ],
      "text/plain": [
       "recommendations finished on 10000/21639 queries. users per second: 4925.25"
      ]
     },
     "metadata": {},
     "output_type": "display_data"
    },
    {
     "data": {
      "text/html": [
       "<pre>recommendations finished on 11000/21639 queries. users per second: 4871.71</pre>"
      ],
      "text/plain": [
       "recommendations finished on 11000/21639 queries. users per second: 4871.71"
      ]
     },
     "metadata": {},
     "output_type": "display_data"
    },
    {
     "data": {
      "text/html": [
       "<pre>recommendations finished on 12000/21639 queries. users per second: 4878.53</pre>"
      ],
      "text/plain": [
       "recommendations finished on 12000/21639 queries. users per second: 4878.53"
      ]
     },
     "metadata": {},
     "output_type": "display_data"
    },
    {
     "data": {
      "text/html": [
       "<pre>recommendations finished on 13000/21639 queries. users per second: 4736.34</pre>"
      ],
      "text/plain": [
       "recommendations finished on 13000/21639 queries. users per second: 4736.34"
      ]
     },
     "metadata": {},
     "output_type": "display_data"
    },
    {
     "data": {
      "text/html": [
       "<pre>recommendations finished on 14000/21639 queries. users per second: 4655.66</pre>"
      ],
      "text/plain": [
       "recommendations finished on 14000/21639 queries. users per second: 4655.66"
      ]
     },
     "metadata": {},
     "output_type": "display_data"
    },
    {
     "data": {
      "text/html": [
       "<pre>recommendations finished on 15000/21639 queries. users per second: 4600.53</pre>"
      ],
      "text/plain": [
       "recommendations finished on 15000/21639 queries. users per second: 4600.53"
      ]
     },
     "metadata": {},
     "output_type": "display_data"
    },
    {
     "data": {
      "text/html": [
       "<pre>recommendations finished on 16000/21639 queries. users per second: 4496.85</pre>"
      ],
      "text/plain": [
       "recommendations finished on 16000/21639 queries. users per second: 4496.85"
      ]
     },
     "metadata": {},
     "output_type": "display_data"
    },
    {
     "data": {
      "text/html": [
       "<pre>recommendations finished on 17000/21639 queries. users per second: 4348.89</pre>"
      ],
      "text/plain": [
       "recommendations finished on 17000/21639 queries. users per second: 4348.89"
      ]
     },
     "metadata": {},
     "output_type": "display_data"
    },
    {
     "data": {
      "text/html": [
       "<pre>recommendations finished on 18000/21639 queries. users per second: 4291.05</pre>"
      ],
      "text/plain": [
       "recommendations finished on 18000/21639 queries. users per second: 4291.05"
      ]
     },
     "metadata": {},
     "output_type": "display_data"
    },
    {
     "data": {
      "text/html": [
       "<pre>recommendations finished on 19000/21639 queries. users per second: 4261.97</pre>"
      ],
      "text/plain": [
       "recommendations finished on 19000/21639 queries. users per second: 4261.97"
      ]
     },
     "metadata": {},
     "output_type": "display_data"
    },
    {
     "data": {
      "text/html": [
       "<pre>recommendations finished on 20000/21639 queries. users per second: 4275.66</pre>"
      ],
      "text/plain": [
       "recommendations finished on 20000/21639 queries. users per second: 4275.66"
      ]
     },
     "metadata": {},
     "output_type": "display_data"
    },
    {
     "data": {
      "text/html": [
       "<pre>recommendations finished on 21000/21639 queries. users per second: 4324.01</pre>"
      ],
      "text/plain": [
       "recommendations finished on 21000/21639 queries. users per second: 4324.01"
      ]
     },
     "metadata": {},
     "output_type": "display_data"
    },
    {
     "name": "stdout",
     "output_type": "stream",
     "text": [
      "\n",
      "Precision and recall summary statistics by cutoff\n",
      "+--------+------------------------+------------------------+\n",
      "| cutoff |     mean_precision     |      mean_recall       |\n",
      "+--------+------------------------+------------------------+\n",
      "|   1    |          0.0           |          0.0           |\n",
      "|   2    |          0.0           |          0.0           |\n",
      "|   3    |          0.0           |          0.0           |\n",
      "|   4    |          0.0           |          0.0           |\n",
      "|   5    |  9.24257128333109e-06  | 4.621285641665475e-05  |\n",
      "|   6    | 7.702142736109111e-06  | 4.621285641665475e-05  |\n",
      "|   7    | 6.601836630950782e-06  | 4.621285641665475e-05  |\n",
      "|   8    | 5.776607052081843e-06  | 4.621285641665475e-05  |\n",
      "|   9    | 1.026952364814562e-05  | 9.242571283330982e-05  |\n",
      "|   10   | 1.3863856924996644e-05 | 0.00013863856924996524 |\n",
      "+--------+------------------------+------------------------+\n",
      "[10 rows x 3 columns]\n",
      "\n",
      "\n",
      "Overall RMSE: 0.42738798502285097\n",
      "\n",
      "Per User RMSE (best)\n",
      "+-------------------------------+------+-------+\n",
      "|       customer_unique_id      | rmse | count |\n",
      "+-------------------------------+------+-------+\n",
      "| 86d5d204e043ccbcabfcc629cc... | 0.0  |   1   |\n",
      "+-------------------------------+------+-------+\n",
      "[1 rows x 3 columns]\n",
      "\n",
      "\n",
      "Per User RMSE (worst)\n",
      "+-------------------------------+------+-------+\n",
      "|       customer_unique_id      | rmse | count |\n",
      "+-------------------------------+------+-------+\n",
      "| d99f0b310be3fef729a481b4f8... | 1.0  |   1   |\n",
      "+-------------------------------+------+-------+\n",
      "[1 rows x 3 columns]\n",
      "\n",
      "\n",
      "Per Item RMSE (best)\n",
      "+-------------------------------+------+-------+\n",
      "|           product_id          | rmse | count |\n",
      "+-------------------------------+------+-------+\n",
      "| 9007d9a8a0d332c61d9dd611fa... | 0.0  |   6   |\n",
      "+-------------------------------+------+-------+\n",
      "[1 rows x 3 columns]\n",
      "\n",
      "\n",
      "Per Item RMSE (worst)\n",
      "+-------------------------------+------+-------+\n",
      "|           product_id          | rmse | count |\n",
      "+-------------------------------+------+-------+\n",
      "| a8557b8cc2880e245f6e7b7dbb... | 1.0  |   2   |\n",
      "+-------------------------------+------+-------+\n",
      "[1 rows x 3 columns]\n",
      "\n",
      "PROGRESS: Evaluate model Cosine Similarity on Dummy\n"
     ]
    },
    {
     "data": {
      "text/html": [
       "<pre>recommendations finished on 1000/21639 queries. users per second: 2872.12</pre>"
      ],
      "text/plain": [
       "recommendations finished on 1000/21639 queries. users per second: 2872.12"
      ]
     },
     "metadata": {},
     "output_type": "display_data"
    },
    {
     "data": {
      "text/html": [
       "<pre>recommendations finished on 2000/21639 queries. users per second: 3172.38</pre>"
      ],
      "text/plain": [
       "recommendations finished on 2000/21639 queries. users per second: 3172.38"
      ]
     },
     "metadata": {},
     "output_type": "display_data"
    },
    {
     "data": {
      "text/html": [
       "<pre>recommendations finished on 3000/21639 queries. users per second: 3270.35</pre>"
      ],
      "text/plain": [
       "recommendations finished on 3000/21639 queries. users per second: 3270.35"
      ]
     },
     "metadata": {},
     "output_type": "display_data"
    },
    {
     "data": {
      "text/html": [
       "<pre>recommendations finished on 4000/21639 queries. users per second: 3291.91</pre>"
      ],
      "text/plain": [
       "recommendations finished on 4000/21639 queries. users per second: 3291.91"
      ]
     },
     "metadata": {},
     "output_type": "display_data"
    },
    {
     "data": {
      "text/html": [
       "<pre>recommendations finished on 5000/21639 queries. users per second: 3192.41</pre>"
      ],
      "text/plain": [
       "recommendations finished on 5000/21639 queries. users per second: 3192.41"
      ]
     },
     "metadata": {},
     "output_type": "display_data"
    },
    {
     "data": {
      "text/html": [
       "<pre>recommendations finished on 6000/21639 queries. users per second: 3314.29</pre>"
      ],
      "text/plain": [
       "recommendations finished on 6000/21639 queries. users per second: 3314.29"
      ]
     },
     "metadata": {},
     "output_type": "display_data"
    },
    {
     "data": {
      "text/html": [
       "<pre>recommendations finished on 7000/21639 queries. users per second: 3408.3</pre>"
      ],
      "text/plain": [
       "recommendations finished on 7000/21639 queries. users per second: 3408.3"
      ]
     },
     "metadata": {},
     "output_type": "display_data"
    },
    {
     "data": {
      "text/html": [
       "<pre>recommendations finished on 8000/21639 queries. users per second: 3435.33</pre>"
      ],
      "text/plain": [
       "recommendations finished on 8000/21639 queries. users per second: 3435.33"
      ]
     },
     "metadata": {},
     "output_type": "display_data"
    },
    {
     "data": {
      "text/html": [
       "<pre>recommendations finished on 9000/21639 queries. users per second: 3490.91</pre>"
      ],
      "text/plain": [
       "recommendations finished on 9000/21639 queries. users per second: 3490.91"
      ]
     },
     "metadata": {},
     "output_type": "display_data"
    },
    {
     "data": {
      "text/html": [
       "<pre>recommendations finished on 10000/21639 queries. users per second: 3569.22</pre>"
      ],
      "text/plain": [
       "recommendations finished on 10000/21639 queries. users per second: 3569.22"
      ]
     },
     "metadata": {},
     "output_type": "display_data"
    },
    {
     "data": {
      "text/html": [
       "<pre>recommendations finished on 11000/21639 queries. users per second: 3615.81</pre>"
      ],
      "text/plain": [
       "recommendations finished on 11000/21639 queries. users per second: 3615.81"
      ]
     },
     "metadata": {},
     "output_type": "display_data"
    },
    {
     "data": {
      "text/html": [
       "<pre>recommendations finished on 12000/21639 queries. users per second: 3606.19</pre>"
      ],
      "text/plain": [
       "recommendations finished on 12000/21639 queries. users per second: 3606.19"
      ]
     },
     "metadata": {},
     "output_type": "display_data"
    },
    {
     "data": {
      "text/html": [
       "<pre>recommendations finished on 13000/21639 queries. users per second: 3638.42</pre>"
      ],
      "text/plain": [
       "recommendations finished on 13000/21639 queries. users per second: 3638.42"
      ]
     },
     "metadata": {},
     "output_type": "display_data"
    },
    {
     "data": {
      "text/html": [
       "<pre>recommendations finished on 14000/21639 queries. users per second: 3683.06</pre>"
      ],
      "text/plain": [
       "recommendations finished on 14000/21639 queries. users per second: 3683.06"
      ]
     },
     "metadata": {},
     "output_type": "display_data"
    },
    {
     "data": {
      "text/html": [
       "<pre>recommendations finished on 15000/21639 queries. users per second: 3714.77</pre>"
      ],
      "text/plain": [
       "recommendations finished on 15000/21639 queries. users per second: 3714.77"
      ]
     },
     "metadata": {},
     "output_type": "display_data"
    },
    {
     "data": {
      "text/html": [
       "<pre>recommendations finished on 16000/21639 queries. users per second: 3727.73</pre>"
      ],
      "text/plain": [
       "recommendations finished on 16000/21639 queries. users per second: 3727.73"
      ]
     },
     "metadata": {},
     "output_type": "display_data"
    },
    {
     "data": {
      "text/html": [
       "<pre>recommendations finished on 17000/21639 queries. users per second: 3747.11</pre>"
      ],
      "text/plain": [
       "recommendations finished on 17000/21639 queries. users per second: 3747.11"
      ]
     },
     "metadata": {},
     "output_type": "display_data"
    },
    {
     "data": {
      "text/html": [
       "<pre>recommendations finished on 18000/21639 queries. users per second: 3681.6</pre>"
      ],
      "text/plain": [
       "recommendations finished on 18000/21639 queries. users per second: 3681.6"
      ]
     },
     "metadata": {},
     "output_type": "display_data"
    },
    {
     "data": {
      "text/html": [
       "<pre>recommendations finished on 19000/21639 queries. users per second: 3660.74</pre>"
      ],
      "text/plain": [
       "recommendations finished on 19000/21639 queries. users per second: 3660.74"
      ]
     },
     "metadata": {},
     "output_type": "display_data"
    },
    {
     "data": {
      "text/html": [
       "<pre>recommendations finished on 20000/21639 queries. users per second: 3645.01</pre>"
      ],
      "text/plain": [
       "recommendations finished on 20000/21639 queries. users per second: 3645.01"
      ]
     },
     "metadata": {},
     "output_type": "display_data"
    },
    {
     "data": {
      "text/html": [
       "<pre>recommendations finished on 21000/21639 queries. users per second: 3664.96</pre>"
      ],
      "text/plain": [
       "recommendations finished on 21000/21639 queries. users per second: 3664.96"
      ]
     },
     "metadata": {},
     "output_type": "display_data"
    },
    {
     "name": "stdout",
     "output_type": "stream",
     "text": [
      "\n",
      "Precision and recall summary statistics by cutoff\n",
      "+--------+-----------------------+-----------------------+\n",
      "| cutoff |     mean_precision    |      mean_recall      |\n",
      "+--------+-----------------------+-----------------------+\n",
      "|   1    | 0.0010628956975830728 | 0.0009589167706455961 |\n",
      "|   2    | 0.0009242571283331097 | 0.0017214289015204027 |\n",
      "|   3    | 0.0007856185590831319 | 0.0021951106797911324 |\n",
      "|   4    | 0.0006007671334165195 |  0.00224132353620778  |\n",
      "|   5    | 0.0007578908452331441 |  0.003558389944082463 |\n",
      "|   6    |  0.001039789269374745 |  0.005815117765762442 |\n",
      "|   7    | 0.0010034791679045087 |  0.006554523468428927 |\n",
      "|   8    | 0.0008895974860206126 |  0.00664694918126221  |\n",
      "|   9    | 0.0007958880827312795 | 0.0066931620376788825 |\n",
      "|   10   | 0.0007209205600998223 |  0.006739374894095531 |\n",
      "+--------+-----------------------+-----------------------+\n",
      "[10 rows x 3 columns]\n",
      "\n",
      "\n",
      "Overall RMSE: 0.9999120736065448\n",
      "\n",
      "Per User RMSE (best)\n",
      "+-------------------------------+-------------------+-------+\n",
      "|       customer_unique_id      |        rmse       | count |\n",
      "+-------------------------------+-------------------+-------+\n",
      "| 62f6dc882378c3c86ab88d18a4... | 0.913969099521637 |   1   |\n",
      "+-------------------------------+-------------------+-------+\n",
      "[1 rows x 3 columns]\n",
      "\n",
      "\n",
      "Per User RMSE (worst)\n",
      "+-------------------------------+------+-------+\n",
      "|       customer_unique_id      | rmse | count |\n",
      "+-------------------------------+------+-------+\n",
      "| 1420e793ce84ed2ea19d14996a... | 1.0  |   1   |\n",
      "+-------------------------------+------+-------+\n",
      "[1 rows x 3 columns]\n",
      "\n",
      "\n",
      "Per Item RMSE (best)\n",
      "+-------------------------------+--------------------+-------+\n",
      "|           product_id          |        rmse        | count |\n",
      "+-------------------------------+--------------------+-------+\n",
      "| 787268a8ccbecd1ae02d8001b6... | 0.9568066000938416 |   1   |\n",
      "+-------------------------------+--------------------+-------+\n",
      "[1 rows x 3 columns]\n",
      "\n",
      "\n",
      "Per Item RMSE (worst)\n",
      "+-------------------------------+------+-------+\n",
      "|           product_id          | rmse | count |\n",
      "+-------------------------------+------+-------+\n",
      "| 143c616ec3fe0cb065c3805cf9... | 1.0  |   1   |\n",
      "+-------------------------------+------+-------+\n",
      "[1 rows x 3 columns]\n",
      "\n",
      "PROGRESS: Evaluate model Pearson Similarity on Dummy\n"
     ]
    },
    {
     "data": {
      "text/html": [
       "<pre>recommendations finished on 1000/21639 queries. users per second: 2434.9</pre>"
      ],
      "text/plain": [
       "recommendations finished on 1000/21639 queries. users per second: 2434.9"
      ]
     },
     "metadata": {},
     "output_type": "display_data"
    },
    {
     "data": {
      "text/html": [
       "<pre>recommendations finished on 2000/21639 queries. users per second: 2584.87</pre>"
      ],
      "text/plain": [
       "recommendations finished on 2000/21639 queries. users per second: 2584.87"
      ]
     },
     "metadata": {},
     "output_type": "display_data"
    },
    {
     "data": {
      "text/html": [
       "<pre>recommendations finished on 3000/21639 queries. users per second: 2565.01</pre>"
      ],
      "text/plain": [
       "recommendations finished on 3000/21639 queries. users per second: 2565.01"
      ]
     },
     "metadata": {},
     "output_type": "display_data"
    },
    {
     "data": {
      "text/html": [
       "<pre>recommendations finished on 4000/21639 queries. users per second: 2621.73</pre>"
      ],
      "text/plain": [
       "recommendations finished on 4000/21639 queries. users per second: 2621.73"
      ]
     },
     "metadata": {},
     "output_type": "display_data"
    },
    {
     "data": {
      "text/html": [
       "<pre>recommendations finished on 5000/21639 queries. users per second: 2659.28</pre>"
      ],
      "text/plain": [
       "recommendations finished on 5000/21639 queries. users per second: 2659.28"
      ]
     },
     "metadata": {},
     "output_type": "display_data"
    },
    {
     "data": {
      "text/html": [
       "<pre>recommendations finished on 6000/21639 queries. users per second: 2617.95</pre>"
      ],
      "text/plain": [
       "recommendations finished on 6000/21639 queries. users per second: 2617.95"
      ]
     },
     "metadata": {},
     "output_type": "display_data"
    },
    {
     "data": {
      "text/html": [
       "<pre>recommendations finished on 7000/21639 queries. users per second: 2617.81</pre>"
      ],
      "text/plain": [
       "recommendations finished on 7000/21639 queries. users per second: 2617.81"
      ]
     },
     "metadata": {},
     "output_type": "display_data"
    },
    {
     "data": {
      "text/html": [
       "<pre>recommendations finished on 8000/21639 queries. users per second: 2682.08</pre>"
      ],
      "text/plain": [
       "recommendations finished on 8000/21639 queries. users per second: 2682.08"
      ]
     },
     "metadata": {},
     "output_type": "display_data"
    },
    {
     "data": {
      "text/html": [
       "<pre>recommendations finished on 9000/21639 queries. users per second: 2706.23</pre>"
      ],
      "text/plain": [
       "recommendations finished on 9000/21639 queries. users per second: 2706.23"
      ]
     },
     "metadata": {},
     "output_type": "display_data"
    },
    {
     "data": {
      "text/html": [
       "<pre>recommendations finished on 10000/21639 queries. users per second: 2759.24</pre>"
      ],
      "text/plain": [
       "recommendations finished on 10000/21639 queries. users per second: 2759.24"
      ]
     },
     "metadata": {},
     "output_type": "display_data"
    },
    {
     "data": {
      "text/html": [
       "<pre>recommendations finished on 11000/21639 queries. users per second: 2806.49</pre>"
      ],
      "text/plain": [
       "recommendations finished on 11000/21639 queries. users per second: 2806.49"
      ]
     },
     "metadata": {},
     "output_type": "display_data"
    },
    {
     "data": {
      "text/html": [
       "<pre>recommendations finished on 12000/21639 queries. users per second: 2782.85</pre>"
      ],
      "text/plain": [
       "recommendations finished on 12000/21639 queries. users per second: 2782.85"
      ]
     },
     "metadata": {},
     "output_type": "display_data"
    },
    {
     "data": {
      "text/html": [
       "<pre>recommendations finished on 13000/21639 queries. users per second: 2744.34</pre>"
      ],
      "text/plain": [
       "recommendations finished on 13000/21639 queries. users per second: 2744.34"
      ]
     },
     "metadata": {},
     "output_type": "display_data"
    },
    {
     "data": {
      "text/html": [
       "<pre>recommendations finished on 14000/21639 queries. users per second: 2756.31</pre>"
      ],
      "text/plain": [
       "recommendations finished on 14000/21639 queries. users per second: 2756.31"
      ]
     },
     "metadata": {},
     "output_type": "display_data"
    },
    {
     "data": {
      "text/html": [
       "<pre>recommendations finished on 15000/21639 queries. users per second: 2755.53</pre>"
      ],
      "text/plain": [
       "recommendations finished on 15000/21639 queries. users per second: 2755.53"
      ]
     },
     "metadata": {},
     "output_type": "display_data"
    },
    {
     "data": {
      "text/html": [
       "<pre>recommendations finished on 16000/21639 queries. users per second: 2762.78</pre>"
      ],
      "text/plain": [
       "recommendations finished on 16000/21639 queries. users per second: 2762.78"
      ]
     },
     "metadata": {},
     "output_type": "display_data"
    },
    {
     "data": {
      "text/html": [
       "<pre>recommendations finished on 17000/21639 queries. users per second: 2704.22</pre>"
      ],
      "text/plain": [
       "recommendations finished on 17000/21639 queries. users per second: 2704.22"
      ]
     },
     "metadata": {},
     "output_type": "display_data"
    },
    {
     "data": {
      "text/html": [
       "<pre>recommendations finished on 18000/21639 queries. users per second: 2659.17</pre>"
      ],
      "text/plain": [
       "recommendations finished on 18000/21639 queries. users per second: 2659.17"
      ]
     },
     "metadata": {},
     "output_type": "display_data"
    },
    {
     "data": {
      "text/html": [
       "<pre>recommendations finished on 19000/21639 queries. users per second: 2619.51</pre>"
      ],
      "text/plain": [
       "recommendations finished on 19000/21639 queries. users per second: 2619.51"
      ]
     },
     "metadata": {},
     "output_type": "display_data"
    },
    {
     "data": {
      "text/html": [
       "<pre>recommendations finished on 20000/21639 queries. users per second: 2575.45</pre>"
      ],
      "text/plain": [
       "recommendations finished on 20000/21639 queries. users per second: 2575.45"
      ]
     },
     "metadata": {},
     "output_type": "display_data"
    },
    {
     "data": {
      "text/html": [
       "<pre>recommendations finished on 21000/21639 queries. users per second: 2579.67</pre>"
      ],
      "text/plain": [
       "recommendations finished on 21000/21639 queries. users per second: 2579.67"
      ]
     },
     "metadata": {},
     "output_type": "display_data"
    },
    {
     "name": "stdout",
     "output_type": "stream",
     "text": [
      "\n",
      "Precision and recall summary statistics by cutoff\n",
      "+--------+------------------------+------------------------+\n",
      "| cutoff |     mean_precision     |      mean_recall       |\n",
      "+--------+------------------------+------------------------+\n",
      "|   1    |          0.0           |          0.0           |\n",
      "|   2    |          0.0           |          0.0           |\n",
      "|   3    |          0.0           |          0.0           |\n",
      "|   4    |          0.0           |          0.0           |\n",
      "|   5    |  9.24257128333109e-06  | 4.6212856416654645e-05 |\n",
      "|   6    | 1.5404285472218323e-05 | 9.242571283330971e-05  |\n",
      "|   7    | 1.3203673261901525e-05 | 9.242571283330971e-05  |\n",
      "|   8    | 1.1553214104163714e-05 | 9.242571283330971e-05  |\n",
      "|   9    | 1.5404285472218388e-05 | 0.00013863856924996537 |\n",
      "|   10   | 1.8485142566662103e-05 | 0.00018485142566661942 |\n",
      "+--------+------------------------+------------------------+\n",
      "[10 rows x 3 columns]\n",
      "\n",
      "\n",
      "Overall RMSE: 0.42738798502285097\n",
      "\n",
      "Per User RMSE (best)\n",
      "+-------------------------------+------+-------+\n",
      "|       customer_unique_id      | rmse | count |\n",
      "+-------------------------------+------+-------+\n",
      "| 86d5d204e043ccbcabfcc629cc... | 0.0  |   1   |\n",
      "+-------------------------------+------+-------+\n",
      "[1 rows x 3 columns]\n",
      "\n",
      "\n",
      "Per User RMSE (worst)\n",
      "+-------------------------------+------+-------+\n",
      "|       customer_unique_id      | rmse | count |\n",
      "+-------------------------------+------+-------+\n",
      "| d99f0b310be3fef729a481b4f8... | 1.0  |   1   |\n",
      "+-------------------------------+------+-------+\n",
      "[1 rows x 3 columns]\n",
      "\n",
      "\n",
      "Per Item RMSE (best)\n",
      "+-------------------------------+------+-------+\n",
      "|           product_id          | rmse | count |\n",
      "+-------------------------------+------+-------+\n",
      "| 9007d9a8a0d332c61d9dd611fa... | 0.0  |   6   |\n",
      "+-------------------------------+------+-------+\n",
      "[1 rows x 3 columns]\n",
      "\n",
      "\n",
      "Per Item RMSE (worst)\n",
      "+-------------------------------+------+-------+\n",
      "|           product_id          | rmse | count |\n",
      "+-------------------------------+------+-------+\n",
      "| a8557b8cc2880e245f6e7b7dbb... | 1.0  |   2   |\n",
      "+-------------------------------+------+-------+\n",
      "[1 rows x 3 columns]\n",
      "\n"
     ]
    }
   ],
   "source": [
    "eval_dummy = tc.recommender.util.compare_models(test_data_dummy, models_w_dummy, model_names=names_w_dummy)"
   ]
  },
  {
   "cell_type": "code",
   "execution_count": 249,
   "metadata": {
    "scrolled": true
   },
   "outputs": [
    {
     "data": {
      "text/html": [
       "<div style=\"max-height:1000px;max-width:1500px;overflow:auto;\"><table frame=\"box\" rules=\"cols\">\n",
       "    <tr>\n",
       "        <th style=\"padding-left: 1em; padding-right: 1em; text-align: center\">customer_unique_id</th>\n",
       "        <th style=\"padding-left: 1em; padding-right: 1em; text-align: center\">product_id</th>\n",
       "        <th style=\"padding-left: 1em; padding-right: 1em; text-align: center\">score</th>\n",
       "        <th style=\"padding-left: 1em; padding-right: 1em; text-align: center\">rank</th>\n",
       "    </tr>\n",
       "    <tr>\n",
       "        <td style=\"padding-left: 1em; padding-right: 1em; text-align: center; vertical-align: top\">7c396fd4830fd04220f754e42<br>b4e5bff ...</td>\n",
       "        <td style=\"padding-left: 1em; padding-right: 1em; text-align: center; vertical-align: top\">79ce45dbc2ea29b22b5a261bb<br>b7b7ee7 ...</td>\n",
       "        <td style=\"padding-left: 1em; padding-right: 1em; text-align: center; vertical-align: top\">21.0</td>\n",
       "        <td style=\"padding-left: 1em; padding-right: 1em; text-align: center; vertical-align: top\">1</td>\n",
       "    </tr>\n",
       "    <tr>\n",
       "        <td style=\"padding-left: 1em; padding-right: 1em; text-align: center; vertical-align: top\">7c396fd4830fd04220f754e42<br>b4e5bff ...</td>\n",
       "        <td style=\"padding-left: 1em; padding-right: 1em; text-align: center; vertical-align: top\">270516a3f41dc035aa87d2202<br>28f844c ...</td>\n",
       "        <td style=\"padding-left: 1em; padding-right: 1em; text-align: center; vertical-align: top\">16.0</td>\n",
       "        <td style=\"padding-left: 1em; padding-right: 1em; text-align: center; vertical-align: top\">2</td>\n",
       "    </tr>\n",
       "    <tr>\n",
       "        <td style=\"padding-left: 1em; padding-right: 1em; text-align: center; vertical-align: top\">7c396fd4830fd04220f754e42<br>b4e5bff ...</td>\n",
       "        <td style=\"padding-left: 1em; padding-right: 1em; text-align: center; vertical-align: top\">9571759451b1d780ee7c15012<br>ea109d4 ...</td>\n",
       "        <td style=\"padding-left: 1em; padding-right: 1em; text-align: center; vertical-align: top\">11.2</td>\n",
       "        <td style=\"padding-left: 1em; padding-right: 1em; text-align: center; vertical-align: top\">3</td>\n",
       "    </tr>\n",
       "    <tr>\n",
       "        <td style=\"padding-left: 1em; padding-right: 1em; text-align: center; vertical-align: top\">7c396fd4830fd04220f754e42<br>b4e5bff ...</td>\n",
       "        <td style=\"padding-left: 1em; padding-right: 1em; text-align: center; vertical-align: top\">bf44071ef18f5c9ded039681c<br>68b1996 ...</td>\n",
       "        <td style=\"padding-left: 1em; padding-right: 1em; text-align: center; vertical-align: top\">11.0</td>\n",
       "        <td style=\"padding-left: 1em; padding-right: 1em; text-align: center; vertical-align: top\">4</td>\n",
       "    </tr>\n",
       "    <tr>\n",
       "        <td style=\"padding-left: 1em; padding-right: 1em; text-align: center; vertical-align: top\">7c396fd4830fd04220f754e42<br>b4e5bff ...</td>\n",
       "        <td style=\"padding-left: 1em; padding-right: 1em; text-align: center; vertical-align: top\">e95fb3a80ca294f39de925b64<br>28f3a32 ...</td>\n",
       "        <td style=\"padding-left: 1em; padding-right: 1em; text-align: center; vertical-align: top\">8.5</td>\n",
       "        <td style=\"padding-left: 1em; padding-right: 1em; text-align: center; vertical-align: top\">5</td>\n",
       "    </tr>\n",
       "    <tr>\n",
       "        <td style=\"padding-left: 1em; padding-right: 1em; text-align: center; vertical-align: top\">7c396fd4830fd04220f754e42<br>b4e5bff ...</td>\n",
       "        <td style=\"padding-left: 1em; padding-right: 1em; text-align: center; vertical-align: top\">d25bbb182b51d1594fe3b54a2<br>7ae143e ...</td>\n",
       "        <td style=\"padding-left: 1em; padding-right: 1em; text-align: center; vertical-align: top\">8.5</td>\n",
       "        <td style=\"padding-left: 1em; padding-right: 1em; text-align: center; vertical-align: top\">6</td>\n",
       "    </tr>\n",
       "    <tr>\n",
       "        <td style=\"padding-left: 1em; padding-right: 1em; text-align: center; vertical-align: top\">7c396fd4830fd04220f754e42<br>b4e5bff ...</td>\n",
       "        <td style=\"padding-left: 1em; padding-right: 1em; text-align: center; vertical-align: top\">37eb69aca8718e843d897aa7b<br>82f462d ...</td>\n",
       "        <td style=\"padding-left: 1em; padding-right: 1em; text-align: center; vertical-align: top\">8.25</td>\n",
       "        <td style=\"padding-left: 1em; padding-right: 1em; text-align: center; vertical-align: top\">7</td>\n",
       "    </tr>\n",
       "    <tr>\n",
       "        <td style=\"padding-left: 1em; padding-right: 1em; text-align: center; vertical-align: top\">7c396fd4830fd04220f754e42<br>b4e5bff ...</td>\n",
       "        <td style=\"padding-left: 1em; padding-right: 1em; text-align: center; vertical-align: top\">ac1ad58efc1ebf66bfadc09f2<br>9bdedc0 ...</td>\n",
       "        <td style=\"padding-left: 1em; padding-right: 1em; text-align: center; vertical-align: top\">7.333333333333333</td>\n",
       "        <td style=\"padding-left: 1em; padding-right: 1em; text-align: center; vertical-align: top\">8</td>\n",
       "    </tr>\n",
       "    <tr>\n",
       "        <td style=\"padding-left: 1em; padding-right: 1em; text-align: center; vertical-align: top\">7c396fd4830fd04220f754e42<br>b4e5bff ...</td>\n",
       "        <td style=\"padding-left: 1em; padding-right: 1em; text-align: center; vertical-align: top\">d05bb6074b45c20f7a516c239<br>c0a1c43 ...</td>\n",
       "        <td style=\"padding-left: 1em; padding-right: 1em; text-align: center; vertical-align: top\">7.0</td>\n",
       "        <td style=\"padding-left: 1em; padding-right: 1em; text-align: center; vertical-align: top\">9</td>\n",
       "    </tr>\n",
       "    <tr>\n",
       "        <td style=\"padding-left: 1em; padding-right: 1em; text-align: center; vertical-align: top\">7c396fd4830fd04220f754e42<br>b4e5bff ...</td>\n",
       "        <td style=\"padding-left: 1em; padding-right: 1em; text-align: center; vertical-align: top\">61b6e5d2e3ee58d2b341b8ef1<br>a652b26 ...</td>\n",
       "        <td style=\"padding-left: 1em; padding-right: 1em; text-align: center; vertical-align: top\">7.0</td>\n",
       "        <td style=\"padding-left: 1em; padding-right: 1em; text-align: center; vertical-align: top\">10</td>\n",
       "    </tr>\n",
       "</table>\n",
       "[10 rows x 4 columns]<br/>\n",
       "</div>"
      ],
      "text/plain": [
       "Columns:\n",
       "\tcustomer_unique_id\tstr\n",
       "\tproduct_id\tstr\n",
       "\tscore\tfloat\n",
       "\trank\tint\n",
       "\n",
       "Rows: 10\n",
       "\n",
       "Data:\n",
       "+-------------------------------+-------------------------------+\n",
       "|       customer_unique_id      |           product_id          |\n",
       "+-------------------------------+-------------------------------+\n",
       "| 7c396fd4830fd04220f754e42b... | 79ce45dbc2ea29b22b5a261bbb... |\n",
       "| 7c396fd4830fd04220f754e42b... | 270516a3f41dc035aa87d22022... |\n",
       "| 7c396fd4830fd04220f754e42b... | 9571759451b1d780ee7c15012e... |\n",
       "| 7c396fd4830fd04220f754e42b... | bf44071ef18f5c9ded039681c6... |\n",
       "| 7c396fd4830fd04220f754e42b... | e95fb3a80ca294f39de925b642... |\n",
       "| 7c396fd4830fd04220f754e42b... | d25bbb182b51d1594fe3b54a27... |\n",
       "| 7c396fd4830fd04220f754e42b... | 37eb69aca8718e843d897aa7b8... |\n",
       "| 7c396fd4830fd04220f754e42b... | ac1ad58efc1ebf66bfadc09f29... |\n",
       "| 7c396fd4830fd04220f754e42b... | d05bb6074b45c20f7a516c239c... |\n",
       "| 7c396fd4830fd04220f754e42b... | 61b6e5d2e3ee58d2b341b8ef1a... |\n",
       "+-------------------------------+-------------------------------+\n",
       "+-------------------+------+\n",
       "|       score       | rank |\n",
       "+-------------------+------+\n",
       "|        21.0       |  1   |\n",
       "|        16.0       |  2   |\n",
       "|        11.2       |  3   |\n",
       "|        11.0       |  4   |\n",
       "|        8.5        |  5   |\n",
       "|        8.5        |  6   |\n",
       "|        8.25       |  7   |\n",
       "| 7.333333333333333 |  8   |\n",
       "|        7.0        |  9   |\n",
       "|        7.0        |  10  |\n",
       "+-------------------+------+\n",
       "[10 rows x 4 columns]"
      ]
     },
     "execution_count": 249,
     "metadata": {},
     "output_type": "execute_result"
    }
   ],
   "source": [
    "popularity.recommend([\"7c396fd4830fd04220f754e42b4e5bff\"])"
   ]
  },
  {
   "cell_type": "code",
   "execution_count": null,
   "metadata": {},
   "outputs": [],
   "source": []
  }
 ],
 "metadata": {
  "kernelspec": {
   "display_name": "Python 3",
   "language": "python",
   "name": "python3"
  },
  "language_info": {
   "codemirror_mode": {
    "name": "ipython",
    "version": 3
   },
   "file_extension": ".py",
   "mimetype": "text/x-python",
   "name": "python",
   "nbconvert_exporter": "python",
   "pygments_lexer": "ipython3",
   "version": "3.6.0"
  }
 },
 "nbformat": 4,
 "nbformat_minor": 2
}
